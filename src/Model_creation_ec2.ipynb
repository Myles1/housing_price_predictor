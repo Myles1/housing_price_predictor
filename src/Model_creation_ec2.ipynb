{
 "cells": [
  {
   "cell_type": "markdown",
   "metadata": {},
   "source": [
    "#GOALS#\n",
    "\n",
    "model_create\n",
    "1. Connect to DataBase\n",
    "2. Query for data\n",
    "3. Read into DataFrame\n",
    "    1. Keep only rows with data that will be used\n",
    "    2. DateTime\n",
    "    3. As-Is/Scale/Dummy\n",
    "    4. Fill NaNs\n",
    "    5. Shuffle\n",
    "    6. Collect features that will be used to train the model\n",
    "4. Train model\n",
    "\n",
    "app\n",
    "1. Accept address as input\n",
    "2. Gather address data from DataFrame in step #3 of model_create\n",
    "3. Adjust year and month to current date\n",
    "4. model.predict"
   ]
  },
  {
   "cell_type": "code",
<<<<<<< Updated upstream
   "execution_count": 51,
   "metadata": {},
   "outputs": [],
=======
   "execution_count": 1,
   "metadata": {
    "collapsed": false
   },
   "outputs": [
    {
     "name": "stderr",
     "output_type": "stream",
     "text": [
      "/home/ubuntu/anaconda3/lib/python3.6/site-packages/sklearn/cross_validation.py:44: DeprecationWarning: This module was deprecated in version 0.18 in favor of the model_selection module into which all the refactored classes and functions are moved. Also note that the interface of the new CV iterators are different from that of this module. This module will be removed in 0.20.\n",
      "  \"This module will be removed in 0.20.\", DeprecationWarning)\n"
     ]
    }
   ],
>>>>>>> Stashed changes
   "source": [
    "# Database connect\n",
    "import psycopg2\n",
    "\n",
    "# Numpy arrays\n",
    "import numpy as np\n",
    "\n",
    "# DataFrames\n",
    "import pandas as pd\n",
    "pd.set_option('display.max_columns', 500)\n",
    "\n",
    "# Plotting\n",
    "import matplotlib.pyplot as plt\n",
    "%matplotlib inline\n",
    "plt.style.use('ggplot')\n",
    "\n",
    "# Models\n",
    "from xgboost import XGBRegressor\n",
    "from sklearn.linear_model import LinearRegression, Lasso, Ridge\n",
    "from sklearn.ensemble import RandomForestRegressor, GradientBoostingRegressor\n",
    "from sklearn.svm import SVR\n",
    "\n",
    "# Cross validation\n",
    "from sklearn.cross_validation import train_test_split, cross_val_score\n",
    "from sklearn.ensemble.partial_dependence import plot_partial_dependence\n",
    "from sklearn.model_selection import KFold, ShuffleSplit\n",
    "from sklearn.metrics import mean_squared_error, mean_absolute_error, median_absolute_error, make_scorer\n",
    "scorer_ = make_scorer(median_absolute_error)\n",
    "\n",
    "# Preprocessing\n",
    "from sklearn.preprocessing import StandardScaler\n",
    "from sklearn.utils import shuffle\n",
    "\n",
    "# Print Function\n",
    "from pprint import pprint"
   ]
  },
  {
   "cell_type": "markdown",
   "metadata": {},
   "source": [
    "model_create goal #1"
   ]
  },
  {
   "cell_type": "code",
   "execution_count": 52,
   "metadata": {
    "collapsed": true
   },
   "outputs": [],
   "source": [
    "db_info = {\n",
    "    'user':'app_connect',\n",
    "    'database':'real_estate_data',\n",
    "    'host' : 'localhost',\n",
    "    'port' : 5432,\n",
    "    'password' : 'flying_horse536'\n",
    "}\n",
    "conn = psycopg2.connect(**db_info)\n",
    "cur = conn.cursor()"
   ]
  },
  {
   "cell_type": "markdown",
   "metadata": {},
   "source": [
    "model_create goal #2"
   ]
  },
  {
   "cell_type": "code",
   "execution_count": 53,
   "metadata": {
    "collapsed": true
   },
   "outputs": [],
   "source": [
    "def execute_query(q):\n",
    "    ''' Execute an SQL query string (q) on the current connected database.\n",
    "    '''\n",
    "    conn.rollback()\n",
    "    cur.execute(q)\n",
    "    conn.commit()\n",
    "    return cur.fetchall(), cur.description"
   ]
  },
  {
   "cell_type": "code",
   "execution_count": 54,
   "metadata": {
    "collapsed": true
   },
   "outputs": [],
   "source": [
    "query = '''\n",
    "    SELECT *\n",
    "    FROM sales_info s\n",
    "    LEFT JOIN property_info p\n",
    "    ON s.major = p.major AND s.minor = p.minor\n",
    "    LEFT JOIN unit_breakdown u\n",
    "    ON s.major = u.major and s.minor = u.minor\n",
    "    ;\n",
    "'''"
   ]
  },
  {
   "cell_type": "markdown",
   "metadata": {},
   "source": [
    "model_create goal #3"
   ]
  },
  {
   "cell_type": "code",
<<<<<<< Updated upstream
   "execution_count": 55,
=======
   "execution_count": 93,
>>>>>>> Stashed changes
   "metadata": {
    "collapsed": true
   },
   "outputs": [],
   "source": [
    "# Get query result and description from the execute_query function\n",
    "query_result, description = execute_query(query)\n",
    "# description is a dict, with 'name' as one of the keys. Grab all names from the columns\n",
    "column_names = [d.name for d in description]"
   ]
  },
  {
   "cell_type": "code",
   "execution_count": 70,
   "metadata": {
    "collapsed": true
   },
   "outputs": [],
   "source": [
    "# Read data from query result into a Pandas DataFrame. Column names are gathered from the description\n",
    "df = pd.DataFrame(query_result, columns=column_names)"
   ]
  },
  {
   "cell_type": "markdown",
   "metadata": {},
   "source": [
    "model_create goal #3.B"
   ]
  },
  {
   "cell_type": "code",
   "execution_count": 71,
   "metadata": {
    "collapsed": true
   },
   "outputs": [],
   "source": [
    "# Change 'DocumentDate' to DateTime\n",
    "df['document_date'] = pd.to_datetime(df['document_date'])\n",
    "# Get SaleYear and SaleMonth columns out of the DateTime object\n",
    "df['sale_year'] = pd.DatetimeIndex(df['document_date']).year\n",
    "#df['sale_year'] -= df['sale_year'].min()\n",
    "df['sale_month'] = pd.DatetimeIndex(df['document_date']).month"
   ]
  },
  {
   "cell_type": "markdown",
   "metadata": {},
   "source": [
    "model_create goal #3.A"
   ]
  },
  {
   "cell_type": "code",
   "execution_count": 72,
   "metadata": {
    "collapsed": true
   },
   "outputs": [],
   "source": [
    "def filter_df(keep_values, col_name, df):\n",
    "    '''Filters out rows from df[col_name] that are NOT in keep_values\n",
    "    '''\n",
    "    mask = df[col_name].isin(keep_values)\n",
    "    return df[mask]"
   ]
  },
  {
   "cell_type": "code",
   "execution_count": 73,
   "metadata": {
    "collapsed": true
   },
   "outputs": [],
   "source": [
    "'''\n",
    "PrincipalUse value of 6 represents Residential buildings\n",
    "Keep only sales with PrincipalUse value of 6\n",
    "'''\n",
    "principal_use_keep_values = [6]\n",
    "df = filter_df(keep_values=principal_use_keep_values, col_name='principal_use', df=df)\n",
    "\n",
    "'''\n",
    "PropertyType value of 1 represents Land Only\n",
    "PropertyType value of 2 represents Land with New Building\n",
    "PropertyType value of 3 represents Land with Previously Used Building\n",
    "Keep only sales with PropertyType value in [1, 2, 3]\n",
    "'''\n",
    "property_type_keep_values = [1, 2, 3]\n",
    "# property_type_keep_values = [1]\n",
    "df = filter_df(property_type_keep_values, 'property_type', df)\n",
    "\n",
    "'''\n",
    "SaleInstrument value of 3 represents a Statutory Warranty Deed\n",
    "By using this deed, the seller promises the buyer \n",
    "1. The seller is the owner of the property and has the right to sell it\n",
    "2. No one else is possessing the property\n",
    "3. There are no encumbrances against the property\n",
    "4. No one with a better claim to the property will interfere with the transferee’s rights\n",
    "5. The seller will defend certain claims regarding title to the property\n",
    "'''\n",
    "sale_instrument_keep_values = [3]\n",
    "df = filter_df(sale_instrument_keep_values, 'sale_instrument', df)\n",
    "\n",
    "'''\n",
    "Remove years before 1995\n",
    "'''\n",
    "df = df[df['sale_year'] > 1994]\n",
    "\n",
    "# Testing specific years\n",
    "#df = df[df['sale_year'] > 2011]"
   ]
  },
  {
<<<<<<< Updated upstream
=======
   "cell_type": "code",
   "execution_count": 80,
   "metadata": {
    "collapsed": false
   },
   "outputs": [
    {
     "data": {
      "text/html": [
       "<div>\n",
       "<style>\n",
       "    .dataframe thead tr:only-child th {\n",
       "        text-align: right;\n",
       "    }\n",
       "\n",
       "    .dataframe thead th {\n",
       "        text-align: left;\n",
       "    }\n",
       "\n",
       "    .dataframe tbody tr th {\n",
       "        vertical-align: top;\n",
       "    }\n",
       "</style>\n",
       "<table border=\"1\" class=\"dataframe\">\n",
       "  <thead>\n",
       "    <tr style=\"text-align: right;\">\n",
       "      <th></th>\n",
       "      <th>index</th>\n",
       "      <th>sale_year</th>\n",
       "    </tr>\n",
       "  </thead>\n",
       "  <tbody>\n",
       "    <tr>\n",
       "      <th>21</th>\n",
       "      <td>1995</td>\n",
       "      <td>15676</td>\n",
       "    </tr>\n",
       "    <tr>\n",
       "      <th>14</th>\n",
       "      <td>1996</td>\n",
       "      <td>27262</td>\n",
       "    </tr>\n",
       "    <tr>\n",
       "      <th>10</th>\n",
       "      <td>1997</td>\n",
       "      <td>31499</td>\n",
       "    </tr>\n",
       "    <tr>\n",
       "      <th>4</th>\n",
       "      <td>1998</td>\n",
       "      <td>33969</td>\n",
       "    </tr>\n",
       "    <tr>\n",
       "      <th>7</th>\n",
       "      <td>1999</td>\n",
       "      <td>32825</td>\n",
       "    </tr>\n",
       "    <tr>\n",
       "      <th>9</th>\n",
       "      <td>2000</td>\n",
       "      <td>31893</td>\n",
       "    </tr>\n",
       "    <tr>\n",
       "      <th>11</th>\n",
       "      <td>2001</td>\n",
       "      <td>31094</td>\n",
       "    </tr>\n",
       "    <tr>\n",
       "      <th>5</th>\n",
       "      <td>2002</td>\n",
       "      <td>33642</td>\n",
       "    </tr>\n",
       "    <tr>\n",
       "      <th>3</th>\n",
       "      <td>2003</td>\n",
       "      <td>39869</td>\n",
       "    </tr>\n",
       "    <tr>\n",
       "      <th>1</th>\n",
       "      <td>2004</td>\n",
       "      <td>44273</td>\n",
       "    </tr>\n",
       "    <tr>\n",
       "      <th>0</th>\n",
       "      <td>2005</td>\n",
       "      <td>46291</td>\n",
       "    </tr>\n",
       "    <tr>\n",
       "      <th>2</th>\n",
       "      <td>2006</td>\n",
       "      <td>41157</td>\n",
       "    </tr>\n",
       "    <tr>\n",
       "      <th>8</th>\n",
       "      <td>2007</td>\n",
       "      <td>32808</td>\n",
       "    </tr>\n",
       "    <tr>\n",
       "      <th>17</th>\n",
       "      <td>2008</td>\n",
       "      <td>20082</td>\n",
       "    </tr>\n",
       "    <tr>\n",
       "      <th>20</th>\n",
       "      <td>2009</td>\n",
       "      <td>18012</td>\n",
       "    </tr>\n",
       "    <tr>\n",
       "      <th>18</th>\n",
       "      <td>2010</td>\n",
       "      <td>19239</td>\n",
       "    </tr>\n",
       "    <tr>\n",
       "      <th>19</th>\n",
       "      <td>2011</td>\n",
       "      <td>18425</td>\n",
       "    </tr>\n",
       "    <tr>\n",
       "      <th>15</th>\n",
       "      <td>2012</td>\n",
       "      <td>23361</td>\n",
       "    </tr>\n",
       "    <tr>\n",
       "      <th>12</th>\n",
       "      <td>2013</td>\n",
       "      <td>29363</td>\n",
       "    </tr>\n",
       "    <tr>\n",
       "      <th>13</th>\n",
       "      <td>2014</td>\n",
       "      <td>29281</td>\n",
       "    </tr>\n",
       "    <tr>\n",
       "      <th>6</th>\n",
       "      <td>2015</td>\n",
       "      <td>33216</td>\n",
       "    </tr>\n",
       "    <tr>\n",
       "      <th>16</th>\n",
       "      <td>2016</td>\n",
       "      <td>20890</td>\n",
       "    </tr>\n",
       "    <tr>\n",
       "      <th>22</th>\n",
       "      <td>2017</td>\n",
       "      <td>1432</td>\n",
       "    </tr>\n",
       "  </tbody>\n",
       "</table>\n",
       "</div>"
      ],
      "text/plain": [
       "    index  sale_year\n",
       "21   1995      15676\n",
       "14   1996      27262\n",
       "10   1997      31499\n",
       "4    1998      33969\n",
       "7    1999      32825\n",
       "9    2000      31893\n",
       "11   2001      31094\n",
       "5    2002      33642\n",
       "3    2003      39869\n",
       "1    2004      44273\n",
       "0    2005      46291\n",
       "2    2006      41157\n",
       "8    2007      32808\n",
       "17   2008      20082\n",
       "20   2009      18012\n",
       "18   2010      19239\n",
       "19   2011      18425\n",
       "15   2012      23361\n",
       "12   2013      29363\n",
       "13   2014      29281\n",
       "6    2015      33216\n",
       "16   2016      20890\n",
       "22   2017       1432"
      ]
     },
     "execution_count": 80,
     "metadata": {},
     "output_type": "execute_result"
    }
   ],
   "source": [
    "df.sale_year.value_counts().reset_index().sort_values(by='index')"
   ]
  },
  {
>>>>>>> Stashed changes
   "cell_type": "markdown",
   "metadata": {},
   "source": [
    "model_create goal #3.D/E"
   ]
  },
  {
   "cell_type": "code",
   "execution_count": 74,
   "metadata": {
    "collapsed": true
   },
   "outputs": [],
   "source": [
    "# Shuffle dataframe\n",
    "df = shuffle(df)\n",
    "# Fill nans\n",
    "df.fillna(0, inplace=True)"
   ]
  },
  {
<<<<<<< Updated upstream
=======
   "cell_type": "code",
   "execution_count": 82,
   "metadata": {
    "collapsed": true
   },
   "outputs": [],
   "source": [
    "def extract_features_from_df(df):\n",
    "    # Setting up features for model:\n",
    "\n",
    "    # Features:\n",
    "    sales_feature = [\n",
    "        'property_type',\n",
    "        'sale_reason',\n",
    "        'property_class',\n",
    "        'sale_year',\n",
    "        'sale_month'\n",
    "    ]\n",
    "\n",
    "    property_features = [\n",
    "        'nbr_living_units', \n",
    "        'stories',\n",
    "        'bldg_grade',\n",
    "        'bldg_grade_var', \n",
    "        'sq_ft_1st_floor',\n",
    "        'sq_ft_half_floor',\n",
    "        'sq_ft_2nd_floor',\n",
    "        'sq_ft_upper_floor',\n",
    "        'sq_ft_unfin_full',\n",
    "        'sq_ft_unfin_half',\n",
    "        'sq_ft_tot_living',\n",
    "        'sq_ft_tot_basement',\n",
    "        'sq_ft_fin_basement',\n",
    "        'fin_basement_grade',\n",
    "        'sq_ft_garage_basement',\n",
    "        'sq_ft_garage_attached'\n",
    "    ]\n",
    "\n",
    "    combined_features = sales_feature + property_features\n",
    "\n",
    "    features_as_is = [\n",
    "        'sale_year',\n",
    "        'sale_month'\n",
    "    ]\n",
    "\n",
    "    features_to_scale = [\n",
    "        'sq_ft_1st_floor',\n",
    "        'sq_ft_half_floor',\n",
    "        'sq_ft_2nd_floor',\n",
    "        'sq_ft_upper_floor',\n",
    "        'sq_ft_unfin_full',\n",
    "        'sq_ft_unfin_half',\n",
    "        'sq_ft_tot_living',\n",
    "        'sq_ft_tot_basement',\n",
    "        'sq_ft_fin_basement',\n",
    "        'sq_ft_garage_basement',\n",
    "        'sq_ft_garage_attached'\n",
    "    ]\n",
    "\n",
    "    dummy_features = [\n",
    "        'property_type',\n",
    "        'sale_reason',\n",
    "        'property_class',\n",
    "        'nbr_living_units', \n",
    "        'stories',\n",
    "        'bldg_grade',\n",
    "        'bldg_grade_var', \n",
    "    ]\n",
    "\n",
    "\n",
    "    # Standardize the dataframe\n",
    "    scalar = StandardScaler().fit(df[features_to_scale])\n",
    "    #df[features_to_scale] = scalar.transform(df[features_to_scale])\n",
    "    scalar.transform(df[features_to_scale])\n",
    "\n",
    "    \n",
    "    final_df = df[features_as_is + features_to_scale + ['sale_price']]\n",
    "\n",
    "    # Get dummy cols\n",
    "    dummies = pd.get_dummies(df[dummy_features].applymap(str))\n",
    "    final_df = pd.concat([final_df, dummies], axis=1)\n",
    "\n",
    "    final_df = shuffle(final_df)\n",
    "    \n",
    "    # Target value: SalePrice\n",
    "    y = final_df.pop('sale_price')\n",
    "    X = final_df\n",
    "    \n",
    "    return X, y"
   ]
  },
  {
   "cell_type": "code",
   "execution_count": null,
   "metadata": {
    "collapsed": true
   },
   "outputs": [],
   "source": [
    "Major\n",
    "Minor\n",
    "UnitTypeItemId\n",
    "NbrThisType\n",
    "SqFt\n",
    "NbrBedrooms\n",
    "NbrBaths\n"
   ]
  },
  {
   "cell_type": "code",
   "execution_count": 107,
   "metadata": {
    "collapsed": false
   },
   "outputs": [
    {
     "data": {
      "text/plain": [
       "0.00     653616\n",
       "1.00       2843\n",
       "2.00        533\n",
       "1.50        222\n",
       "2.50        118\n",
       "0.75        116\n",
       "1.75         86\n",
       "3.00         24\n",
       "2.25         12\n",
       "3.50         11\n",
       "0.25         10\n",
       "0.50          9\n",
       "4.00          8\n",
       "2.75          6\n",
       "3.75          3\n",
       "22.00         3\n",
       "20.00         2\n",
       "39.00         2\n",
       "0.10          1\n",
       "8.00          1\n",
       "34.00         1\n",
       "23.00         1\n",
       "7.00          1\n",
       "Name: nbr_baths, dtype: int64"
      ]
     },
     "execution_count": 107,
     "metadata": {},
     "output_type": "execute_result"
    }
   ],
   "source": [
    "df.nbr_baths.value_counts()"
   ]
  },
  {
>>>>>>> Stashed changes
   "cell_type": "markdown",
   "metadata": {},
   "source": [
    "model_create goal #3.F"
   ]
  },
  {
   "cell_type": "code",
<<<<<<< Updated upstream
   "execution_count": 75,
   "metadata": {},
=======
   "execution_count": 116,
   "metadata": {
    "collapsed": true
   },
>>>>>>> Stashed changes
   "outputs": [],
   "source": [
    "# Setting up features for model:\n",
    "\n",
    "features_as_is = [\n",
    "    'sale_year',\n",
    "    'sale_month',\n",
    "    'yr_built',\n",
    "    'yr_renovated'\n",
    "]\n",
    "\n",
    "features_to_scale = [\n",
    "    'sq_ft_1st_floor',\n",
    "    'sq_ft_half_floor',\n",
    "    'sq_ft_2nd_floor',\n",
    "    'sq_ft_upper_floor',\n",
    "    'sq_ft_unfin_full',\n",
    "    'sq_ft_unfin_half',\n",
    "    'sq_ft_tot_living',\n",
    "    'sq_ft_tot_basement',\n",
    "    'sq_ft_fin_basement',\n",
    "    'sq_ft_garage_basement',\n",
    "    'sq_ft_garage_attached',\n",
    "    'sq_ft_open_porch',\n",
    "    'sq_ft_enclosed_porch',\n",
    "    'sq_ft_deck',\n",
    "    'brick_stone',\n",
    "    'pcnt_complete',\n",
    "    'pcnt_net_condition',\n",
    "    'addnl_cost',\n",
    "    'nbr_this_type',\n",
    "    'sq_ft'\n",
    "]\n",
    "\n",
    "\n",
    "dummy_features = [\n",
    "    'bedrooms',\n",
    "    'property_type',\n",
    "    'sale_reason',\n",
    "    'property_class',\n",
    "    'nbr_living_units', \n",
    "    'stories',\n",
    "    'bldg_grade',\n",
    "    'bldg_grade_var',\n",
    "    'daylight_basement',\n",
    "    'heat_system',\n",
    "    'heat_source',\n",
    "    'bath_half_count',\n",
    "    'bath_3qtr_count',\n",
    "    'bath_full_count',\n",
    "    'view_utilization',\n",
    "    'fp_single_story',\n",
    "    'fp_multi_story',\n",
    "    'fp_freestanding',\n",
    "    'fp_additional',\n",
    "    'condition',\n",
    "    'unit_type_item_id',\n",
    "    'nbr_bedrooms',\n",
    "    'nbr_baths'\n",
    "]\n",
    "\n",
    "\n",
    "# Standardize the dataframe\n",
    "scalar = StandardScaler().fit(df[features_to_scale])\n",
    "df[features_to_scale] = scalar.transform(df[features_to_scale])\n",
    "# scalar.transform(df[features_to_scale])\n",
    "\n",
    "final_df = df[features_as_is + features_to_scale + ['sale_price'] + ['address']]\n",
    "\n",
    "# Get dummy cols\n",
    "dummies = pd.get_dummies(df[dummy_features].applymap(str))\n",
    "final_df = pd.concat([final_df, dummies], axis=1)\n",
    "\n",
    "final_df = shuffle(final_df)\n",
    "\n",
    "# Target value: SalePrice\n",
    "y = final_df['sale_price']\n",
    "\n",
    "X = final_df.drop(['address', 'sale_price'], axis=1).copy()\n"
   ]
  },
  {
   "cell_type": "code",
<<<<<<< Updated upstream
   "execution_count": 121,
   "metadata": {},
=======
   "execution_count": 28,
   "metadata": {
    "collapsed": false
   },
>>>>>>> Stashed changes
   "outputs": [
    {
     "data": {
      "text/plain": [
       "array([ 236956.3125], dtype=float32)"
      ]
     },
     "execution_count": 121,
     "metadata": {},
     "output_type": "execute_result"
    }
   ],
   "source": [
    "X_351 = final_df[final_df['address'].str.contains('351  N 137', na=False)]\n",
    "del X_351['address']\n",
    "# X_351['sale_year'] = 1998\n",
    "model_XG.predict(X_351)"
   ]
  },
  {
   "cell_type": "code",
<<<<<<< Updated upstream
   "execution_count": 124,
   "metadata": {},
   "outputs": [
    {
     "name": "stderr",
     "output_type": "stream",
     "text": [
      "/home/ubuntu/anaconda3/lib/python3.6/site-packages/ipykernel_launcher.py:3: SettingWithCopyWarning: \n",
      "A value is trying to be set on a copy of a slice from a DataFrame.\n",
      "Try using .loc[row_indexer,col_indexer] = value instead\n",
      "\n",
      "See the caveats in the documentation: http://pandas.pydata.org/pandas-docs/stable/indexing.html#indexing-view-versus-copy\n",
      "  This is separate from the ipykernel package so we can avoid doing imports until\n",
      "/home/ubuntu/anaconda3/lib/python3.6/site-packages/ipykernel_launcher.py:4: SettingWithCopyWarning: \n",
      "A value is trying to be set on a copy of a slice from a DataFrame.\n",
      "Try using .loc[row_indexer,col_indexer] = value instead\n",
      "\n",
      "See the caveats in the documentation: http://pandas.pydata.org/pandas-docs/stable/indexing.html#indexing-view-versus-copy\n",
      "  after removing the cwd from sys.path.\n"
     ]
    },
    {
     "data": {
      "text/plain": [
       "array([ 647066.3125], dtype=float32)"
      ]
     },
     "execution_count": 124,
     "metadata": {},
     "output_type": "execute_result"
    }
   ],
   "source": [
    "X_351 = final_df[final_df['address'].str.contains('351  N 137', na=False)]\n",
    "del X_351['address']\n",
    "X_351['sale_year'] = 2017\n",
    "X_351['sale_month'] = 7\n",
    "model_XG.predict(X_351)"
   ]
  },
  {
   "cell_type": "code",
   "execution_count": 48,
   "metadata": {
    "collapsed": true
   },
   "outputs": [],
   "source": [
    "def print_scores(model, X_test, y_test):\n",
    "    y_hat = model.predict(X_test)\n",
    "    print(\"{}\".format(model.__class__.__name__))\n",
    "    print(\"R2 score: {:.3f}\".format(\n",
    "            model.score(X_test, y_test)))\n",
    "    print(\"Mean Squared Error score: {:.3f}\".format(\n",
    "            np.sqrt(mean_squared_error(y_test, y_hat))))\n",
    "    print(\"Mean Absolute Error score: {:.3f}\".format(\n",
    "            mean_absolute_error(y_test, y_hat)))\n",
    "    print(\"Median absolute error: {:.3f}\".format(\n",
    "            median_absolute_error(y_hat, y_test)))\n",
    "    "
   ]
  },
  {
   "cell_type": "code",
   "execution_count": 49,
   "metadata": {},
   "outputs": [],
   "source": [
    "# Train Test Split Score\n",
    "X_train, X_test, y_train, y_test = train_test_split(X, y)"
   ]
  },
  {
   "cell_type": "code",
   "execution_count": 76,
   "metadata": {},
   "outputs": [
    {
     "data": {
      "text/plain": [
       "XGBRegressor(base_score=0.5, colsample_bylevel=1, colsample_bytree=1, gamma=0,\n",
       "       learning_rate=0.1, max_delta_step=0, max_depth=15,\n",
       "       min_child_weight=1, missing=None, n_estimators=500, nthread=-1,\n",
       "       objective='reg:linear', reg_alpha=0, reg_lambda=1,\n",
       "       scale_pos_weight=1, seed=0, silent=True, subsample=1)"
      ]
     },
     "execution_count": 76,
     "metadata": {},
     "output_type": "execute_result"
    }
   ],
   "source": [
    "# XGBoost\n",
    "# property_type = [1, 2, 3]\n",
    "model_XG_prop_keep_123_all_data = XGBRegressor(learning_rate=0.1, n_estimators=500, max_depth=15)\n",
    "model_XG_prop_keep_123_all_data.fit(X, y)\n",
    "# print_scores(model_XG_prop_keep_123_all_data, X_test, y_test)"
   ]
  },
  {
   "cell_type": "code",
   "execution_count": 144,
   "metadata": {},
   "outputs": [
    {
     "name": "stderr",
     "output_type": "stream",
     "text": [
      "/home/ubuntu/anaconda3/lib/python3.6/site-packages/numpy/core/fromnumeric.py:2889: RuntimeWarning: Mean of empty slice.\n",
      "  out=out, **kwargs)\n",
      "/home/ubuntu/anaconda3/lib/python3.6/site-packages/numpy/core/_methods.py:80: RuntimeWarning: invalid value encountered in true_divide\n",
      "  ret = ret.dtype.type(ret / rcount)\n"
     ]
    },
    {
     "data": {
      "text/plain": [
       "nan"
      ]
     },
     "execution_count": 144,
     "metadata": {},
     "output_type": "execute_result"
    }
   ],
   "source": [
    "current_address = '354  N 137'\n",
    "X_351 = final_df[final_df['address'].str.contains(current_address, na=False)].drop(['address', 'sale_price'], axis=1)\n",
    "X_351['sale_year'] = 2017\n",
    "X_351['sale_month'] = 7\n",
    "\n",
    "\n",
    "np.mean(model_XG_prop_keep_123_all_data.predict(X_351))"
   ]
  },
  {
   "cell_type": "code",
   "execution_count": null,
   "metadata": {
    "collapsed": true
   },
   "outputs": [],
   "source": []
  },
  {
   "cell_type": "code",
   "execution_count": 137,
   "metadata": {},
   "outputs": [],
   "source": [
    "X_351['sq_ft_deck'] *= 2\n"
   ]
  },
  {
   "cell_type": "code",
   "execution_count": 148,
   "metadata": {},
=======
   "execution_count": 42,
   "metadata": {
    "collapsed": false
   },
>>>>>>> Stashed changes
   "outputs": [
    {
     "data": {
      "text/plain": [
       "754660     2354  N 178TH ST   98133\n",
       "1272556    2354  N 115TH ST   98133\n",
       "1225013     354  N 103RD ST   98133\n",
       "1272555    2354  N 115TH ST   98133\n",
       "592585     2354  N 148TH ST   98133\n",
       "592584     2354  N 148TH ST   98133\n",
       "1272554    2354  N 115TH ST   98133\n",
       "754666     2354  N 178TH ST   98133\n",
       "754663     2354  N 178TH ST   98133\n",
       "754664     2354  N 178TH ST   98133\n",
       "Name: address, dtype: object"
      ]
     },
     "execution_count": 148,
     "metadata": {},
     "output_type": "execute_result"
    }
   ],
   "source": [
    "final_df[final_df['address'].str.contains('354  N 1', na=False)].address"
   ]
  },
  {
   "cell_type": "code",
<<<<<<< Updated upstream
   "execution_count": 69,
   "metadata": {},
=======
   "execution_count": 67,
   "metadata": {
    "collapsed": false
   },
>>>>>>> Stashed changes
   "outputs": [
    {
     "data": {
      "text/html": [
       "<div>\n",
       "<style>\n",
       "    .dataframe thead tr:only-child th {\n",
       "        text-align: right;\n",
       "    }\n",
       "\n",
       "    .dataframe thead th {\n",
       "        text-align: left;\n",
       "    }\n",
       "\n",
       "    .dataframe tbody tr th {\n",
       "        vertical-align: top;\n",
       "    }\n",
       "</style>\n",
       "<table border=\"1\" class=\"dataframe\">\n",
       "  <thead>\n",
       "    <tr style=\"text-align: right;\">\n",
       "      <th></th>\n",
       "      <th>sale_year</th>\n",
       "      <th>sale_month</th>\n",
       "      <th>yr_built</th>\n",
       "      <th>yr_renovated</th>\n",
       "      <th>sq_ft_1st_floor</th>\n",
       "      <th>sq_ft_half_floor</th>\n",
       "      <th>sq_ft_2nd_floor</th>\n",
       "      <th>sq_ft_upper_floor</th>\n",
       "      <th>sq_ft_unfin_full</th>\n",
       "      <th>sq_ft_unfin_half</th>\n",
       "      <th>sq_ft_tot_living</th>\n",
       "      <th>sq_ft_tot_basement</th>\n",
       "      <th>sq_ft_fin_basement</th>\n",
       "      <th>sq_ft_garage_basement</th>\n",
       "      <th>sq_ft_garage_attached</th>\n",
       "      <th>sq_ft_open_porch</th>\n",
       "      <th>sq_ft_enclosed_porch</th>\n",
       "      <th>sq_ft_deck</th>\n",
       "      <th>brick_stone</th>\n",
       "      <th>pcnt_complete</th>\n",
       "      <th>pcnt_net_condition</th>\n",
       "      <th>addnl_cost</th>\n",
       "      <th>nbr_this_type</th>\n",
       "      <th>sq_ft</th>\n",
       "      <th>bedrooms_0.0</th>\n",
       "      <th>bedrooms_1.0</th>\n",
       "      <th>bedrooms_10.0</th>\n",
       "      <th>bedrooms_11.0</th>\n",
       "      <th>bedrooms_12.0</th>\n",
       "      <th>bedrooms_13.0</th>\n",
       "      <th>bedrooms_2.0</th>\n",
       "      <th>bedrooms_3.0</th>\n",
       "      <th>bedrooms_4.0</th>\n",
       "      <th>bedrooms_5.0</th>\n",
       "      <th>bedrooms_6.0</th>\n",
       "      <th>bedrooms_7.0</th>\n",
       "      <th>bedrooms_8.0</th>\n",
       "      <th>bedrooms_9.0</th>\n",
       "      <th>property_type_1</th>\n",
       "      <th>sale_reason_0</th>\n",
       "      <th>sale_reason_1</th>\n",
       "      <th>sale_reason_10</th>\n",
       "      <th>sale_reason_11</th>\n",
       "      <th>sale_reason_12</th>\n",
       "      <th>sale_reason_13</th>\n",
       "      <th>sale_reason_14</th>\n",
       "      <th>sale_reason_15</th>\n",
       "      <th>sale_reason_16</th>\n",
       "      <th>sale_reason_17</th>\n",
       "      <th>sale_reason_18</th>\n",
       "      <th>sale_reason_19</th>\n",
       "      <th>sale_reason_2</th>\n",
       "      <th>sale_reason_3</th>\n",
       "      <th>sale_reason_4</th>\n",
       "      <th>sale_reason_5</th>\n",
       "      <th>sale_reason_6</th>\n",
       "      <th>sale_reason_7</th>\n",
       "      <th>sale_reason_8</th>\n",
       "      <th>sale_reason_9</th>\n",
       "      <th>property_class_0</th>\n",
       "      <th>property_class_1</th>\n",
       "      <th>property_class_2</th>\n",
       "      <th>property_class_3</th>\n",
       "      <th>property_class_4</th>\n",
       "      <th>property_class_7</th>\n",
       "      <th>property_class_8</th>\n",
       "      <th>property_class_9</th>\n",
       "      <th>nbr_living_units_0.0</th>\n",
       "      <th>nbr_living_units_1.0</th>\n",
       "      <th>nbr_living_units_2.0</th>\n",
       "      <th>nbr_living_units_3.0</th>\n",
       "      <th>stories_0.0</th>\n",
       "      <th>stories_1.0</th>\n",
       "      <th>stories_1.5</th>\n",
       "      <th>stories_2.0</th>\n",
       "      <th>stories_2.5</th>\n",
       "      <th>stories_3.0</th>\n",
       "      <th>stories_3.5</th>\n",
       "      <th>stories_4.0</th>\n",
       "      <th>bldg_grade_0.0</th>\n",
       "      <th>bldg_grade_1.0</th>\n",
       "      <th>bldg_grade_10.0</th>\n",
       "      <th>bldg_grade_11.0</th>\n",
       "      <th>bldg_grade_12.0</th>\n",
       "      <th>bldg_grade_13.0</th>\n",
       "      <th>bldg_grade_2.0</th>\n",
       "      <th>bldg_grade_3.0</th>\n",
       "      <th>bldg_grade_4.0</th>\n",
       "      <th>bldg_grade_5.0</th>\n",
       "      <th>bldg_grade_6.0</th>\n",
       "      <th>bldg_grade_7.0</th>\n",
       "      <th>bldg_grade_8.0</th>\n",
       "      <th>bldg_grade_9.0</th>\n",
       "      <th>bldg_grade_var_0.0</th>\n",
       "      <th>bldg_grade_var_20.0</th>\n",
       "      <th>bldg_grade_var_60.0</th>\n",
       "      <th>bldg_grade_var_99.0</th>\n",
       "      <th>daylight_basement_</th>\n",
       "      <th>daylight_basement_0</th>\n",
       "      <th>daylight_basement_N</th>\n",
       "      <th>daylight_basement_Y</th>\n",
       "      <th>daylight_basement_y</th>\n",
       "      <th>heat_system_0.0</th>\n",
       "      <th>heat_system_1.0</th>\n",
       "      <th>heat_system_2.0</th>\n",
       "      <th>heat_system_3.0</th>\n",
       "      <th>heat_system_4.0</th>\n",
       "      <th>heat_system_5.0</th>\n",
       "      <th>heat_system_6.0</th>\n",
       "      <th>heat_system_7.0</th>\n",
       "      <th>heat_system_8.0</th>\n",
       "      <th>heat_source_0.0</th>\n",
       "      <th>heat_source_1.0</th>\n",
       "      <th>heat_source_2.0</th>\n",
       "      <th>heat_source_3.0</th>\n",
       "      <th>heat_source_5.0</th>\n",
       "      <th>heat_source_6.0</th>\n",
       "      <th>heat_source_7.0</th>\n",
       "      <th>bath_half_count_0.0</th>\n",
       "      <th>bath_half_count_1.0</th>\n",
       "      <th>bath_half_count_2.0</th>\n",
       "      <th>bath_half_count_3.0</th>\n",
       "      <th>bath_half_count_4.0</th>\n",
       "      <th>bath_half_count_5.0</th>\n",
       "      <th>bath_half_count_6.0</th>\n",
       "      <th>bath_half_count_7.0</th>\n",
       "      <th>bath_3qtr_count_0.0</th>\n",
       "      <th>bath_3qtr_count_1.0</th>\n",
       "      <th>bath_3qtr_count_2.0</th>\n",
       "      <th>bath_3qtr_count_3.0</th>\n",
       "      <th>bath_3qtr_count_4.0</th>\n",
       "      <th>bath_3qtr_count_5.0</th>\n",
       "      <th>bath_3qtr_count_6.0</th>\n",
       "      <th>bath_3qtr_count_8.0</th>\n",
       "      <th>bath_3qtr_count_9.0</th>\n",
       "      <th>bath_full_count_0.0</th>\n",
       "      <th>bath_full_count_1.0</th>\n",
       "      <th>bath_full_count_2.0</th>\n",
       "      <th>bath_full_count_23.0</th>\n",
       "      <th>bath_full_count_3.0</th>\n",
       "      <th>bath_full_count_4.0</th>\n",
       "      <th>bath_full_count_5.0</th>\n",
       "      <th>bath_full_count_6.0</th>\n",
       "      <th>bath_full_count_7.0</th>\n",
       "      <th>bath_full_count_8.0</th>\n",
       "      <th>view_utilization_</th>\n",
       "      <th>view_utilization_0</th>\n",
       "      <th>view_utilization_N</th>\n",
       "      <th>view_utilization_Y</th>\n",
       "      <th>view_utilization_y</th>\n",
       "      <th>fp_single_story_0.0</th>\n",
       "      <th>fp_single_story_1.0</th>\n",
       "      <th>fp_single_story_2.0</th>\n",
       "      <th>fp_single_story_3.0</th>\n",
       "      <th>fp_single_story_4.0</th>\n",
       "      <th>fp_single_story_5.0</th>\n",
       "      <th>fp_single_story_6.0</th>\n",
       "      <th>fp_single_story_7.0</th>\n",
       "      <th>fp_single_story_8.0</th>\n",
       "      <th>fp_multi_story_0.0</th>\n",
       "      <th>fp_multi_story_1.0</th>\n",
       "      <th>fp_multi_story_2.0</th>\n",
       "      <th>fp_multi_story_3.0</th>\n",
       "      <th>fp_multi_story_4.0</th>\n",
       "      <th>fp_freestanding_0.0</th>\n",
       "      <th>fp_freestanding_1.0</th>\n",
       "      <th>fp_freestanding_2.0</th>\n",
       "      <th>fp_freestanding_3.0</th>\n",
       "      <th>fp_freestanding_4.0</th>\n",
       "      <th>fp_additional_0.0</th>\n",
       "      <th>fp_additional_1.0</th>\n",
       "      <th>fp_additional_2.0</th>\n",
       "      <th>fp_additional_3.0</th>\n",
       "      <th>fp_additional_4.0</th>\n",
       "      <th>condition_0.0</th>\n",
       "      <th>condition_1.0</th>\n",
       "      <th>condition_2.0</th>\n",
       "      <th>condition_3.0</th>\n",
       "      <th>condition_4.0</th>\n",
       "      <th>condition_5.0</th>\n",
       "      <th>unit_type_item_id_0.0</th>\n",
       "      <th>unit_type_item_id_1.0</th>\n",
       "      <th>unit_type_item_id_2.0</th>\n",
       "      <th>unit_type_item_id_3.0</th>\n",
       "      <th>unit_type_item_id_8.0</th>\n",
       "      <th>nbr_bedrooms_0</th>\n",
       "      <th>nbr_bedrooms_1</th>\n",
       "      <th>nbr_bedrooms_2</th>\n",
       "      <th>nbr_bedrooms_22</th>\n",
       "      <th>nbr_bedrooms_3</th>\n",
       "      <th>nbr_bedrooms_4</th>\n",
       "      <th>nbr_bedrooms_5</th>\n",
       "      <th>nbr_bedrooms_S</th>\n",
       "      <th>nbr_baths_0.0</th>\n",
       "      <th>nbr_baths_0.75</th>\n",
       "      <th>nbr_baths_1.0</th>\n",
       "      <th>nbr_baths_1.5</th>\n",
       "      <th>nbr_baths_1.75</th>\n",
       "      <th>nbr_baths_2.0</th>\n",
       "      <th>nbr_baths_2.5</th>\n",
       "      <th>nbr_baths_22.0</th>\n",
       "      <th>nbr_baths_3.0</th>\n",
       "      <th>nbr_baths_3.5</th>\n",
       "    </tr>\n",
       "  </thead>\n",
       "  <tbody>\n",
       "    <tr>\n",
       "      <th>623522</th>\n",
       "      <td>1996</td>\n",
       "      <td>8</td>\n",
       "      <td>1997.0</td>\n",
       "      <td>0.0</td>\n",
       "      <td>1.607080</td>\n",
       "      <td>-0.109465</td>\n",
       "      <td>2.237459</td>\n",
       "      <td>-0.079591</td>\n",
       "      <td>-0.032914</td>\n",
       "      <td>-0.027999</td>\n",
       "      <td>1.884700</td>\n",
       "      <td>-0.397856</td>\n",
       "      <td>-0.343443</td>\n",
       "      <td>-0.270977</td>\n",
       "      <td>2.148550</td>\n",
       "      <td>2.293753</td>\n",
       "      <td>-0.064195</td>\n",
       "      <td>-0.109114</td>\n",
       "      <td>-0.064846</td>\n",
       "      <td>-0.084066</td>\n",
       "      <td>-0.010543</td>\n",
       "      <td>2.872174</td>\n",
       "      <td>-0.044329</td>\n",
       "      <td>-0.071446</td>\n",
       "      <td>0</td>\n",
       "      <td>0</td>\n",
       "      <td>0</td>\n",
       "      <td>0</td>\n",
       "      <td>0</td>\n",
       "      <td>0</td>\n",
       "      <td>0</td>\n",
       "      <td>0</td>\n",
       "      <td>1</td>\n",
       "      <td>0</td>\n",
       "      <td>0</td>\n",
       "      <td>0</td>\n",
       "      <td>0</td>\n",
       "      <td>0</td>\n",
       "      <td>1</td>\n",
       "      <td>0</td>\n",
       "      <td>1</td>\n",
       "      <td>0</td>\n",
       "      <td>0</td>\n",
       "      <td>0</td>\n",
       "      <td>0</td>\n",
       "      <td>0</td>\n",
       "      <td>0</td>\n",
       "      <td>0</td>\n",
       "      <td>0</td>\n",
       "      <td>0</td>\n",
       "      <td>0</td>\n",
       "      <td>0</td>\n",
       "      <td>0</td>\n",
       "      <td>0</td>\n",
       "      <td>0</td>\n",
       "      <td>0</td>\n",
       "      <td>0</td>\n",
       "      <td>0</td>\n",
       "      <td>0</td>\n",
       "      <td>0</td>\n",
       "      <td>0</td>\n",
       "      <td>0</td>\n",
       "      <td>0</td>\n",
       "      <td>0</td>\n",
       "      <td>1</td>\n",
       "      <td>0</td>\n",
       "      <td>0</td>\n",
       "      <td>0</td>\n",
       "      <td>1</td>\n",
       "      <td>0</td>\n",
       "      <td>0</td>\n",
       "      <td>0</td>\n",
       "      <td>0</td>\n",
       "      <td>0</td>\n",
       "      <td>1</td>\n",
       "      <td>0</td>\n",
       "      <td>0</td>\n",
       "      <td>0</td>\n",
       "      <td>0</td>\n",
       "      <td>0</td>\n",
       "      <td>0</td>\n",
       "      <td>0</td>\n",
       "      <td>1</td>\n",
       "      <td>0</td>\n",
       "      <td>0</td>\n",
       "      <td>0</td>\n",
       "      <td>0</td>\n",
       "      <td>0</td>\n",
       "      <td>0</td>\n",
       "      <td>0</td>\n",
       "      <td>0</td>\n",
       "      <td>0</td>\n",
       "      <td>0</td>\n",
       "      <td>1</td>\n",
       "      <td>0</td>\n",
       "      <td>0</td>\n",
       "      <td>0</td>\n",
       "      <td>1</td>\n",
       "      <td>0</td>\n",
       "      <td>0</td>\n",
       "      <td>0</td>\n",
       "      <td>0</td>\n",
       "      <td>0</td>\n",
       "      <td>0</td>\n",
       "      <td>0</td>\n",
       "      <td>0</td>\n",
       "      <td>0</td>\n",
       "      <td>1</td>\n",
       "      <td>0</td>\n",
       "      <td>0</td>\n",
       "      <td>0</td>\n",
       "      <td>0</td>\n",
       "      <td>0</td>\n",
       "      <td>1</td>\n",
       "      <td>0</td>\n",
       "      <td>0</td>\n",
       "      <td>0</td>\n",
       "      <td>0</td>\n",
       "      <td>0</td>\n",
       "      <td>1</td>\n",
       "      <td>0</td>\n",
       "      <td>0</td>\n",
       "      <td>0</td>\n",
       "      <td>0</td>\n",
       "      <td>0</td>\n",
       "      <td>0</td>\n",
       "      <td>1</td>\n",
       "      <td>0</td>\n",
       "      <td>0</td>\n",
       "      <td>0</td>\n",
       "      <td>0</td>\n",
       "      <td>0</td>\n",
       "      <td>0</td>\n",
       "      <td>0</td>\n",
       "      <td>0</td>\n",
       "      <td>0</td>\n",
       "      <td>0</td>\n",
       "      <td>0</td>\n",
       "      <td>0</td>\n",
       "      <td>1</td>\n",
       "      <td>0</td>\n",
       "      <td>0</td>\n",
       "      <td>0</td>\n",
       "      <td>0</td>\n",
       "      <td>0</td>\n",
       "      <td>1</td>\n",
       "      <td>0</td>\n",
       "      <td>0</td>\n",
       "      <td>0</td>\n",
       "      <td>0</td>\n",
       "      <td>0</td>\n",
       "      <td>0</td>\n",
       "      <td>0</td>\n",
       "      <td>1</td>\n",
       "      <td>0</td>\n",
       "      <td>0</td>\n",
       "      <td>0</td>\n",
       "      <td>0</td>\n",
       "      <td>0</td>\n",
       "      <td>1</td>\n",
       "      <td>0</td>\n",
       "      <td>0</td>\n",
       "      <td>0</td>\n",
       "      <td>0</td>\n",
       "      <td>1</td>\n",
       "      <td>0</td>\n",
       "      <td>0</td>\n",
       "      <td>0</td>\n",
       "      <td>0</td>\n",
       "      <td>1</td>\n",
       "      <td>0</td>\n",
       "      <td>0</td>\n",
       "      <td>0</td>\n",
       "      <td>0</td>\n",
       "      <td>0</td>\n",
       "      <td>0</td>\n",
       "      <td>0</td>\n",
       "      <td>1</td>\n",
       "      <td>0</td>\n",
       "      <td>0</td>\n",
       "      <td>1</td>\n",
       "      <td>0</td>\n",
       "      <td>0</td>\n",
       "      <td>0</td>\n",
       "      <td>0</td>\n",
       "      <td>1</td>\n",
       "      <td>0</td>\n",
       "      <td>0</td>\n",
       "      <td>0</td>\n",
       "      <td>0</td>\n",
       "      <td>0</td>\n",
       "      <td>0</td>\n",
       "      <td>0</td>\n",
       "      <td>1</td>\n",
       "      <td>0</td>\n",
       "      <td>0</td>\n",
       "      <td>0</td>\n",
       "      <td>0</td>\n",
       "      <td>0</td>\n",
       "      <td>0</td>\n",
       "      <td>0</td>\n",
       "      <td>0</td>\n",
       "      <td>0</td>\n",
       "    </tr>\n",
       "    <tr>\n",
       "      <th>1534504</th>\n",
       "      <td>2006</td>\n",
       "      <td>1</td>\n",
       "      <td>2006.0</td>\n",
       "      <td>0.0</td>\n",
       "      <td>0.533562</td>\n",
       "      <td>-0.109465</td>\n",
       "      <td>1.048664</td>\n",
       "      <td>-0.079591</td>\n",
       "      <td>-0.032914</td>\n",
       "      <td>-0.027999</td>\n",
       "      <td>0.715214</td>\n",
       "      <td>-0.397856</td>\n",
       "      <td>-0.343443</td>\n",
       "      <td>-0.270977</td>\n",
       "      <td>0.774576</td>\n",
       "      <td>-0.319641</td>\n",
       "      <td>-0.064195</td>\n",
       "      <td>-0.109114</td>\n",
       "      <td>-0.064846</td>\n",
       "      <td>-0.084066</td>\n",
       "      <td>-0.010543</td>\n",
       "      <td>0.983209</td>\n",
       "      <td>-0.044329</td>\n",
       "      <td>-0.071446</td>\n",
       "      <td>0</td>\n",
       "      <td>0</td>\n",
       "      <td>0</td>\n",
       "      <td>0</td>\n",
       "      <td>0</td>\n",
       "      <td>0</td>\n",
       "      <td>0</td>\n",
       "      <td>0</td>\n",
       "      <td>1</td>\n",
       "      <td>0</td>\n",
       "      <td>0</td>\n",
       "      <td>0</td>\n",
       "      <td>0</td>\n",
       "      <td>0</td>\n",
       "      <td>1</td>\n",
       "      <td>0</td>\n",
       "      <td>1</td>\n",
       "      <td>0</td>\n",
       "      <td>0</td>\n",
       "      <td>0</td>\n",
       "      <td>0</td>\n",
       "      <td>0</td>\n",
       "      <td>0</td>\n",
       "      <td>0</td>\n",
       "      <td>0</td>\n",
       "      <td>0</td>\n",
       "      <td>0</td>\n",
       "      <td>0</td>\n",
       "      <td>0</td>\n",
       "      <td>0</td>\n",
       "      <td>0</td>\n",
       "      <td>0</td>\n",
       "      <td>0</td>\n",
       "      <td>0</td>\n",
       "      <td>0</td>\n",
       "      <td>0</td>\n",
       "      <td>0</td>\n",
       "      <td>0</td>\n",
       "      <td>0</td>\n",
       "      <td>0</td>\n",
       "      <td>1</td>\n",
       "      <td>0</td>\n",
       "      <td>0</td>\n",
       "      <td>0</td>\n",
       "      <td>1</td>\n",
       "      <td>0</td>\n",
       "      <td>0</td>\n",
       "      <td>0</td>\n",
       "      <td>0</td>\n",
       "      <td>0</td>\n",
       "      <td>1</td>\n",
       "      <td>0</td>\n",
       "      <td>0</td>\n",
       "      <td>0</td>\n",
       "      <td>0</td>\n",
       "      <td>0</td>\n",
       "      <td>0</td>\n",
       "      <td>0</td>\n",
       "      <td>0</td>\n",
       "      <td>0</td>\n",
       "      <td>0</td>\n",
       "      <td>0</td>\n",
       "      <td>0</td>\n",
       "      <td>0</td>\n",
       "      <td>0</td>\n",
       "      <td>0</td>\n",
       "      <td>0</td>\n",
       "      <td>0</td>\n",
       "      <td>1</td>\n",
       "      <td>1</td>\n",
       "      <td>0</td>\n",
       "      <td>0</td>\n",
       "      <td>0</td>\n",
       "      <td>0</td>\n",
       "      <td>0</td>\n",
       "      <td>1</td>\n",
       "      <td>0</td>\n",
       "      <td>0</td>\n",
       "      <td>0</td>\n",
       "      <td>0</td>\n",
       "      <td>0</td>\n",
       "      <td>0</td>\n",
       "      <td>0</td>\n",
       "      <td>1</td>\n",
       "      <td>0</td>\n",
       "      <td>0</td>\n",
       "      <td>0</td>\n",
       "      <td>0</td>\n",
       "      <td>0</td>\n",
       "      <td>1</td>\n",
       "      <td>0</td>\n",
       "      <td>0</td>\n",
       "      <td>0</td>\n",
       "      <td>0</td>\n",
       "      <td>1</td>\n",
       "      <td>0</td>\n",
       "      <td>0</td>\n",
       "      <td>0</td>\n",
       "      <td>0</td>\n",
       "      <td>0</td>\n",
       "      <td>0</td>\n",
       "      <td>0</td>\n",
       "      <td>0</td>\n",
       "      <td>1</td>\n",
       "      <td>0</td>\n",
       "      <td>0</td>\n",
       "      <td>0</td>\n",
       "      <td>0</td>\n",
       "      <td>0</td>\n",
       "      <td>0</td>\n",
       "      <td>0</td>\n",
       "      <td>0</td>\n",
       "      <td>0</td>\n",
       "      <td>1</td>\n",
       "      <td>0</td>\n",
       "      <td>0</td>\n",
       "      <td>0</td>\n",
       "      <td>0</td>\n",
       "      <td>0</td>\n",
       "      <td>0</td>\n",
       "      <td>0</td>\n",
       "      <td>0</td>\n",
       "      <td>0</td>\n",
       "      <td>1</td>\n",
       "      <td>0</td>\n",
       "      <td>0</td>\n",
       "      <td>0</td>\n",
       "      <td>1</td>\n",
       "      <td>0</td>\n",
       "      <td>0</td>\n",
       "      <td>0</td>\n",
       "      <td>0</td>\n",
       "      <td>0</td>\n",
       "      <td>0</td>\n",
       "      <td>0</td>\n",
       "      <td>1</td>\n",
       "      <td>0</td>\n",
       "      <td>0</td>\n",
       "      <td>0</td>\n",
       "      <td>0</td>\n",
       "      <td>1</td>\n",
       "      <td>0</td>\n",
       "      <td>0</td>\n",
       "      <td>0</td>\n",
       "      <td>0</td>\n",
       "      <td>1</td>\n",
       "      <td>0</td>\n",
       "      <td>0</td>\n",
       "      <td>0</td>\n",
       "      <td>0</td>\n",
       "      <td>0</td>\n",
       "      <td>0</td>\n",
       "      <td>0</td>\n",
       "      <td>1</td>\n",
       "      <td>0</td>\n",
       "      <td>0</td>\n",
       "      <td>1</td>\n",
       "      <td>0</td>\n",
       "      <td>0</td>\n",
       "      <td>0</td>\n",
       "      <td>0</td>\n",
       "      <td>1</td>\n",
       "      <td>0</td>\n",
       "      <td>0</td>\n",
       "      <td>0</td>\n",
       "      <td>0</td>\n",
       "      <td>0</td>\n",
       "      <td>0</td>\n",
       "      <td>0</td>\n",
       "      <td>1</td>\n",
       "      <td>0</td>\n",
       "      <td>0</td>\n",
       "      <td>0</td>\n",
       "      <td>0</td>\n",
       "      <td>0</td>\n",
       "      <td>0</td>\n",
       "      <td>0</td>\n",
       "      <td>0</td>\n",
       "      <td>0</td>\n",
       "    </tr>\n",
       "    <tr>\n",
       "      <th>1727503</th>\n",
       "      <td>2003</td>\n",
       "      <td>7</td>\n",
       "      <td>2004.0</td>\n",
       "      <td>0.0</td>\n",
       "      <td>0.780348</td>\n",
       "      <td>-0.109465</td>\n",
       "      <td>-1.088496</td>\n",
       "      <td>-0.079591</td>\n",
       "      <td>-0.032914</td>\n",
       "      <td>-0.027999</td>\n",
       "      <td>-0.215059</td>\n",
       "      <td>-0.397856</td>\n",
       "      <td>-0.343443</td>\n",
       "      <td>-0.270977</td>\n",
       "      <td>0.236934</td>\n",
       "      <td>0.725717</td>\n",
       "      <td>-0.064195</td>\n",
       "      <td>-0.109114</td>\n",
       "      <td>-0.064846</td>\n",
       "      <td>-0.084066</td>\n",
       "      <td>-0.010543</td>\n",
       "      <td>-0.562308</td>\n",
       "      <td>-0.044329</td>\n",
       "      <td>-0.071446</td>\n",
       "      <td>0</td>\n",
       "      <td>0</td>\n",
       "      <td>0</td>\n",
       "      <td>0</td>\n",
       "      <td>0</td>\n",
       "      <td>0</td>\n",
       "      <td>1</td>\n",
       "      <td>0</td>\n",
       "      <td>0</td>\n",
       "      <td>0</td>\n",
       "      <td>0</td>\n",
       "      <td>0</td>\n",
       "      <td>0</td>\n",
       "      <td>0</td>\n",
       "      <td>1</td>\n",
       "      <td>0</td>\n",
       "      <td>1</td>\n",
       "      <td>0</td>\n",
       "      <td>0</td>\n",
       "      <td>0</td>\n",
       "      <td>0</td>\n",
       "      <td>0</td>\n",
       "      <td>0</td>\n",
       "      <td>0</td>\n",
       "      <td>0</td>\n",
       "      <td>0</td>\n",
       "      <td>0</td>\n",
       "      <td>0</td>\n",
       "      <td>0</td>\n",
       "      <td>0</td>\n",
       "      <td>0</td>\n",
       "      <td>0</td>\n",
       "      <td>0</td>\n",
       "      <td>0</td>\n",
       "      <td>0</td>\n",
       "      <td>0</td>\n",
       "      <td>0</td>\n",
       "      <td>0</td>\n",
       "      <td>0</td>\n",
       "      <td>0</td>\n",
       "      <td>1</td>\n",
       "      <td>0</td>\n",
       "      <td>0</td>\n",
       "      <td>0</td>\n",
       "      <td>1</td>\n",
       "      <td>0</td>\n",
       "      <td>0</td>\n",
       "      <td>0</td>\n",
       "      <td>1</td>\n",
       "      <td>0</td>\n",
       "      <td>0</td>\n",
       "      <td>0</td>\n",
       "      <td>0</td>\n",
       "      <td>0</td>\n",
       "      <td>0</td>\n",
       "      <td>0</td>\n",
       "      <td>0</td>\n",
       "      <td>0</td>\n",
       "      <td>0</td>\n",
       "      <td>0</td>\n",
       "      <td>0</td>\n",
       "      <td>0</td>\n",
       "      <td>0</td>\n",
       "      <td>0</td>\n",
       "      <td>0</td>\n",
       "      <td>0</td>\n",
       "      <td>0</td>\n",
       "      <td>1</td>\n",
       "      <td>0</td>\n",
       "      <td>1</td>\n",
       "      <td>0</td>\n",
       "      <td>0</td>\n",
       "      <td>0</td>\n",
       "      <td>0</td>\n",
       "      <td>0</td>\n",
       "      <td>1</td>\n",
       "      <td>0</td>\n",
       "      <td>0</td>\n",
       "      <td>0</td>\n",
       "      <td>0</td>\n",
       "      <td>0</td>\n",
       "      <td>0</td>\n",
       "      <td>0</td>\n",
       "      <td>1</td>\n",
       "      <td>0</td>\n",
       "      <td>0</td>\n",
       "      <td>0</td>\n",
       "      <td>0</td>\n",
       "      <td>0</td>\n",
       "      <td>1</td>\n",
       "      <td>0</td>\n",
       "      <td>0</td>\n",
       "      <td>0</td>\n",
       "      <td>0</td>\n",
       "      <td>1</td>\n",
       "      <td>0</td>\n",
       "      <td>0</td>\n",
       "      <td>0</td>\n",
       "      <td>0</td>\n",
       "      <td>0</td>\n",
       "      <td>0</td>\n",
       "      <td>0</td>\n",
       "      <td>0</td>\n",
       "      <td>1</td>\n",
       "      <td>0</td>\n",
       "      <td>0</td>\n",
       "      <td>0</td>\n",
       "      <td>0</td>\n",
       "      <td>0</td>\n",
       "      <td>0</td>\n",
       "      <td>0</td>\n",
       "      <td>0</td>\n",
       "      <td>1</td>\n",
       "      <td>0</td>\n",
       "      <td>0</td>\n",
       "      <td>0</td>\n",
       "      <td>0</td>\n",
       "      <td>0</td>\n",
       "      <td>0</td>\n",
       "      <td>0</td>\n",
       "      <td>0</td>\n",
       "      <td>0</td>\n",
       "      <td>0</td>\n",
       "      <td>1</td>\n",
       "      <td>0</td>\n",
       "      <td>0</td>\n",
       "      <td>0</td>\n",
       "      <td>1</td>\n",
       "      <td>0</td>\n",
       "      <td>0</td>\n",
       "      <td>0</td>\n",
       "      <td>0</td>\n",
       "      <td>0</td>\n",
       "      <td>0</td>\n",
       "      <td>0</td>\n",
       "      <td>1</td>\n",
       "      <td>0</td>\n",
       "      <td>0</td>\n",
       "      <td>0</td>\n",
       "      <td>0</td>\n",
       "      <td>1</td>\n",
       "      <td>0</td>\n",
       "      <td>0</td>\n",
       "      <td>0</td>\n",
       "      <td>0</td>\n",
       "      <td>1</td>\n",
       "      <td>0</td>\n",
       "      <td>0</td>\n",
       "      <td>0</td>\n",
       "      <td>0</td>\n",
       "      <td>0</td>\n",
       "      <td>0</td>\n",
       "      <td>0</td>\n",
       "      <td>1</td>\n",
       "      <td>0</td>\n",
       "      <td>0</td>\n",
       "      <td>1</td>\n",
       "      <td>0</td>\n",
       "      <td>0</td>\n",
       "      <td>0</td>\n",
       "      <td>0</td>\n",
       "      <td>1</td>\n",
       "      <td>0</td>\n",
       "      <td>0</td>\n",
       "      <td>0</td>\n",
       "      <td>0</td>\n",
       "      <td>0</td>\n",
       "      <td>0</td>\n",
       "      <td>0</td>\n",
       "      <td>1</td>\n",
       "      <td>0</td>\n",
       "      <td>0</td>\n",
       "      <td>0</td>\n",
       "      <td>0</td>\n",
       "      <td>0</td>\n",
       "      <td>0</td>\n",
       "      <td>0</td>\n",
       "      <td>0</td>\n",
       "      <td>0</td>\n",
       "    </tr>\n",
       "    <tr>\n",
       "      <th>1727505</th>\n",
       "      <td>2003</td>\n",
       "      <td>7</td>\n",
       "      <td>2004.0</td>\n",
       "      <td>0.0</td>\n",
       "      <td>0.780348</td>\n",
       "      <td>-0.109465</td>\n",
       "      <td>-1.088496</td>\n",
       "      <td>-0.079591</td>\n",
       "      <td>-0.032914</td>\n",
       "      <td>-0.027999</td>\n",
       "      <td>-0.215059</td>\n",
       "      <td>-0.397856</td>\n",
       "      <td>-0.343443</td>\n",
       "      <td>-0.270977</td>\n",
       "      <td>0.236934</td>\n",
       "      <td>0.725717</td>\n",
       "      <td>-0.064195</td>\n",
       "      <td>-0.109114</td>\n",
       "      <td>-0.064846</td>\n",
       "      <td>-0.084066</td>\n",
       "      <td>-0.010543</td>\n",
       "      <td>-0.562308</td>\n",
       "      <td>-0.044329</td>\n",
       "      <td>-0.071446</td>\n",
       "      <td>0</td>\n",
       "      <td>0</td>\n",
       "      <td>0</td>\n",
       "      <td>0</td>\n",
       "      <td>0</td>\n",
       "      <td>0</td>\n",
       "      <td>1</td>\n",
       "      <td>0</td>\n",
       "      <td>0</td>\n",
       "      <td>0</td>\n",
       "      <td>0</td>\n",
       "      <td>0</td>\n",
       "      <td>0</td>\n",
       "      <td>0</td>\n",
       "      <td>1</td>\n",
       "      <td>0</td>\n",
       "      <td>0</td>\n",
       "      <td>0</td>\n",
       "      <td>0</td>\n",
       "      <td>0</td>\n",
       "      <td>0</td>\n",
       "      <td>0</td>\n",
       "      <td>0</td>\n",
       "      <td>0</td>\n",
       "      <td>0</td>\n",
       "      <td>1</td>\n",
       "      <td>0</td>\n",
       "      <td>0</td>\n",
       "      <td>0</td>\n",
       "      <td>0</td>\n",
       "      <td>0</td>\n",
       "      <td>0</td>\n",
       "      <td>0</td>\n",
       "      <td>0</td>\n",
       "      <td>0</td>\n",
       "      <td>0</td>\n",
       "      <td>0</td>\n",
       "      <td>0</td>\n",
       "      <td>0</td>\n",
       "      <td>0</td>\n",
       "      <td>1</td>\n",
       "      <td>0</td>\n",
       "      <td>0</td>\n",
       "      <td>0</td>\n",
       "      <td>1</td>\n",
       "      <td>0</td>\n",
       "      <td>0</td>\n",
       "      <td>0</td>\n",
       "      <td>1</td>\n",
       "      <td>0</td>\n",
       "      <td>0</td>\n",
       "      <td>0</td>\n",
       "      <td>0</td>\n",
       "      <td>0</td>\n",
       "      <td>0</td>\n",
       "      <td>0</td>\n",
       "      <td>0</td>\n",
       "      <td>0</td>\n",
       "      <td>0</td>\n",
       "      <td>0</td>\n",
       "      <td>0</td>\n",
       "      <td>0</td>\n",
       "      <td>0</td>\n",
       "      <td>0</td>\n",
       "      <td>0</td>\n",
       "      <td>0</td>\n",
       "      <td>0</td>\n",
       "      <td>1</td>\n",
       "      <td>0</td>\n",
       "      <td>1</td>\n",
       "      <td>0</td>\n",
       "      <td>0</td>\n",
       "      <td>0</td>\n",
       "      <td>0</td>\n",
       "      <td>0</td>\n",
       "      <td>1</td>\n",
       "      <td>0</td>\n",
       "      <td>0</td>\n",
       "      <td>0</td>\n",
       "      <td>0</td>\n",
       "      <td>0</td>\n",
       "      <td>0</td>\n",
       "      <td>0</td>\n",
       "      <td>1</td>\n",
       "      <td>0</td>\n",
       "      <td>0</td>\n",
       "      <td>0</td>\n",
       "      <td>0</td>\n",
       "      <td>0</td>\n",
       "      <td>1</td>\n",
       "      <td>0</td>\n",
       "      <td>0</td>\n",
       "      <td>0</td>\n",
       "      <td>0</td>\n",
       "      <td>1</td>\n",
       "      <td>0</td>\n",
       "      <td>0</td>\n",
       "      <td>0</td>\n",
       "      <td>0</td>\n",
       "      <td>0</td>\n",
       "      <td>0</td>\n",
       "      <td>0</td>\n",
       "      <td>0</td>\n",
       "      <td>1</td>\n",
       "      <td>0</td>\n",
       "      <td>0</td>\n",
       "      <td>0</td>\n",
       "      <td>0</td>\n",
       "      <td>0</td>\n",
       "      <td>0</td>\n",
       "      <td>0</td>\n",
       "      <td>0</td>\n",
       "      <td>1</td>\n",
       "      <td>0</td>\n",
       "      <td>0</td>\n",
       "      <td>0</td>\n",
       "      <td>0</td>\n",
       "      <td>0</td>\n",
       "      <td>0</td>\n",
       "      <td>0</td>\n",
       "      <td>0</td>\n",
       "      <td>0</td>\n",
       "      <td>0</td>\n",
       "      <td>1</td>\n",
       "      <td>0</td>\n",
       "      <td>0</td>\n",
       "      <td>0</td>\n",
       "      <td>1</td>\n",
       "      <td>0</td>\n",
       "      <td>0</td>\n",
       "      <td>0</td>\n",
       "      <td>0</td>\n",
       "      <td>0</td>\n",
       "      <td>0</td>\n",
       "      <td>0</td>\n",
       "      <td>1</td>\n",
       "      <td>0</td>\n",
       "      <td>0</td>\n",
       "      <td>0</td>\n",
       "      <td>0</td>\n",
       "      <td>1</td>\n",
       "      <td>0</td>\n",
       "      <td>0</td>\n",
       "      <td>0</td>\n",
       "      <td>0</td>\n",
       "      <td>1</td>\n",
       "      <td>0</td>\n",
       "      <td>0</td>\n",
       "      <td>0</td>\n",
       "      <td>0</td>\n",
       "      <td>0</td>\n",
       "      <td>0</td>\n",
       "      <td>0</td>\n",
       "      <td>1</td>\n",
       "      <td>0</td>\n",
       "      <td>0</td>\n",
       "      <td>1</td>\n",
       "      <td>0</td>\n",
       "      <td>0</td>\n",
       "      <td>0</td>\n",
       "      <td>0</td>\n",
       "      <td>1</td>\n",
       "      <td>0</td>\n",
       "      <td>0</td>\n",
       "      <td>0</td>\n",
       "      <td>0</td>\n",
       "      <td>0</td>\n",
       "      <td>0</td>\n",
       "      <td>0</td>\n",
       "      <td>1</td>\n",
       "      <td>0</td>\n",
       "      <td>0</td>\n",
       "      <td>0</td>\n",
       "      <td>0</td>\n",
       "      <td>0</td>\n",
       "      <td>0</td>\n",
       "      <td>0</td>\n",
       "      <td>0</td>\n",
       "      <td>0</td>\n",
       "    </tr>\n",
       "  </tbody>\n",
       "</table>\n",
       "</div>"
      ],
      "text/plain": [
       "         sale_year  sale_month  yr_built  yr_renovated  sq_ft_1st_floor  \\\n",
       "623522        1996           8    1997.0           0.0         1.607080   \n",
       "1534504       2006           1    2006.0           0.0         0.533562   \n",
       "1727503       2003           7    2004.0           0.0         0.780348   \n",
       "1727505       2003           7    2004.0           0.0         0.780348   \n",
       "\n",
       "         sq_ft_half_floor  sq_ft_2nd_floor  sq_ft_upper_floor  \\\n",
       "623522          -0.109465         2.237459          -0.079591   \n",
       "1534504         -0.109465         1.048664          -0.079591   \n",
       "1727503         -0.109465        -1.088496          -0.079591   \n",
       "1727505         -0.109465        -1.088496          -0.079591   \n",
       "\n",
       "         sq_ft_unfin_full  sq_ft_unfin_half  sq_ft_tot_living  \\\n",
       "623522          -0.032914         -0.027999          1.884700   \n",
       "1534504         -0.032914         -0.027999          0.715214   \n",
       "1727503         -0.032914         -0.027999         -0.215059   \n",
       "1727505         -0.032914         -0.027999         -0.215059   \n",
       "\n",
       "         sq_ft_tot_basement  sq_ft_fin_basement  sq_ft_garage_basement  \\\n",
       "623522            -0.397856           -0.343443              -0.270977   \n",
       "1534504           -0.397856           -0.343443              -0.270977   \n",
       "1727503           -0.397856           -0.343443              -0.270977   \n",
       "1727505           -0.397856           -0.343443              -0.270977   \n",
       "\n",
       "         sq_ft_garage_attached  sq_ft_open_porch  sq_ft_enclosed_porch  \\\n",
       "623522                2.148550          2.293753             -0.064195   \n",
       "1534504               0.774576         -0.319641             -0.064195   \n",
       "1727503               0.236934          0.725717             -0.064195   \n",
       "1727505               0.236934          0.725717             -0.064195   \n",
       "\n",
       "         sq_ft_deck  brick_stone  pcnt_complete  pcnt_net_condition  \\\n",
       "623522    -0.109114    -0.064846      -0.084066           -0.010543   \n",
       "1534504   -0.109114    -0.064846      -0.084066           -0.010543   \n",
       "1727503   -0.109114    -0.064846      -0.084066           -0.010543   \n",
       "1727505   -0.109114    -0.064846      -0.084066           -0.010543   \n",
       "\n",
       "         addnl_cost  nbr_this_type     sq_ft  bedrooms_0.0  bedrooms_1.0  \\\n",
       "623522     2.872174      -0.044329 -0.071446             0             0   \n",
       "1534504    0.983209      -0.044329 -0.071446             0             0   \n",
       "1727503   -0.562308      -0.044329 -0.071446             0             0   \n",
       "1727505   -0.562308      -0.044329 -0.071446             0             0   \n",
       "\n",
       "         bedrooms_10.0  bedrooms_11.0  bedrooms_12.0  bedrooms_13.0  \\\n",
       "623522               0              0              0              0   \n",
       "1534504              0              0              0              0   \n",
       "1727503              0              0              0              0   \n",
       "1727505              0              0              0              0   \n",
       "\n",
       "         bedrooms_2.0  bedrooms_3.0  bedrooms_4.0  bedrooms_5.0  bedrooms_6.0  \\\n",
       "623522              0             0             1             0             0   \n",
       "1534504             0             0             1             0             0   \n",
       "1727503             1             0             0             0             0   \n",
       "1727505             1             0             0             0             0   \n",
       "\n",
       "         bedrooms_7.0  bedrooms_8.0  bedrooms_9.0  property_type_1  \\\n",
       "623522              0             0             0                1   \n",
       "1534504             0             0             0                1   \n",
       "1727503             0             0             0                1   \n",
       "1727505             0             0             0                1   \n",
       "\n",
       "         sale_reason_0  sale_reason_1  sale_reason_10  sale_reason_11  \\\n",
       "623522               0              1               0               0   \n",
       "1534504              0              1               0               0   \n",
       "1727503              0              1               0               0   \n",
       "1727505              0              0               0               0   \n",
       "\n",
       "         sale_reason_12  sale_reason_13  sale_reason_14  sale_reason_15  \\\n",
       "623522                0               0               0               0   \n",
       "1534504               0               0               0               0   \n",
       "1727503               0               0               0               0   \n",
       "1727505               0               0               0               0   \n",
       "\n",
       "         sale_reason_16  sale_reason_17  sale_reason_18  sale_reason_19  \\\n",
       "623522                0               0               0               0   \n",
       "1534504               0               0               0               0   \n",
       "1727503               0               0               0               0   \n",
       "1727505               0               0               1               0   \n",
       "\n",
       "         sale_reason_2  sale_reason_3  sale_reason_4  sale_reason_5  \\\n",
       "623522               0              0              0              0   \n",
       "1534504              0              0              0              0   \n",
       "1727503              0              0              0              0   \n",
       "1727505              0              0              0              0   \n",
       "\n",
       "         sale_reason_6  sale_reason_7  sale_reason_8  sale_reason_9  \\\n",
       "623522               0              0              0              0   \n",
       "1534504              0              0              0              0   \n",
       "1727503              0              0              0              0   \n",
       "1727505              0              0              0              0   \n",
       "\n",
       "         property_class_0  property_class_1  property_class_2  \\\n",
       "623522                  0                 0                 0   \n",
       "1534504                 0                 0                 0   \n",
       "1727503                 0                 0                 0   \n",
       "1727505                 0                 0                 0   \n",
       "\n",
       "         property_class_3  property_class_4  property_class_7  \\\n",
       "623522                  0                 0                 1   \n",
       "1534504                 0                 0                 1   \n",
       "1727503                 0                 0                 1   \n",
       "1727505                 0                 0                 1   \n",
       "\n",
       "         property_class_8  property_class_9  nbr_living_units_0.0  \\\n",
       "623522                  0                 0                     0   \n",
       "1534504                 0                 0                     0   \n",
       "1727503                 0                 0                     0   \n",
       "1727505                 0                 0                     0   \n",
       "\n",
       "         nbr_living_units_1.0  nbr_living_units_2.0  nbr_living_units_3.0  \\\n",
       "623522                      1                     0                     0   \n",
       "1534504                     1                     0                     0   \n",
       "1727503                     1                     0                     0   \n",
       "1727505                     1                     0                     0   \n",
       "\n",
       "         stories_0.0  stories_1.0  stories_1.5  stories_2.0  stories_2.5  \\\n",
       "623522             0            0            0            1            0   \n",
       "1534504            0            0            0            1            0   \n",
       "1727503            0            1            0            0            0   \n",
       "1727505            0            1            0            0            0   \n",
       "\n",
       "         stories_3.0  stories_3.5  stories_4.0  bldg_grade_0.0  \\\n",
       "623522             0            0            0               0   \n",
       "1534504            0            0            0               0   \n",
       "1727503            0            0            0               0   \n",
       "1727505            0            0            0               0   \n",
       "\n",
       "         bldg_grade_1.0  bldg_grade_10.0  bldg_grade_11.0  bldg_grade_12.0  \\\n",
       "623522                0                0                1                0   \n",
       "1534504               0                0                0                0   \n",
       "1727503               0                0                0                0   \n",
       "1727505               0                0                0                0   \n",
       "\n",
       "         bldg_grade_13.0  bldg_grade_2.0  bldg_grade_3.0  bldg_grade_4.0  \\\n",
       "623522                 0               0               0               0   \n",
       "1534504                0               0               0               0   \n",
       "1727503                0               0               0               0   \n",
       "1727505                0               0               0               0   \n",
       "\n",
       "         bldg_grade_5.0  bldg_grade_6.0  bldg_grade_7.0  bldg_grade_8.0  \\\n",
       "623522                0               0               0               0   \n",
       "1534504               0               0               0               0   \n",
       "1727503               0               0               0               1   \n",
       "1727505               0               0               0               1   \n",
       "\n",
       "         bldg_grade_9.0  bldg_grade_var_0.0  bldg_grade_var_20.0  \\\n",
       "623522                0                   1                    0   \n",
       "1534504               1                   1                    0   \n",
       "1727503               0                   1                    0   \n",
       "1727505               0                   1                    0   \n",
       "\n",
       "         bldg_grade_var_60.0  bldg_grade_var_99.0  daylight_basement_   \\\n",
       "623522                     0                    0                    1   \n",
       "1534504                    0                    0                    0   \n",
       "1727503                    0                    0                    0   \n",
       "1727505                    0                    0                    0   \n",
       "\n",
       "         daylight_basement_0  daylight_basement_N  daylight_basement_Y  \\\n",
       "623522                     0                    0                    0   \n",
       "1534504                    0                    1                    0   \n",
       "1727503                    0                    1                    0   \n",
       "1727505                    0                    1                    0   \n",
       "\n",
       "         daylight_basement_y  heat_system_0.0  heat_system_1.0  \\\n",
       "623522                     0                0                0   \n",
       "1534504                    0                0                0   \n",
       "1727503                    0                0                0   \n",
       "1727505                    0                0                0   \n",
       "\n",
       "         heat_system_2.0  heat_system_3.0  heat_system_4.0  heat_system_5.0  \\\n",
       "623522                 0                0                0                1   \n",
       "1534504                0                0                0                1   \n",
       "1727503                0                0                0                1   \n",
       "1727505                0                0                0                1   \n",
       "\n",
       "         heat_system_6.0  heat_system_7.0  heat_system_8.0  heat_source_0.0  \\\n",
       "623522                 0                0                0                0   \n",
       "1534504                0                0                0                0   \n",
       "1727503                0                0                0                0   \n",
       "1727505                0                0                0                0   \n",
       "\n",
       "         heat_source_1.0  heat_source_2.0  heat_source_3.0  heat_source_5.0  \\\n",
       "623522                 0                1                0                0   \n",
       "1534504                0                1                0                0   \n",
       "1727503                0                1                0                0   \n",
       "1727505                0                1                0                0   \n",
       "\n",
       "         heat_source_6.0  heat_source_7.0  bath_half_count_0.0  \\\n",
       "623522                 0                0                    0   \n",
       "1534504                0                0                    1   \n",
       "1727503                0                0                    1   \n",
       "1727505                0                0                    1   \n",
       "\n",
       "         bath_half_count_1.0  bath_half_count_2.0  bath_half_count_3.0  \\\n",
       "623522                     1                    0                    0   \n",
       "1534504                    0                    0                    0   \n",
       "1727503                    0                    0                    0   \n",
       "1727505                    0                    0                    0   \n",
       "\n",
       "         bath_half_count_4.0  bath_half_count_5.0  bath_half_count_6.0  \\\n",
       "623522                     0                    0                    0   \n",
       "1534504                    0                    0                    0   \n",
       "1727503                    0                    0                    0   \n",
       "1727505                    0                    0                    0   \n",
       "\n",
       "         bath_half_count_7.0  bath_3qtr_count_0.0  bath_3qtr_count_1.0  \\\n",
       "623522                     0                    1                    0   \n",
       "1534504                    0                    0                    1   \n",
       "1727503                    0                    0                    1   \n",
       "1727505                    0                    0                    1   \n",
       "\n",
       "         bath_3qtr_count_2.0  bath_3qtr_count_3.0  bath_3qtr_count_4.0  \\\n",
       "623522                     0                    0                    0   \n",
       "1534504                    0                    0                    0   \n",
       "1727503                    0                    0                    0   \n",
       "1727505                    0                    0                    0   \n",
       "\n",
       "         bath_3qtr_count_5.0  bath_3qtr_count_6.0  bath_3qtr_count_8.0  \\\n",
       "623522                     0                    0                    0   \n",
       "1534504                    0                    0                    0   \n",
       "1727503                    0                    0                    0   \n",
       "1727505                    0                    0                    0   \n",
       "\n",
       "         bath_3qtr_count_9.0  bath_full_count_0.0  bath_full_count_1.0  \\\n",
       "623522                     0                    0                    0   \n",
       "1534504                    0                    0                    0   \n",
       "1727503                    0                    0                    1   \n",
       "1727505                    0                    0                    1   \n",
       "\n",
       "         bath_full_count_2.0  bath_full_count_23.0  bath_full_count_3.0  \\\n",
       "623522                     0                     0                    1   \n",
       "1534504                    1                     0                    0   \n",
       "1727503                    0                     0                    0   \n",
       "1727505                    0                     0                    0   \n",
       "\n",
       "         bath_full_count_4.0  bath_full_count_5.0  bath_full_count_6.0  \\\n",
       "623522                     0                    0                    0   \n",
       "1534504                    0                    0                    0   \n",
       "1727503                    0                    0                    0   \n",
       "1727505                    0                    0                    0   \n",
       "\n",
       "         bath_full_count_7.0  bath_full_count_8.0  view_utilization_   \\\n",
       "623522                     0                    0                   1   \n",
       "1534504                    0                    0                   0   \n",
       "1727503                    0                    0                   0   \n",
       "1727505                    0                    0                   0   \n",
       "\n",
       "         view_utilization_0  view_utilization_N  view_utilization_Y  \\\n",
       "623522                    0                   0                   0   \n",
       "1534504                   0                   1                   0   \n",
       "1727503                   0                   1                   0   \n",
       "1727505                   0                   1                   0   \n",
       "\n",
       "         view_utilization_y  fp_single_story_0.0  fp_single_story_1.0  \\\n",
       "623522                    0                    0                    0   \n",
       "1534504                   0                    0                    1   \n",
       "1727503                   0                    0                    1   \n",
       "1727505                   0                    0                    1   \n",
       "\n",
       "         fp_single_story_2.0  fp_single_story_3.0  fp_single_story_4.0  \\\n",
       "623522                     0                    1                    0   \n",
       "1534504                    0                    0                    0   \n",
       "1727503                    0                    0                    0   \n",
       "1727505                    0                    0                    0   \n",
       "\n",
       "         fp_single_story_5.0  fp_single_story_6.0  fp_single_story_7.0  \\\n",
       "623522                     0                    0                    0   \n",
       "1534504                    0                    0                    0   \n",
       "1727503                    0                    0                    0   \n",
       "1727505                    0                    0                    0   \n",
       "\n",
       "         fp_single_story_8.0  fp_multi_story_0.0  fp_multi_story_1.0  \\\n",
       "623522                     0                   1                   0   \n",
       "1534504                    0                   1                   0   \n",
       "1727503                    0                   1                   0   \n",
       "1727505                    0                   1                   0   \n",
       "\n",
       "         fp_multi_story_2.0  fp_multi_story_3.0  fp_multi_story_4.0  \\\n",
       "623522                    0                   0                   0   \n",
       "1534504                   0                   0                   0   \n",
       "1727503                   0                   0                   0   \n",
       "1727505                   0                   0                   0   \n",
       "\n",
       "         fp_freestanding_0.0  fp_freestanding_1.0  fp_freestanding_2.0  \\\n",
       "623522                     1                    0                    0   \n",
       "1534504                    1                    0                    0   \n",
       "1727503                    1                    0                    0   \n",
       "1727505                    1                    0                    0   \n",
       "\n",
       "         fp_freestanding_3.0  fp_freestanding_4.0  fp_additional_0.0  \\\n",
       "623522                     0                    0                  1   \n",
       "1534504                    0                    0                  1   \n",
       "1727503                    0                    0                  1   \n",
       "1727505                    0                    0                  1   \n",
       "\n",
       "         fp_additional_1.0  fp_additional_2.0  fp_additional_3.0  \\\n",
       "623522                   0                  0                  0   \n",
       "1534504                  0                  0                  0   \n",
       "1727503                  0                  0                  0   \n",
       "1727505                  0                  0                  0   \n",
       "\n",
       "         fp_additional_4.0  condition_0.0  condition_1.0  condition_2.0  \\\n",
       "623522                   0              0              0              0   \n",
       "1534504                  0              0              0              0   \n",
       "1727503                  0              0              0              0   \n",
       "1727505                  0              0              0              0   \n",
       "\n",
       "         condition_3.0  condition_4.0  condition_5.0  unit_type_item_id_0.0  \\\n",
       "623522               1              0              0                      1   \n",
       "1534504              1              0              0                      1   \n",
       "1727503              1              0              0                      1   \n",
       "1727505              1              0              0                      1   \n",
       "\n",
       "         unit_type_item_id_1.0  unit_type_item_id_2.0  unit_type_item_id_3.0  \\\n",
       "623522                       0                      0                      0   \n",
       "1534504                      0                      0                      0   \n",
       "1727503                      0                      0                      0   \n",
       "1727505                      0                      0                      0   \n",
       "\n",
       "         unit_type_item_id_8.0  nbr_bedrooms_0  nbr_bedrooms_1  \\\n",
       "623522                       0               1               0   \n",
       "1534504                      0               1               0   \n",
       "1727503                      0               1               0   \n",
       "1727505                      0               1               0   \n",
       "\n",
       "         nbr_bedrooms_2  nbr_bedrooms_22  nbr_bedrooms_3  nbr_bedrooms_4  \\\n",
       "623522                0                0               0               0   \n",
       "1534504               0                0               0               0   \n",
       "1727503               0                0               0               0   \n",
       "1727505               0                0               0               0   \n",
       "\n",
       "         nbr_bedrooms_5  nbr_bedrooms_S  nbr_baths_0.0  nbr_baths_0.75  \\\n",
       "623522                0               0              1               0   \n",
       "1534504               0               0              1               0   \n",
       "1727503               0               0              1               0   \n",
       "1727505               0               0              1               0   \n",
       "\n",
       "         nbr_baths_1.0  nbr_baths_1.5  nbr_baths_1.75  nbr_baths_2.0  \\\n",
       "623522               0              0               0              0   \n",
       "1534504              0              0               0              0   \n",
       "1727503              0              0               0              0   \n",
       "1727505              0              0               0              0   \n",
       "\n",
       "         nbr_baths_2.5  nbr_baths_22.0  nbr_baths_3.0  nbr_baths_3.5  \n",
       "623522               0               0              0              0  \n",
       "1534504              0               0              0              0  \n",
       "1727503              0               0              0              0  \n",
       "1727505              0               0              0              0  "
      ]
     },
     "execution_count": 69,
     "metadata": {},
     "output_type": "execute_result"
    }
   ],
   "source": [
    "X_351"
   ]
  },
  {
   "cell_type": "code",
<<<<<<< Updated upstream
   "execution_count": null,
=======
   "execution_count": 121,
   "metadata": {
    "collapsed": false
   },
   "outputs": [
    {
     "data": {
      "text/plain": [
       "array([ 236956.3125], dtype=float32)"
      ]
     },
     "execution_count": 121,
     "metadata": {},
     "output_type": "execute_result"
    }
   ],
   "source": [
    "X_351 = final_df[final_df['address'].str.contains('351  N 137', na=False)]\n",
    "del X_351['address']\n",
    "# X_351['sale_year'] = 1998\n",
    "model_XG.predict(X_351)"
   ]
  },
  {
   "cell_type": "code",
   "execution_count": 124,
   "metadata": {
    "collapsed": false
   },
   "outputs": [
    {
     "name": "stderr",
     "output_type": "stream",
     "text": [
      "/home/ubuntu/anaconda3/lib/python3.6/site-packages/ipykernel_launcher.py:3: SettingWithCopyWarning: \n",
      "A value is trying to be set on a copy of a slice from a DataFrame.\n",
      "Try using .loc[row_indexer,col_indexer] = value instead\n",
      "\n",
      "See the caveats in the documentation: http://pandas.pydata.org/pandas-docs/stable/indexing.html#indexing-view-versus-copy\n",
      "  This is separate from the ipykernel package so we can avoid doing imports until\n",
      "/home/ubuntu/anaconda3/lib/python3.6/site-packages/ipykernel_launcher.py:4: SettingWithCopyWarning: \n",
      "A value is trying to be set on a copy of a slice from a DataFrame.\n",
      "Try using .loc[row_indexer,col_indexer] = value instead\n",
      "\n",
      "See the caveats in the documentation: http://pandas.pydata.org/pandas-docs/stable/indexing.html#indexing-view-versus-copy\n",
      "  after removing the cwd from sys.path.\n"
     ]
    },
    {
     "data": {
      "text/plain": [
       "array([ 647066.3125], dtype=float32)"
      ]
     },
     "execution_count": 124,
     "metadata": {},
     "output_type": "execute_result"
    }
   ],
   "source": [
    "X_351 = final_df[final_df['address'].str.contains('351  N 137', na=False)]\n",
    "del X_351['address']\n",
    "X_351['sale_year'] = 2017\n",
    "X_351['sale_month'] = 7\n",
    "model_XG.predict(X_351)"
   ]
  },
  {
   "cell_type": "code",
   "execution_count": 113,
>>>>>>> Stashed changes
   "metadata": {
    "collapsed": true
   },
   "outputs": [],
   "source": []
  },
  {
   "cell_type": "code",
   "execution_count": null,
   "metadata": {
    "collapsed": true
   },
   "outputs": [],
   "source": []
  },
  {
   "cell_type": "code",
<<<<<<< Updated upstream
   "execution_count": 27,
   "metadata": {},
=======
   "execution_count": 118,
   "metadata": {
    "collapsed": false
   },
>>>>>>> Stashed changes
   "outputs": [
    {
     "name": "stdout",
     "output_type": "stream",
     "text": [
      "XGBRegressor\n",
      "R2 score: 0.633\n",
      "Mean Squared Error score: 937720.356\n",
      "Mean Absolute Error score: 166717.501\n",
      "Median absolute error: 48487.203\n"
     ]
    }
   ],
   "source": [
    "# XGBoost\n",
    "# property_type = [1, 2, 3]\n",
    "model_XG_prop_keep_123 = XGBRegressor(learning_rate=0.1, n_estimators=500, max_depth=15)\n",
    "model_XG_prop_keep_123.fit(X_train, y_train)\n",
    "print_scores(model_XG_prop_keep_123, X_test, y_test)"
   ]
  },
  {
   "cell_type": "code",
<<<<<<< Updated upstream
   "execution_count": 37,
   "metadata": {},
=======
   "execution_count": 198,
   "metadata": {
    "collapsed": false
   },
>>>>>>> Stashed changes
   "outputs": [
    {
     "name": "stdout",
     "output_type": "stream",
     "text": [
      "XGBRegressor\n",
      "R2 score: 0.768\n",
      "Mean Squared Error score: 337815.898\n",
      "Mean Absolute Error score: 104954.531\n",
      "Median absolute error: 43376.750\n"
     ]
    }
   ],
   "source": [
    "# XGBoost\n",
    "# property_type = [2, 3]\n",
    "model_XG = XGBRegressor(learning_rate=0.1, n_estimators=500, max_depth=15)\n",
    "model_XG.fit(X_train, y_train)\n",
    "print_scores(model_XG, X_test, y_test)"
   ]
  },
  {
   "cell_type": "code",
<<<<<<< Updated upstream
   "execution_count": 50,
   "metadata": {},
=======
   "execution_count": 200,
   "metadata": {
    "collapsed": false
   },
>>>>>>> Stashed changes
   "outputs": [
    {
     "name": "stdout",
     "output_type": "stream",
     "text": [
      "XGBRegressor\n",
      "R2 score: 0.544\n",
      "Mean Squared Error score: 2875773.175\n",
      "Mean Absolute Error score: 751892.182\n",
      "Median absolute error: 146007.797\n"
     ]
    }
   ],
   "source": [
    "# XGBoost\n",
    "# property_type = [1]\n",
    "model_XG_prop_keep_1 = XGBRegressor(learning_rate=0.1, n_estimators=500, max_depth=15)\n",
    "model_XG_prop_keep_1.fit(X_train, y_train)\n",
    "print_scores(model_XG_prop_keep_1, X_test, y_test)"
   ]
  },
  {
   "cell_type": "code",
   "execution_count": null,
   "metadata": {
<<<<<<< Updated upstream
    "collapsed": true
   },
   "outputs": [],
   "source": []
  },
  {
   "cell_type": "code",
   "execution_count": null,
   "metadata": {
    "collapsed": true
   },
   "outputs": [],
   "source": []
  },
  {
   "cell_type": "code",
   "execution_count": null,
   "metadata": {
    "collapsed": true
   },
   "outputs": [],
   "source": []
  },
  {
   "cell_type": "code",
   "execution_count": null,
   "metadata": {
    "collapsed": true
   },
   "outputs": [],
   "source": []
  },
  {
   "cell_type": "code",
   "execution_count": null,
   "metadata": {
    "collapsed": true
   },
   "outputs": [],
   "source": []
  },
  {
   "cell_type": "code",
   "execution_count": 200,
   "metadata": {},
=======
    "collapsed": false
   },
>>>>>>> Stashed changes
   "outputs": [
    {
     "name": "stdout",
     "output_type": "stream",
     "text": [
      "RandomForestRegressor\n",
      "R2 score: 0.665\n",
      "Mean Squared Error score: 791132.957\n",
      "Mean Absolute Error score: 227592.219\n",
      "Median absolute error: 100587.166\n"
     ]
    }
   ],
   "source": [
    "# Random Forest\n",
    "# 5 years\n",
    "model_RF = RandomForestRegressor(n_jobs=-1, n_estimators=250)\n",
    "model_RF.fit(X_train, y_train)\n",
    "print_scores(model_RF, X_test, y_test)"
   ]
  },
  {
   "cell_type": "code",
   "execution_count": null,
   "metadata": {
    "collapsed": true
   },
   "outputs": [],
   "source": []
  },
  {
   "cell_type": "code",
   "execution_count": null,
   "metadata": {
    "collapsed": true
   },
   "outputs": [],
   "source": []
  },
  {
   "cell_type": "code",
   "execution_count": null,
   "metadata": {
<<<<<<< Updated upstream
    "collapsed": true
=======
    "collapsed": false,
    "scrolled": true
>>>>>>> Stashed changes
   },
   "outputs": [],
   "source": []
  },
  {
   "cell_type": "code",
   "execution_count": null,
   "metadata": {},
   "outputs": [
    {
     "name": "stdout",
     "output_type": "stream",
     "text": [
      "RandomForestRegressor\n",
      "R2 score: 0.667\n",
      "Mean Squared Error score: 834058.267\n",
      "Mean Absolute Error score: 178046.207\n",
      "Median absolute error: 58373.112\n"
     ]
    }
   ],
   "source": [
    "# 5 all data\n",
    "model_RF = RandomForestRegressor(n_jobs=-1, n_estimators=250)\n",
    "model_RF.fit(X_train, y_train)\n",
    "print_scores(model_RF, X_test, y_test)"
   ]
  },
  {
   "cell_type": "code",
   "execution_count": 16,
   "metadata": {
    "collapsed": false
   },
   "outputs": [
    {
     "name": "stdout",
     "output_type": "stream",
     "text": [
      "XGBRegressor\n",
      "R2 score: 0.630\n",
      "Mean Squared Error score: 907677.636\n",
      "Mean Absolute Error score: 176873.642\n",
      "Median absolute error: 56380.766\n"
     ]
    }
   ],
   "source": [
    "# XGBoost\n",
    "# all data\n",
    "model_XG = XGBRegressor(learning_rate=0.1, n_estimators=500, max_depth=15)\n",
    "model_XG.fit(X_train, y_train)\n",
    "print_scores(model_XG, X_test, y_test)"
   ]
  },
  {
   "cell_type": "code",
   "execution_count": 220,
   "metadata": {
    "collapsed": false
   },
   "outputs": [
    {
     "name": "stdout",
     "output_type": "stream",
     "text": [
      "XGBRegressor\n",
      "R2 score: 0.470\n",
      "Mean Squared Error score: 994781.830\n",
      "Mean Absolute Error score: 288562.080\n",
      "Median absolute error: 119413.695\n"
     ]
    }
   ],
   "source": [
    "# 5 years\n",
    "model_XG = XGBRegressor(learning_rate=0.1, n_estimators=500)\n",
    "model_XG.fit(X_train, y_train)\n",
    "print_scores(model_XG, X_test, y_test)"
   ]
  },
  {
   "cell_type": "code",
   "execution_count": 228,
   "metadata": {
    "collapsed": false
   },
   "outputs": [
    {
     "name": "stdout",
     "output_type": "stream",
     "text": [
      "XGBRegressor\n",
      "R2 score: 0.660\n",
      "Mean Squared Error score: 797269.744\n",
      "Mean Absolute Error score: 222701.515\n",
      "Median absolute error: 94690.203\n"
     ]
    }
   ],
   "source": [
    "model_XG = XGBRegressor(learning_rate=0.1, n_estimators=750, max_depth=15)\n",
    "model_XG.fit(X_train, y_train)\n",
    "print_scores(model_XG, X_test, y_test)"
   ]
  },
  {
   "cell_type": "code",
   "execution_count": 229,
   "metadata": {
    "collapsed": false
   },
   "outputs": [
    {
     "name": "stdout",
     "output_type": "stream",
     "text": [
      "XGBRegressor\n",
      "R2 score: 0.659\n",
      "Mean Squared Error score: 797746.371\n",
      "Mean Absolute Error score: 224082.289\n",
      "Median absolute error: 96062.859\n"
     ]
    }
   ],
   "source": [
    "model_XG = XGBRegressor(learning_rate=0.1, n_estimators=2500, max_depth=15)\n",
    "model_XG.fit(X_train, y_train)\n",
    "print_scores(model_XG, X_test, y_test)"
   ]
  },
  {
   "cell_type": "code",
   "execution_count": 234,
   "metadata": {
    "collapsed": false
   },
   "outputs": [
    {
     "name": "stdout",
     "output_type": "stream",
     "text": [
      "XGBRegressor\n",
      "R2 score: 0.662\n",
      "Mean Squared Error score: 794582.942\n",
      "Mean Absolute Error score: 220364.935\n",
      "Median absolute error: 94968.031\n"
     ]
    }
   ],
   "source": [
    "model_XG = XGBRegressor(learning_rate=0.01, n_estimators=2500, max_depth=15)\n",
    "model_XG.fit(X_train, y_train)\n",
    "print_scores(model_XG, X_test, y_test)"
   ]
  },
  {
   "cell_type": "code",
   "execution_count": 231,
   "metadata": {
    "collapsed": false
   },
   "outputs": [
    {
     "name": "stdout",
     "output_type": "stream",
     "text": [
      "XGBRegressor\n",
      "R2 score: 0.661\n",
      "Mean Squared Error score: 796104.857\n",
      "Mean Absolute Error score: 221147.556\n",
      "Median absolute error: 94109.656\n"
     ]
    }
   ],
   "source": [
    "model_XG = XGBRegressor(learning_rate=0.1, n_estimators=400, max_depth=15)\n",
    "model_XG.fit(X_train, y_train)\n",
    "print_scores(model_XG, X_test, y_test)"
   ]
  },
  {
   "cell_type": "code",
   "execution_count": 232,
   "metadata": {
    "collapsed": false
   },
   "outputs": [
    {
     "name": "stdout",
     "output_type": "stream",
     "text": [
      "XGBRegressor\n",
      "R2 score: 0.660\n",
      "Mean Squared Error score: 797063.149\n",
      "Mean Absolute Error score: 222278.364\n",
      "Median absolute error: 94144.086\n"
     ]
    }
   ],
   "source": [
    "model_XG = XGBRegressor(learning_rate=0.1, n_estimators=850, max_depth=15)\n",
    "model_XG.fit(X_train, y_train)\n",
    "print_scores(model_XG, X_test, y_test)"
   ]
  },
  {
   "cell_type": "code",
   "execution_count": 233,
   "metadata": {
    "collapsed": false
   },
   "outputs": [
    {
     "name": "stdout",
     "output_type": "stream",
     "text": [
      "XGBRegressor\n",
      "R2 score: 0.660\n",
      "Mean Squared Error score: 796780.867\n",
      "Mean Absolute Error score: 221739.404\n",
      "Median absolute error: 93938.781\n"
     ]
    }
   ],
   "source": [
    "model_XG = XGBRegressor(learning_rate=0.1, n_estimators=650, max_depth=15)\n",
    "model_XG.fit(X_train, y_train)\n",
    "print_scores(model_XG, X_test, y_test)"
   ]
  },
  {
   "cell_type": "code",
   "execution_count": null,
   "metadata": {
    "collapsed": true
   },
   "outputs": [],
   "source": []
  },
  {
   "cell_type": "code",
   "execution_count": null,
   "metadata": {
    "collapsed": true
   },
   "outputs": [],
   "source": []
  },
  {
   "cell_type": "code",
   "execution_count": 202,
   "metadata": {
    "collapsed": false
   },
   "outputs": [
    {
     "name": "stdout",
     "output_type": "stream",
     "text": [
      "106063.083333\n"
     ]
    }
   ],
   "source": [
    "#### Cross Val Score\n",
    "model_cv_RF = RandomForestRegressor(n_jobs=-1)\n",
    "print(cross_val_score(model_cv_RF, X, y, cv=3, scoring=scorer_).mean())"
   ]
  },
  {
   "cell_type": "code",
   "execution_count": 203,
   "metadata": {
    "collapsed": false
   },
   "outputs": [
    {
     "name": "stdout",
     "output_type": "stream",
     "text": [
      "139275.21097\n"
     ]
    }
   ],
   "source": [
    "model_cv_GB = GradientBoostingRegressor(learning_rate=0.01, n_estimators=500)\n",
    "print(cross_val_score(model_cv_GB, X, y, cv=3, scoring=scorer_).mean())"
   ]
  },
  {
   "cell_type": "code",
   "execution_count": null,
   "metadata": {
    "collapsed": true
   },
   "outputs": [],
   "source": [
    "model_cv_XG = XGBRegressor(learning_rate=0.01)\n"
   ]
  },
  {
   "cell_type": "code",
   "execution_count": null,
   "metadata": {
    "collapsed": true
   },
   "outputs": [],
   "source": []
  },
  {
   "cell_type": "code",
   "execution_count": 36,
   "metadata": {
    "collapsed": false
   },
   "outputs": [
    {
     "name": "stdout",
     "output_type": "stream",
     "text": [
      "LinearRegression\n",
      "R2 score: 0.091\n",
      "Mean Squared Error score: 1412014.417\n",
      "Mean Absolute Error score: 369285.069\n",
      "Median absolute error: 137303.354\n"
     ]
    }
   ],
   "source": [
    "model_LR = LinearRegression()\n",
    "model_LR.fit(X_train, y_train)\n",
    "print_scores(model_LR, X_test, y_test)"
   ]
  },
  {
   "cell_type": "code",
   "execution_count": 16,
   "metadata": {
    "collapsed": false
   },
   "outputs": [
    {
     "name": "stdout",
     "output_type": "stream",
     "text": [
      "XGBRegressor\n",
      "R2 score: 0.648\n",
      "Mean Squared Error score: 878149.636\n",
      "Mean Absolute Error score: 174206.849\n",
      "Median absolute error: 56420.531\n"
     ]
    }
   ],
   "source": [
    "model_XG = XGBRegressor(learning_rate=0.1, n_estimators=500, max_depth=15)\n",
    "model_XG.fit(X_train, y_train)\n",
    "print_scores(model_XG, X_test, y_test)"
   ]
  },
  {
   "cell_type": "code",
   "execution_count": 102,
   "metadata": {
    "collapsed": false
   },
   "outputs": [
    {
     "name": "stdout",
     "output_type": "stream",
     "text": [
      "XGBRegressor\n",
      "R2 score: 0.643\n",
      "Mean Squared Error score: 901539.971\n",
      "Mean Absolute Error score: 164396.411\n",
      "Median absolute error: 47795.047\n"
     ]
    }
   ],
   "source": [
    "# Monday testing of XGBoost\n",
    "model_XG = XGBRegressor(learning_rate=0.1, n_estimators=500, max_depth=15)\n",
    "model_XG.fit(X_train, y_train)\n",
    "print_scores(model_XG, X_test, y_test)"
   ]
  },
  {
   "cell_type": "code",
   "execution_count": 119,
   "metadata": {
    "collapsed": false
   },
   "outputs": [
    {
     "name": "stdout",
     "output_type": "stream",
     "text": [
      "XGBRegressor\n",
      "R2 score: 0.622\n",
      "Mean Squared Error score: 896446.090\n",
      "Mean Absolute Error score: 164177.424\n",
      "Median absolute error: 48143.703\n"
     ]
    }
   ],
   "source": [
    "# Monday testing of XGBoost\n",
    "# Adding in latest data\n",
    "model_XG = XGBRegressor(learning_rate=0.1, n_estimators=500, max_depth=15)\n",
    "model_XG.fit(X_train, y_train)\n",
    "print_scores(model_XG, X_test, y_test)"
   ]
  },
  {
   "cell_type": "code",
   "execution_count": 103,
   "metadata": {
    "collapsed": false
   },
   "outputs": [
    {
     "name": "stdout",
     "output_type": "stream",
     "text": [
      "XGBRegressor\n",
      "R2 score: 0.627\n",
      "Mean Squared Error score: 904576.535\n",
      "Mean Absolute Error score: 214274.547\n",
      "Median absolute error: 69425.125\n"
     ]
    }
   ],
   "source": [
    "model_XG2 = XGBRegressor(learning_rate=0.1, n_estimators=700, max_depth=8)\n",
    "model_XG2.fit(X_train, y_train)\n",
    "print_scores(model_XG2, X_test, y_test)"
   ]
  },
  {
   "cell_type": "code",
   "execution_count": 17,
   "metadata": {
    "collapsed": false
   },
   "outputs": [
    {
     "name": "stdout",
     "output_type": "stream",
     "text": [
      "RandomForestRegressor\n",
      "R2 score: 0.652\n",
      "Mean Squared Error score: 874166.141\n",
      "Mean Absolute Error score: 181493.184\n",
      "Median absolute error: 58649.726\n"
     ]
    }
   ],
   "source": [
    "model_RF = RandomForestRegressor(n_jobs=-1, n_estimators=250)\n",
    "model_RF.fit(X_train, y_train)\n",
    "print_scores(model_RF, X_test, y_test)"
   ]
  },
  {
   "cell_type": "code",
   "execution_count": 88,
   "metadata": {
    "collapsed": false
   },
   "outputs": [
    {
     "name": "stdout",
     "output_type": "stream",
     "text": [
      "RandomForestRegressor\n",
      "R2 score: 0.634\n",
      "Mean Squared Error score: 861916.143\n",
      "Mean Absolute Error score: 173441.367\n",
      "Median absolute error: 51954.074\n"
     ]
    }
   ],
   "source": [
    "# Monday testing of RF\n",
    "model_RF = RandomForestRegressor(n_jobs=-1, n_estimators=250)\n",
    "model_RF.fit(X_train, y_train)\n",
    "print_scores(model_RF, X_test, y_test)"
   ]
  },
  {
   "cell_type": "code",
   "execution_count": 120,
   "metadata": {
    "collapsed": false
   },
   "outputs": [
    {
     "name": "stdout",
     "output_type": "stream",
     "text": [
      "RandomForestRegressor\n",
      "R2 score: 0.633\n",
      "Mean Squared Error score: 882900.931\n",
      "Mean Absolute Error score: 174574.753\n",
      "Median absolute error: 51640.634\n"
     ]
    }
   ],
   "source": [
    "# Monday testing of RF\n",
    "# Adding in latest data\n",
    "model_RF = RandomForestRegressor(n_jobs=-1, n_estimators=250)\n",
    "model_RF.fit(X_train, y_train)\n",
    "print_scores(model_RF, X_test, y_test)"
   ]
  },
  {
   "cell_type": "code",
   "execution_count": 90,
   "metadata": {
    "collapsed": false
   },
   "outputs": [
    {
     "name": "stdout",
     "output_type": "stream",
     "text": [
      "Ridge\n",
      "R2 score: 0.091\n",
      "Mean Squared Error score: 1411956.987\n",
      "Mean Absolute Error score: 369244.183\n",
      "Median absolute error: 137308.328\n"
     ]
    }
   ],
   "source": [
    "model_RI = Ridge()\n",
    "model_RI.fit(X_train, y_train)\n",
    "print_scores(model_RI, X_test, y_test)"
   ]
  },
  {
   "cell_type": "code",
   "execution_count": null,
   "metadata": {
    "collapsed": true
   },
   "outputs": [],
   "source": [
    "model_SR = SVR()\n",
    "model_SR.fit(X_train, y_train)\n",
    "print_scores(model_SR, X_test, y_test)"
   ]
  },
  {
   "cell_type": "code",
   "execution_count": 109,
   "metadata": {
    "collapsed": false
   },
   "outputs": [
    {
     "name": "stdout",
     "output_type": "stream",
     "text": [
      "Lasso\n",
      "R2 score: 0.091\n",
      "Mean Squared Error score: 1411877.903\n",
      "Mean Absolute Error score: 368937.567\n",
      "Median absolute error: 136984.537\n"
     ]
    },
    {
     "name": "stderr",
     "output_type": "stream",
     "text": [
      "/home/ubuntu/anaconda3/lib/python3.6/site-packages/sklearn/linear_model/coordinate_descent.py:484: ConvergenceWarning: Objective did not converge. You might want to increase the number of iterations. Fitting data with very small alpha may cause precision problems.\n",
      "  ConvergenceWarning)\n"
     ]
    }
   ],
   "source": [
    "model_LA = Lasso(alpha=35)\n",
    "model_LA.fit(X_train, y_train)\n",
    "print_scores(model_LA, X_test, y_test)"
   ]
  },
  {
   "cell_type": "code",
   "execution_count": 35,
   "metadata": {
    "collapsed": false
   },
   "outputs": [
    {
     "data": {
      "text/plain": [
       "57535.128500000006"
      ]
     },
     "execution_count": 35,
     "metadata": {},
     "output_type": "execute_result"
    }
   ],
   "source": [
    "np.mean([56420.531, 58649.726])"
   ]
  },
  {
   "cell_type": "code",
   "execution_count": 19,
   "metadata": {
    "collapsed": true
   },
   "outputs": [],
   "source": [
    "ensemble = [model_XG, model_RF]#, model_SR]# model_LA, model_LR, model_RI]\n",
    "y_hat_ensemble = pd.DataFrame([model.predict(X_test) for model in ensemble]).transpose()\n",
    "e_X_train, e_X_test, e_y_train, e_y_test = train_test_split(y_hat_ensemble, y_test)"
   ]
  },
  {
   "cell_type": "code",
   "execution_count": 59,
   "metadata": {
    "collapsed": false
   },
   "outputs": [
    {
     "data": {
      "text/plain": [
       "(163890, 2)"
      ]
     },
     "execution_count": 59,
     "metadata": {},
     "output_type": "execute_result"
    }
   ],
   "source": [
    "y_hat_ensemble.shape"
   ]
  },
  {
   "cell_type": "code",
   "execution_count": 60,
   "metadata": {
    "collapsed": false
   },
   "outputs": [
    {
     "data": {
      "text/html": [
       "<div>\n",
       "<style>\n",
       "    .dataframe thead tr:only-child th {\n",
       "        text-align: right;\n",
       "    }\n",
       "\n",
       "    .dataframe thead th {\n",
       "        text-align: left;\n",
       "    }\n",
       "\n",
       "    .dataframe tbody tr th {\n",
       "        vertical-align: top;\n",
       "    }\n",
       "</style>\n",
       "<table border=\"1\" class=\"dataframe\">\n",
       "  <thead>\n",
       "    <tr style=\"text-align: right;\">\n",
       "      <th></th>\n",
       "      <th>0</th>\n",
       "      <th>1</th>\n",
       "    </tr>\n",
       "  </thead>\n",
       "  <tbody>\n",
       "    <tr>\n",
       "      <th>0</th>\n",
       "      <td>142651.625</td>\n",
       "      <td>150129.84</td>\n",
       "    </tr>\n",
       "  </tbody>\n",
       "</table>\n",
       "</div>"
      ],
      "text/plain": [
       "            0          1\n",
       "0  142651.625  150129.84"
      ]
     },
     "execution_count": 60,
     "metadata": {},
     "output_type": "execute_result"
    }
   ],
   "source": [
    "y_hat_ensemble.iloc[0:1]"
   ]
  },
  {
   "cell_type": "code",
   "execution_count": 20,
   "metadata": {
    "collapsed": false
   },
   "outputs": [
    {
     "data": {
      "text/plain": [
       "XGBRegressor(base_score=0.5, colsample_bylevel=1, colsample_bytree=1, gamma=0,\n",
       "       learning_rate=0.1, max_delta_step=0, max_depth=8,\n",
       "       min_child_weight=1, missing=None, n_estimators=500, nthread=-1,\n",
       "       objective='reg:linear', reg_alpha=0, reg_lambda=1,\n",
       "       scale_pos_weight=1, seed=0, silent=True, subsample=1)"
      ]
     },
     "execution_count": 20,
     "metadata": {},
     "output_type": "execute_result"
    }
   ],
   "source": [
    "combiner = XGBRegressor(learning_rate=0.1, n_estimators=500, max_depth=8)\n",
    "combiner.fit(e_X_train, e_y_train)"
   ]
  },
  {
   "cell_type": "code",
   "execution_count": 22,
   "metadata": {
    "collapsed": false
   },
   "outputs": [
    {
     "name": "stdout",
     "output_type": "stream",
     "text": [
      "RandomForestRegressor\n",
      "R2 score: 0.665\n",
      "Mean Squared Error score: 889854.248\n",
      "Mean Absolute Error score: 186831.209\n",
      "Median absolute error: 63886.400\n"
     ]
    }
   ],
   "source": [
    "combiner_RF = RandomForestRegressor(n_jobs=-1, n_estimators=250)\n",
    "combiner_RF.fit(e_X_train, e_y_train)\n",
    "print_scores(combiner_RF, e_X_test, e_y_test)"
   ]
  },
  {
   "cell_type": "code",
   "execution_count": null,
   "metadata": {
    "collapsed": true
   },
   "outputs": [],
   "source": [
    "# XGBRegressor(learning_rate=0.1, n_estimators=400, max_depth=8)\n",
    "print_scores(combiner, e_X_test, e_y_test)"
   ]
  },
  {
   "cell_type": "code",
   "execution_count": 21,
   "metadata": {
    "collapsed": false
   },
   "outputs": [
    {
     "name": "stdout",
     "output_type": "stream",
     "text": [
      "XGBRegressor\n",
      "R2 score: 0.665\n",
      "Mean Squared Error score: 890843.912\n",
      "Mean Absolute Error score: 174703.812\n",
      "Median absolute error: 56252.406\n"
     ]
    }
   ],
   "source": [
    "# XGBRegressor(learning_rate=0.1, n_estimators=500, max_depth=8)\n",
    "print_scores(combiner, e_X_test, e_y_test)"
   ]
  },
  {
   "cell_type": "code",
   "execution_count": 72,
   "metadata": {
    "collapsed": false
   },
   "outputs": [
    {
     "data": {
      "text/plain": [
       "533777.9203366898"
      ]
     },
     "execution_count": 72,
     "metadata": {},
     "output_type": "execute_result"
    }
   ],
   "source": [
    "np.mean(y)"
   ]
  },
  {
   "cell_type": "code",
   "execution_count": null,
   "metadata": {
    "collapsed": true
   },
   "outputs": [],
   "source": []
  }
 ],
 "metadata": {
  "kernelspec": {
   "display_name": "Python 3",
   "language": "python",
   "name": "python3"
  },
  "language_info": {
   "codemirror_mode": {
    "name": "ipython",
    "version": 3
   },
   "file_extension": ".py",
   "mimetype": "text/x-python",
   "name": "python",
   "nbconvert_exporter": "python",
   "pygments_lexer": "ipython3",
   "version": "3.6.0"
  }
 },
 "nbformat": 4,
 "nbformat_minor": 2
}
