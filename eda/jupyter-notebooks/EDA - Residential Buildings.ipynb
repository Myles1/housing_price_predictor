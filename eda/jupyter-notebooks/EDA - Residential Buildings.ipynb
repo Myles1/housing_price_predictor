{
 "cells": [
  {
   "cell_type": "code",
   "execution_count": 40,
   "metadata": {
    "collapsed": false
   },
   "outputs": [],
   "source": [
    "import pandas as pd\n",
    "from sqlalchemy import create_engine\n",
    "import psycopg2"
   ]
  },
  {
   "cell_type": "code",
   "execution_count": 69,
   "metadata": {
    "collapsed": true
   },
   "outputs": [],
   "source": [
    "file_path = '/Users/MHollowed/Desktop/final_project/HousingPricePredictor/data/csvs/EXTR_ResBldg.csv'\n",
    "df = pd.read_csv(file_path, low_memory=False)# nrows=1000)\n",
    "\n",
    "\n",
    "# file_path = '/Users/MHollowed/Desktop/final_project/HousingPricePredictor/data/csvs/EXTR_RPSale.csv'\n",
    "# df = pd.read_csv(file_path, low_memory=False)\n"
   ]
  },
  {
   "cell_type": "code",
   "execution_count": 73,
   "metadata": {
    "collapsed": false
   },
   "outputs": [
    {
     "name": "stdout",
     "output_type": "stream",
     "text": [
      "<class 'pandas.core.frame.DataFrame'>\n",
      "RangeIndex: 504672 entries, 0 to 504671\n",
      "Data columns (total 50 columns):\n",
      "Major                 504672 non-null int64\n",
      "Minor                 504672 non-null int64\n",
      "BldgNbr               504672 non-null int64\n",
      "NbrLivingUnits        504672 non-null int64\n",
      "Address               504672 non-null object\n",
      "BuildingNumber        504672 non-null object\n",
      "Fraction              504672 non-null object\n",
      "DirectionPrefix       504105 non-null object\n",
      "StreetName            504672 non-null object\n",
      "StreetType            504672 non-null object\n",
      "DirectionSuffix       504105 non-null object\n",
      "ZipCode               467838 non-null object\n",
      "Stories               504672 non-null float64\n",
      "BldgGrade             504672 non-null int64\n",
      "BldgGradeVar          504672 non-null int64\n",
      "SqFt1stFloor          504672 non-null int64\n",
      "SqFtHalfFloor         504672 non-null int64\n",
      "SqFt2ndFloor          504672 non-null int64\n",
      "SqFtUpperFloor        504672 non-null int64\n",
      "SqFtUnfinFull         504672 non-null int64\n",
      "SqFtUnfinHalf         504672 non-null int64\n",
      "SqFtTotLiving         504672 non-null int64\n",
      "SqFtTotBasement       504672 non-null int64\n",
      "SqFtFinBasement       504672 non-null int64\n",
      "FinBasementGrade      504672 non-null int64\n",
      "SqFtGarageBasement    504672 non-null int64\n",
      "SqFtGarageAttached    504672 non-null int64\n",
      "DaylightBasement      504672 non-null object\n",
      "SqFtOpenPorch         504672 non-null int64\n",
      "SqFtEnclosedPorch     504672 non-null int64\n",
      "SqFtDeck              504672 non-null int64\n",
      "HeatSystem            504672 non-null int64\n",
      "HeatSource            504672 non-null int64\n",
      "BrickStone            504672 non-null int64\n",
      "ViewUtilization       504672 non-null object\n",
      "Bedrooms              504672 non-null int64\n",
      "BathHalfCount         504672 non-null int64\n",
      "Bath3qtrCount         504672 non-null int64\n",
      "BathFullCount         504672 non-null int64\n",
      "FpSingleStory         504672 non-null int64\n",
      "FpMultiStory          504672 non-null int64\n",
      "FpFreestanding        504672 non-null int64\n",
      "FpAdditional          504672 non-null int64\n",
      "YrBuilt               504672 non-null int64\n",
      "YrRenovated           504672 non-null int64\n",
      "PcntComplete          504672 non-null int64\n",
      "Obsolescence          504672 non-null int64\n",
      "PcntNetCondition      504672 non-null int64\n",
      "Condition             504672 non-null int64\n",
      "AddnlCost             504672 non-null int64\n",
      "dtypes: float64(1), int64(39), object(10)\n",
      "memory usage: 192.5+ MB\n"
     ]
    }
   ],
   "source": [
    "df.info()"
   ]
  },
  {
   "cell_type": "code",
   "execution_count": 67,
   "metadata": {
    "collapsed": false
   },
   "outputs": [],
   "source": [
    "PSQL_USER = 'MHollowed'\n",
    "PSQL_PW = ''\n",
    "PSQL_HOST = ''\n",
    "PSQL_DB = 'real_estate_data'\n",
    "\n",
    "def pandas_engine():\n",
    "    url = \"postgresql://{}:{}@{}/{}\".format(PSQL_USER, PSQL_PW, PSQL_HOST, PSQL_DB)\n",
    "    return create_engine(url)\n",
    "\n",
    "\n"
   ]
  },
  {
   "cell_type": "code",
   "execution_count": null,
   "metadata": {
    "collapsed": true
   },
   "outputs": [],
   "source": []
  },
  {
   "cell_type": "code",
   "execution_count": 71,
   "metadata": {
    "collapsed": true
   },
   "outputs": [],
   "source": [
    "df['Major'].replace(r'\\s+', 0, regex=True, inplace=True)\n",
    "df['Minor'].replace(r'\\s+', 0, regex=True, inplace=True)"
   ]
  },
  {
   "cell_type": "code",
   "execution_count": 72,
   "metadata": {
    "collapsed": false
   },
   "outputs": [],
   "source": [
    "df['Major'] = df['Major'].astype(int)\n",
    "df['Minor'] = df['Minor'].astype(int)"
   ]
  },
  {
   "cell_type": "code",
   "execution_count": 74,
   "metadata": {
    "collapsed": true
   },
   "outputs": [],
   "source": [
    "df.to_sql('property_info', pandas_engine())"
   ]
  },
  {
   "cell_type": "code",
   "execution_count": null,
   "metadata": {
    "collapsed": true
   },
   "outputs": [],
   "source": []
  }
 ],
 "metadata": {
  "kernelspec": {
   "display_name": "Python 3",
   "language": "python",
   "name": "python3"
  },
  "language_info": {
   "codemirror_mode": {
    "name": "ipython",
    "version": 3
   },
   "file_extension": ".py",
   "mimetype": "text/x-python",
   "name": "python",
   "nbconvert_exporter": "python",
   "pygments_lexer": "ipython3",
   "version": "3.6.0"
  }
 },
 "nbformat": 4,
 "nbformat_minor": 2
}
