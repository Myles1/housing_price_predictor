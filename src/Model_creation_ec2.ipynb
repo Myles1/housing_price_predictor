{
 "cells": [
  {
   "cell_type": "code",
   "execution_count": 2,
   "metadata": {
    "collapsed": true
   },
   "outputs": [],
   "source": [
    "# Database connect\n",
    "import psycopg2\n",
    "\n",
    "# DataFrames\n",
    "import pandas as pd\n",
    "pd.set_option('display.max_columns', 500)\n",
    "\n",
    "# Plotting\n",
    "import matplotlib.pyplot as plt\n",
    "%matplotlib inline\n",
    "plt.style.use('ggplot')\n",
    "\n",
    "# Models\n",
    "from sklearn.linear_model import LinearRegression\n",
    "from sklearn.ensemble import RandomForestRegressor, GradientBoostingRegressor\n",
    "\n",
    "# Cross validation\n",
    "from sklearn.cross_validation import train_test_split, cross_val_score\n",
    "from sklearn.ensemble.partial_dependence import plot_partial_dependence\n",
    "from sklearn.model_selection import KFold, ShuffleSplit\n",
    "\n",
    "\n",
    "# Preprocessing\n",
    "from sklearn.preprocessing import StandardScaler\n",
    "from sklearn.utils import shuffle"
   ]
  },
  {
   "cell_type": "code",
   "execution_count": 17,
   "metadata": {
    "collapsed": true
   },
   "outputs": [],
   "source": [
    "db_info = {\n",
    "    'user':'app_connect',\n",
    "    'database':'real_estate_data',\n",
    "    'host' : 'localhost',\n",
    "    'port' : 5432,\n",
    "    'password' : 'flying_horse536'\n",
    "}\n",
    "conn = psycopg2.connect(**db_info)\n",
    "cur = conn.cursor()"
   ]
  },
  {
   "cell_type": "code",
   "execution_count": 18,
   "metadata": {
    "collapsed": true
   },
   "outputs": [],
   "source": [
    "def execute_query(q):\n",
    "    conn.rollback()\n",
    "    cur.execute(q)\n",
    "    conn.commit()\n",
    "    return cur.fetchall(), cur.description"
   ]
  },
  {
   "cell_type": "code",
   "execution_count": 19,
   "metadata": {
    "collapsed": true
   },
   "outputs": [],
   "source": [
    "query = '''\n",
    "    SELECT *\n",
    "    FROM sales_info s\n",
    "    LEFT JOIN property_info p\n",
    "    ON s.major = p.major AND s.minor = p.minor\n",
    "    ;\n",
    "'''"
   ]
  },
  {
   "cell_type": "code",
   "execution_count": 24,
   "metadata": {
    "collapsed": true
   },
   "outputs": [],
   "source": [
    "query_result, description = execute_query(query)\n",
    "column_names = [d.name for d in description]"
   ]
  },
  {
   "cell_type": "code",
   "execution_count": 25,
   "metadata": {
    "collapsed": true
   },
   "outputs": [],
   "source": [
    "df = pd.DataFrame(query_result, columns=column_names)"
   ]
  },
  {
   "cell_type": "code",
   "execution_count": 26,
   "metadata": {
    "collapsed": true
   },
   "outputs": [],
   "source": [
    "# Change 'DocumentDate' to DateTime\n",
    "df['document_date'] = pd.to_datetime(df['document_date'])\n",
    "# Get SaleYear and SaleMonth columns out of the DateTime object\n",
    "df['sale_year'] = pd.DatetimeIndex(df['document_date']).year\n",
    "df['sale_year'] -= df['sale_year'].min()\n",
    "df['sale_month'] = pd.DatetimeIndex(df['document_date']).month"
   ]
  },
  {
   "cell_type": "code",
   "execution_count": 27,
   "metadata": {
    "collapsed": true
   },
   "outputs": [],
   "source": [
    "def filter_df(keep_values, col_name, df):\n",
    "    mask = df[col_name].isin(keep_values)\n",
    "    return df[mask]"
   ]
  },
  {
   "cell_type": "code",
   "execution_count": 28,
   "metadata": {
    "collapsed": true
   },
   "outputs": [],
   "source": [
    "'''\n",
    "PrincipalUse value of 6 represents Residential buildings\n",
    "Keep only sales with PrincipalUse value of 6\n",
    "'''\n",
    "principal_use_keep_values = [6]\n",
    "df = filter_df(keep_values=principal_use_keep_values, col_name='principal_use', df=df)\n",
    "\n",
    "'''\n",
    "PropertyType value of 1 represents Land Only\n",
    "PropertyType value of 2 represents Land with New Building\n",
    "PropertyType value of 3 represents Land with Previously Used Building\n",
    "Keep only sales with PropertyType value in [1, 2, 3]\n",
    "'''\n",
    "property_type_keep_values = [1, 2, 3]\n",
    "df = filter_df(property_type_keep_values, 'property_type', df)\n",
    "\n",
    "'''\n",
    "SaleInstrument value of 3 represents a Statutory Warranty Deed\n",
    "By using this deed, the seller promises the buyer \n",
    "1. The seller is the owner of the property and has the right to sell it\n",
    "2. No one else is possessing the property\n",
    "3. There are no encumbrances against the property\n",
    "4. No one with a better claim to the property will interfere with the transferee’s rights\n",
    "5. The seller will defend certain claims regarding title to the property\n",
    "'''\n",
    "sale_instrument_keep_values = [3]\n",
    "df = filter_df(sale_instrument_keep_values, 'sale_instrument', df)"
   ]
  },
  {
   "cell_type": "code",
   "execution_count": 29,
   "metadata": {
    "collapsed": true
   },
   "outputs": [],
   "source": [
    "# Shuffle dataframe\n",
    "df = shuffle(df)\n",
    "df.fillna(0, inplace=True)"
   ]
  },
  {
   "cell_type": "code",
   "execution_count": 30,
   "metadata": {
    "collapsed": true
   },
   "outputs": [],
   "source": [
    "# Setting up features for model:\n",
    "\n",
    "# Features:\n",
    "sales_feature = [\n",
    "    'property_type',\n",
    "    'sale_reason',\n",
    "    'property_class',\n",
    "    'sale_year',\n",
    "    'sale_month'\n",
    "]\n",
    "\n",
    "property_features = [\n",
    "    'nbr_living_units', \n",
    "    'stories',\n",
    "    'bldg_grade',\n",
    "    'bldg_grade_var', \n",
    "    'sq_ft_1st_floor',\n",
    "    'sq_ft_half_floor',\n",
    "    'sq_ft_2nd_floor',\n",
    "    'sq_ft_upper_floor',\n",
    "    'sq_ft_unfin_full',\n",
    "    'sq_ft_unfin_half',\n",
    "    'sq_ft_tot_living',\n",
    "    'sq_ft_tot_basement',\n",
    "    'sq_ft_fin_basement',\n",
    "    'fin_basement_grade',\n",
    "    'sq_ft_garage_basement',\n",
    "    'sq_ft_garage_attached'\n",
    "]\n",
    "\n",
    "combined_features = sales_feature + property_features\n",
    "\n",
    "features_as_is = [\n",
    "    'sale_year',\n",
    "    'sale_month'\n",
    "]\n",
    "\n",
    "features_to_scale = [\n",
    "    'sq_ft_1st_floor',\n",
    "    'sq_ft_half_floor',\n",
    "    'sq_ft_2nd_floor',\n",
    "    'sq_ft_upper_floor',\n",
    "    'sq_ft_unfin_full',\n",
    "    'sq_ft_unfin_half',\n",
    "    'sq_ft_tot_living',\n",
    "    'sq_ft_tot_basement',\n",
    "    'sq_ft_fin_basement',\n",
    "    'sq_ft_garage_basement',\n",
    "    'sq_ft_garage_attached'\n",
    "]\n",
    "\n",
    "dummy_features = [\n",
    "    'property_type',\n",
    "    'sale_reason',\n",
    "    'property_class',\n",
    "    'nbr_living_units', \n",
    "    'stories',\n",
    "    'bldg_grade',\n",
    "    'bldg_grade_var', \n",
    "]\n",
    "\n",
    "\n",
    "# Standardize the dataframe\n",
    "scalar = StandardScaler().fit(df[features_to_scale])\n",
    "df[features_to_scale] = scalar.transform(df[features_to_scale])\n",
    "\n",
    "final_df = df[features_as_is + features_to_scale + ['sale_price']]\n",
    "\n",
    "# Get dummy cols\n",
    "dummies = pd.get_dummies(df[dummy_features].applymap(str))\n",
    "final_df.append(dummies)\n",
    "\n",
    "\n",
    "# Target value: SalePrice\n",
    "y = final_df.pop('sale_price')\n",
    "\n",
    "X = final_df\n",
    "\n"
   ]
  },
  {
   "cell_type": "code",
   "execution_count": 34,
   "metadata": {},
   "outputs": [
    {
     "name": "stdout",
     "output_type": "stream",
     "text": [
      "Random Forest Score: 0.392971122328106\n",
      "Gradient Booster Score: 0.08498579234056958\n"
     ]
    }
   ],
   "source": [
    "# Train Test Split Score\n",
    "X_train, X_test, y_train, y_test = train_test_split(X, y)\n",
    "\n",
    "# Random Forest\n",
    "model_RF = RandomForestRegressor()\n",
    "model_RF.fit(X_train, y_train)\n",
    "print(\"Random Forest Score: {}\".format(model_RF.score(X_test, y_test)))\n",
    "\n",
    "# Gradient Booster\n",
    "model_GB = GradientBoostingRegressor()\n",
    "model_GB.fit(X_train, y_train)\n",
    "print(\"Gradient Booster Score: {}\".format(model_GB.score(X_test, y_test)))"
   ]
  },
  {
   "cell_type": "code",
   "execution_count": null,
   "metadata": {
    "collapsed": true
   },
   "outputs": [],
   "source": [
    "#### Cross Val Score\n",
    "model_cv_RF = RandomForestRegressor(n_jobs=-1)\n",
    "print(cross_val_score(model_cv_RF, X, y, cv=3).mean())"
   ]
  },
  {
   "cell_type": "code",
   "execution_count": null,
   "metadata": {
    "collapsed": true
   },
   "outputs": [],
   "source": []
  }
 ],
 "metadata": {
  "kernelspec": {
   "display_name": "Python 3",
   "language": "python",
   "name": "python3"
  },
  "language_info": {
   "codemirror_mode": {
    "name": "ipython",
    "version": 3
   },
   "file_extension": ".py",
   "mimetype": "text/x-python",
   "name": "python",
   "nbconvert_exporter": "python",
   "pygments_lexer": "ipython3",
   "version": "3.6.1"
  }
 },
 "nbformat": 4,
 "nbformat_minor": 2
}
