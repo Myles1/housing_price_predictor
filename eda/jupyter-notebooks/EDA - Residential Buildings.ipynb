{
 "cells": [
  {
   "cell_type": "code",
   "execution_count": 40,
   "metadata": {
    "collapsed": false
   },
   "outputs": [],
   "source": [
    "import pandas as pd\n",
    "from sqlalchemy import create_engine\n",
    "import psycopg2"
   ]
  },
  {
   "cell_type": "code",
   "execution_count": 45,
   "metadata": {
    "collapsed": true
   },
   "outputs": [],
   "source": [
    "# file_path = '/Users/MHollowed/Desktop/final_project/HousingPricePredictor/data/csvs/EXTR_ResBldg.csv'\n",
    "# df = pd.read_csv(file_path, nrows=1000)\n",
    "\n",
    "\n",
    "file_path = '/Users/MHollowed/Desktop/final_project/HousingPricePredictor/data/csvs/EXTR_RPSale.csv'\n",
    "df = pd.read_csv(file_path, low_memory=False)\n"
   ]
  },
  {
   "cell_type": "code",
   "execution_count": 48,
   "metadata": {
    "collapsed": false
   },
   "outputs": [
    {
     "name": "stdout",
     "output_type": "stream",
     "text": [
      "<class 'pandas.core.frame.DataFrame'>\n",
      "RangeIndex: 1903013 entries, 0 to 1903012\n",
      "Data columns (total 24 columns):\n",
      "ExciseTaxNbr          int64\n",
      "Major                 object\n",
      "Minor                 object\n",
      "DocumentDate          object\n",
      "SalePrice             int64\n",
      "RecordingNbr          object\n",
      "Volume                object\n",
      "Page                  object\n",
      "PlatNbr               object\n",
      "PlatType              object\n",
      "PlatLot               object\n",
      "PlatBlock             object\n",
      "SellerName            object\n",
      "BuyerName             object\n",
      "PropertyType          int64\n",
      "PrincipalUse          int64\n",
      "SaleInstrument        int64\n",
      "AFForestLand          object\n",
      "AFCurrentUseLand      object\n",
      "AFNonProfitUse        object\n",
      "AFHistoricProperty    object\n",
      "SaleReason            int64\n",
      "PropertyClass         int64\n",
      "SaleWarning           object\n",
      "dtypes: int64(7), object(17)\n",
      "memory usage: 348.5+ MB\n"
     ]
    }
   ],
   "source": [
    "df.info()"
   ]
  },
  {
   "cell_type": "code",
   "execution_count": 33,
   "metadata": {
    "collapsed": false
   },
   "outputs": [
    {
     "data": {
      "text/plain": [
       "AVE       360\n",
       "ST        237\n",
       "PL        179\n",
       "CT        105\n",
       "WAY        89\n",
       "RD         12\n",
       "DR         11\n",
       "LN          6\n",
       "HWY         1\n",
       "Name: StreetType, dtype: int64"
      ]
     },
     "execution_count": 33,
     "metadata": {},
     "output_type": "execute_result"
    }
   ],
   "source": [
    "df['StreetType'].value_counts()"
   ]
  },
  {
   "cell_type": "code",
   "execution_count": 42,
   "metadata": {
    "collapsed": false
   },
   "outputs": [],
   "source": [
    "PSQL_USER = 'MHollowed'\n",
    "PSQL_PW = ''\n",
    "PSQL_HOST = ''\n",
    "PSQL_DB = 'real_estate_data'\n",
    "\n",
    "def pandas_engine():\n",
    "    url = \"postgresql://{}:{}@{}/{}\".format(PSQL_USER, PSQL_PW, PSQL_HOST, PSQL_DB)\n",
    "    return create_engine(url)\n",
    "\n",
    "\n"
   ]
  },
  {
   "cell_type": "code",
   "execution_count": 43,
   "metadata": {
    "collapsed": false
   },
   "outputs": [],
   "source": [
    "df.to_sql('real_estate_data', pandas_engine())"
   ]
  },
  {
   "cell_type": "code",
   "execution_count": null,
   "metadata": {
    "collapsed": true
   },
   "outputs": [],
   "source": []
  },
  {
   "cell_type": "code",
   "execution_count": 55,
   "metadata": {
    "collapsed": true
   },
   "outputs": [],
   "source": [
    "df.replace(r'\\s+', 0, regex=True, inplace=True)"
   ]
  },
  {
   "cell_type": "code",
   "execution_count": 56,
   "metadata": {
    "collapsed": false
   },
   "outputs": [],
   "source": [
    "df['Major'] = df['Major'].astype(int)"
   ]
  },
  {
   "cell_type": "code",
   "execution_count": 58,
   "metadata": {
    "collapsed": false
   },
   "outputs": [
    {
     "data": {
      "text/plain": [
       "0         9686\n",
       "375160    4465\n",
       "343850    4092\n",
       "510140    3954\n",
       "276760    3848\n",
       "154580    3687\n",
       "277060    3585\n",
       "537980    3189\n",
       "762570    2843\n",
       "388580    2597\n",
       "197220    2583\n",
       "375060    2504\n",
       "751850    2426\n",
       "788360    2424\n",
       "797260    2395\n",
       "276770    2342\n",
       "408330    2336\n",
       "52407     2320\n",
       "335640    2152\n",
       "712930    2085\n",
       "95200     2062\n",
       "124500    2028\n",
       "357530    1965\n",
       "118000    1948\n",
       "137080    1898\n",
       "125020    1833\n",
       "982870    1831\n",
       "334210    1800\n",
       "510040    1790\n",
       "766620    1784\n",
       "          ... \n",
       "22607        1\n",
       "634150       1\n",
       "142110       1\n",
       "927200       1\n",
       "800          1\n",
       "352310       1\n",
       "111912       1\n",
       "356540       1\n",
       "873240       1\n",
       "332310       1\n",
       "232302       1\n",
       "822800       1\n",
       "200060       1\n",
       "352409       1\n",
       "342210       1\n",
       "979503       1\n",
       "132509       1\n",
       "327613       1\n",
       "32210        1\n",
       "60550        1\n",
       "769560       1\n",
       "331911       1\n",
       "252410       1\n",
       "352410       1\n",
       "637895       1\n",
       "71910        1\n",
       "607300       1\n",
       "872910       1\n",
       "272609       1\n",
       "186351       1\n",
       "Name: Major, Length: 16554, dtype: int64"
      ]
     },
     "execution_count": 58,
     "metadata": {},
     "output_type": "execute_result"
    }
   ],
   "source": [
    "df['Major'].value_counts()"
   ]
  },
  {
   "cell_type": "code",
   "execution_count": null,
   "metadata": {
    "collapsed": true
   },
   "outputs": [],
   "source": []
  }
 ],
 "metadata": {
  "kernelspec": {
   "display_name": "Python 3",
   "language": "python",
   "name": "python3"
  },
  "language_info": {
   "codemirror_mode": {
    "name": "ipython",
    "version": 3
   },
   "file_extension": ".py",
   "mimetype": "text/x-python",
   "name": "python",
   "nbconvert_exporter": "python",
   "pygments_lexer": "ipython3",
   "version": "3.6.0"
  }
 },
 "nbformat": 4,
 "nbformat_minor": 2
}
