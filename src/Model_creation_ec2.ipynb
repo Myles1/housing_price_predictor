{
 "cells": [
  {
   "cell_type": "markdown",
   "metadata": {},
   "source": [
    "#GOALS#\n",
    "\n",
    "model_create\n",
    "1. Connect to DataBase\n",
    "2. Query for data\n",
    "3. Read into DataFrame\n",
    "    1. Keep only rows with data that will be used\n",
    "    2. DateTime\n",
    "    3. As-Is/Scale/Dummy\n",
    "    4. Fill NaNs\n",
    "    5. Shuffle\n",
    "    6. Collect features that will be used to train the model\n",
    "4. Train model\n",
    "\n",
    "app\n",
    "1. Accept address as input\n",
    "2. Gather address data from DataFrame in step #3 of model_create\n",
    "3. Adjust year and month to current date\n",
    "4. model.predict"
   ]
  },
  {
   "cell_type": "code",
   "execution_count": 1,
   "metadata": {},
   "outputs": [
    {
     "name": "stderr",
     "output_type": "stream",
     "text": [
      "/home/ubuntu/anaconda3/lib/python3.6/site-packages/sklearn/cross_validation.py:44: DeprecationWarning: This module was deprecated in version 0.18 in favor of the model_selection module into which all the refactored classes and functions are moved. Also note that the interface of the new CV iterators are different from that of this module. This module will be removed in 0.20.\n",
      "  \"This module will be removed in 0.20.\", DeprecationWarning)\n"
     ]
    }
   ],
   "source": [
    "# Database connect\n",
    "import psycopg2\n",
    "\n",
    "# Numpy arrays\n",
    "import numpy as np\n",
    "\n",
    "# DataFrames\n",
    "import pandas as pd\n",
    "pd.set_option('display.max_columns', 500)\n",
    "\n",
    "# Plotting\n",
    "import matplotlib.pyplot as plt\n",
    "%matplotlib inline\n",
    "plt.style.use('ggplot')\n",
    "\n",
    "# Models\n",
    "from xgboost import XGBRegressor\n",
    "from sklearn.linear_model import LinearRegression, Lasso, Ridge\n",
    "from sklearn.ensemble import RandomForestRegressor, GradientBoostingRegressor\n",
    "from sklearn.svm import SVR\n",
    "\n",
    "# Cross validation\n",
    "from sklearn.cross_validation import train_test_split, cross_val_score\n",
    "from sklearn.ensemble.partial_dependence import plot_partial_dependence\n",
    "from sklearn.model_selection import KFold, ShuffleSplit\n",
    "from sklearn.metrics import mean_squared_error, mean_absolute_error, median_absolute_error, make_scorer\n",
    "scorer_ = make_scorer(median_absolute_error)\n",
    "\n",
    "# Preprocessing\n",
    "from sklearn.preprocessing import StandardScaler\n",
    "from sklearn.utils import shuffle\n",
    "\n",
    "# Print Function\n",
    "from pprint import pprint"
   ]
  },
  {
   "cell_type": "markdown",
   "metadata": {},
   "source": [
    "model_create goal #1"
   ]
  },
  {
   "cell_type": "code",
   "execution_count": 90,
   "metadata": {
    "collapsed": true
   },
   "outputs": [],
   "source": [
    "db_info = {\n",
    "    'user':'app_connect',\n",
    "    'database':'real_estate_data',\n",
    "    'host' : 'localhost',\n",
    "    'port' : 5432,\n",
    "    'password' : 'flying_horse536'\n",
    "}\n",
    "conn = psycopg2.connect(**db_info)\n",
    "cur = conn.cursor()"
   ]
  },
  {
   "cell_type": "markdown",
   "metadata": {},
   "source": [
    "model_create goal #2"
   ]
  },
  {
   "cell_type": "code",
   "execution_count": 91,
   "metadata": {
    "collapsed": true
   },
   "outputs": [],
   "source": [
    "def execute_query(q):\n",
    "    ''' Execute an SQL query string (q) on the current connected database.\n",
    "    '''\n",
    "    conn.rollback()\n",
    "    cur.execute(q)\n",
    "    conn.commit()\n",
    "    return cur.fetchall(), cur.description"
   ]
  },
  {
   "cell_type": "code",
   "execution_count": 92,
   "metadata": {
    "collapsed": true
   },
   "outputs": [],
   "source": [
    "query = '''\n",
    "    SELECT *\n",
    "    FROM sales_info s\n",
    "    LEFT JOIN property_info p\n",
    "    ON s.major = p.major AND s.minor = p.minor\n",
    "    LEFT JOIN unit_breakdown u\n",
    "    ON s.major = u.major and s.minor = u.minor\n",
    "    ;\n",
    "'''"
   ]
  },
  {
   "cell_type": "markdown",
   "metadata": {},
   "source": [
    "model_create goal #3"
   ]
  },
  {
   "cell_type": "code",
   "execution_count": 93,
   "metadata": {},
   "outputs": [],
   "source": [
    "# Get query result and description from the execute_query function\n",
    "query_result, description = execute_query(query)\n",
    "# description is a dict, with 'name' as one of the keys. Grab all names from the columns\n",
    "column_names = [d.name for d in description]"
   ]
  },
  {
   "cell_type": "code",
   "execution_count": 94,
   "metadata": {
    "collapsed": true
   },
   "outputs": [],
   "source": [
    "# Read data from query result into a Pandas DataFrame. Column names are gathered from the description\n",
    "df = pd.DataFrame(query_result, columns=column_names)"
   ]
  },
  {
   "cell_type": "markdown",
   "metadata": {},
   "source": [
    "model_create goal #3.B"
   ]
  },
  {
   "cell_type": "code",
   "execution_count": 95,
   "metadata": {
    "collapsed": true
   },
   "outputs": [],
   "source": [
    "# Change 'DocumentDate' to DateTime\n",
    "df['document_date'] = pd.to_datetime(df['document_date'])\n",
    "# Get SaleYear and SaleMonth columns out of the DateTime object\n",
    "df['sale_year'] = pd.DatetimeIndex(df['document_date']).year\n",
    "#df['sale_year'] -= df['sale_year'].min()\n",
    "df['sale_month'] = pd.DatetimeIndex(df['document_date']).month"
   ]
  },
  {
   "cell_type": "markdown",
   "metadata": {},
   "source": [
    "model_create goal #3.A"
   ]
  },
  {
   "cell_type": "code",
   "execution_count": 96,
   "metadata": {
    "collapsed": true
   },
   "outputs": [],
   "source": [
    "def filter_df(keep_values, col_name, df):\n",
    "    '''Filters out rows from df[col_name] that are NOT in keep_values\n",
    "    '''\n",
    "    mask = df[col_name].isin(keep_values)\n",
    "    return df[mask]"
   ]
  },
  {
   "cell_type": "code",
   "execution_count": 97,
   "metadata": {
    "collapsed": true
   },
   "outputs": [],
   "source": [
    "'''\n",
    "PrincipalUse value of 6 represents Residential buildings\n",
    "Keep only sales with PrincipalUse value of 6\n",
    "'''\n",
    "principal_use_keep_values = [6]\n",
    "df = filter_df(keep_values=principal_use_keep_values, col_name='principal_use', df=df)\n",
    "\n",
    "'''\n",
    "PropertyType value of 1 represents Land Only\n",
    "PropertyType value of 2 represents Land with New Building\n",
    "PropertyType value of 3 represents Land with Previously Used Building\n",
    "Keep only sales with PropertyType value in [1, 2, 3]\n",
    "'''\n",
    "property_type_keep_values = [1, 2, 3]\n",
    "df = filter_df(property_type_keep_values, 'property_type', df)\n",
    "\n",
    "'''\n",
    "SaleInstrument value of 3 represents a Statutory Warranty Deed\n",
    "By using this deed, the seller promises the buyer \n",
    "1. The seller is the owner of the property and has the right to sell it\n",
    "2. No one else is possessing the property\n",
    "3. There are no encumbrances against the property\n",
    "4. No one with a better claim to the property will interfere with the transferee’s rights\n",
    "5. The seller will defend certain claims regarding title to the property\n",
    "'''\n",
    "sale_instrument_keep_values = [3]\n",
    "df = filter_df(sale_instrument_keep_values, 'sale_instrument', df)\n",
    "\n",
    "'''\n",
    "Remove years before 1995\n",
    "'''\n",
    "df = df[df['sale_year'] > 1994]\n",
    "\n",
    "# Testing specific years\n",
    "#df = df[df['sale_year'] > 2011]"
   ]
  },
  {
   "cell_type": "code",
   "execution_count": 80,
   "metadata": {},
   "outputs": [
    {
     "data": {
      "text/html": [
       "<div>\n",
       "<style>\n",
       "    .dataframe thead tr:only-child th {\n",
       "        text-align: right;\n",
       "    }\n",
       "\n",
       "    .dataframe thead th {\n",
       "        text-align: left;\n",
       "    }\n",
       "\n",
       "    .dataframe tbody tr th {\n",
       "        vertical-align: top;\n",
       "    }\n",
       "</style>\n",
       "<table border=\"1\" class=\"dataframe\">\n",
       "  <thead>\n",
       "    <tr style=\"text-align: right;\">\n",
       "      <th></th>\n",
       "      <th>index</th>\n",
       "      <th>sale_year</th>\n",
       "    </tr>\n",
       "  </thead>\n",
       "  <tbody>\n",
       "    <tr>\n",
       "      <th>21</th>\n",
       "      <td>1995</td>\n",
       "      <td>15676</td>\n",
       "    </tr>\n",
       "    <tr>\n",
       "      <th>14</th>\n",
       "      <td>1996</td>\n",
       "      <td>27262</td>\n",
       "    </tr>\n",
       "    <tr>\n",
       "      <th>10</th>\n",
       "      <td>1997</td>\n",
       "      <td>31499</td>\n",
       "    </tr>\n",
       "    <tr>\n",
       "      <th>4</th>\n",
       "      <td>1998</td>\n",
       "      <td>33969</td>\n",
       "    </tr>\n",
       "    <tr>\n",
       "      <th>7</th>\n",
       "      <td>1999</td>\n",
       "      <td>32825</td>\n",
       "    </tr>\n",
       "    <tr>\n",
       "      <th>9</th>\n",
       "      <td>2000</td>\n",
       "      <td>31893</td>\n",
       "    </tr>\n",
       "    <tr>\n",
       "      <th>11</th>\n",
       "      <td>2001</td>\n",
       "      <td>31094</td>\n",
       "    </tr>\n",
       "    <tr>\n",
       "      <th>5</th>\n",
       "      <td>2002</td>\n",
       "      <td>33642</td>\n",
       "    </tr>\n",
       "    <tr>\n",
       "      <th>3</th>\n",
       "      <td>2003</td>\n",
       "      <td>39869</td>\n",
       "    </tr>\n",
       "    <tr>\n",
       "      <th>1</th>\n",
       "      <td>2004</td>\n",
       "      <td>44273</td>\n",
       "    </tr>\n",
       "    <tr>\n",
       "      <th>0</th>\n",
       "      <td>2005</td>\n",
       "      <td>46291</td>\n",
       "    </tr>\n",
       "    <tr>\n",
       "      <th>2</th>\n",
       "      <td>2006</td>\n",
       "      <td>41157</td>\n",
       "    </tr>\n",
       "    <tr>\n",
       "      <th>8</th>\n",
       "      <td>2007</td>\n",
       "      <td>32808</td>\n",
       "    </tr>\n",
       "    <tr>\n",
       "      <th>17</th>\n",
       "      <td>2008</td>\n",
       "      <td>20082</td>\n",
       "    </tr>\n",
       "    <tr>\n",
       "      <th>20</th>\n",
       "      <td>2009</td>\n",
       "      <td>18012</td>\n",
       "    </tr>\n",
       "    <tr>\n",
       "      <th>18</th>\n",
       "      <td>2010</td>\n",
       "      <td>19239</td>\n",
       "    </tr>\n",
       "    <tr>\n",
       "      <th>19</th>\n",
       "      <td>2011</td>\n",
       "      <td>18425</td>\n",
       "    </tr>\n",
       "    <tr>\n",
       "      <th>15</th>\n",
       "      <td>2012</td>\n",
       "      <td>23361</td>\n",
       "    </tr>\n",
       "    <tr>\n",
       "      <th>12</th>\n",
       "      <td>2013</td>\n",
       "      <td>29363</td>\n",
       "    </tr>\n",
       "    <tr>\n",
       "      <th>13</th>\n",
       "      <td>2014</td>\n",
       "      <td>29281</td>\n",
       "    </tr>\n",
       "    <tr>\n",
       "      <th>6</th>\n",
       "      <td>2015</td>\n",
       "      <td>33216</td>\n",
       "    </tr>\n",
       "    <tr>\n",
       "      <th>16</th>\n",
       "      <td>2016</td>\n",
       "      <td>20890</td>\n",
       "    </tr>\n",
       "    <tr>\n",
       "      <th>22</th>\n",
       "      <td>2017</td>\n",
       "      <td>1432</td>\n",
       "    </tr>\n",
       "  </tbody>\n",
       "</table>\n",
       "</div>"
      ],
      "text/plain": [
       "    index  sale_year\n",
       "21   1995      15676\n",
       "14   1996      27262\n",
       "10   1997      31499\n",
       "4    1998      33969\n",
       "7    1999      32825\n",
       "9    2000      31893\n",
       "11   2001      31094\n",
       "5    2002      33642\n",
       "3    2003      39869\n",
       "1    2004      44273\n",
       "0    2005      46291\n",
       "2    2006      41157\n",
       "8    2007      32808\n",
       "17   2008      20082\n",
       "20   2009      18012\n",
       "18   2010      19239\n",
       "19   2011      18425\n",
       "15   2012      23361\n",
       "12   2013      29363\n",
       "13   2014      29281\n",
       "6    2015      33216\n",
       "16   2016      20890\n",
       "22   2017       1432"
      ]
     },
     "execution_count": 80,
     "metadata": {},
     "output_type": "execute_result"
    }
   ],
   "source": [
    "df.sale_year.value_counts().reset_index().sort_values(by='index')"
   ]
  },
  {
   "cell_type": "markdown",
   "metadata": {},
   "source": [
    "model_create goal #3.D/E"
   ]
  },
  {
   "cell_type": "code",
   "execution_count": 98,
   "metadata": {
    "collapsed": true
   },
   "outputs": [],
   "source": [
    "# Shuffle dataframe\n",
    "df = shuffle(df)\n",
    "# Fill nans\n",
    "df.fillna(0, inplace=True)"
   ]
  },
  {
   "cell_type": "code",
   "execution_count": 82,
   "metadata": {
    "collapsed": true
   },
   "outputs": [],
   "source": [
    "def extract_features_from_df(df):\n",
    "    # Setting up features for model:\n",
    "\n",
    "    # Features:\n",
    "    sales_feature = [\n",
    "        'property_type',\n",
    "        'sale_reason',\n",
    "        'property_class',\n",
    "        'sale_year',\n",
    "        'sale_month'\n",
    "    ]\n",
    "\n",
    "    property_features = [\n",
    "        'nbr_living_units', \n",
    "        'stories',\n",
    "        'bldg_grade',\n",
    "        'bldg_grade_var', \n",
    "        'sq_ft_1st_floor',\n",
    "        'sq_ft_half_floor',\n",
    "        'sq_ft_2nd_floor',\n",
    "        'sq_ft_upper_floor',\n",
    "        'sq_ft_unfin_full',\n",
    "        'sq_ft_unfin_half',\n",
    "        'sq_ft_tot_living',\n",
    "        'sq_ft_tot_basement',\n",
    "        'sq_ft_fin_basement',\n",
    "        'fin_basement_grade',\n",
    "        'sq_ft_garage_basement',\n",
    "        'sq_ft_garage_attached'\n",
    "    ]\n",
    "\n",
    "    combined_features = sales_feature + property_features\n",
    "\n",
    "    features_as_is = [\n",
    "        'sale_year',\n",
    "        'sale_month'\n",
    "    ]\n",
    "\n",
    "    features_to_scale = [\n",
    "        'sq_ft_1st_floor',\n",
    "        'sq_ft_half_floor',\n",
    "        'sq_ft_2nd_floor',\n",
    "        'sq_ft_upper_floor',\n",
    "        'sq_ft_unfin_full',\n",
    "        'sq_ft_unfin_half',\n",
    "        'sq_ft_tot_living',\n",
    "        'sq_ft_tot_basement',\n",
    "        'sq_ft_fin_basement',\n",
    "        'sq_ft_garage_basement',\n",
    "        'sq_ft_garage_attached'\n",
    "    ]\n",
    "\n",
    "    dummy_features = [\n",
    "        'property_type',\n",
    "        'sale_reason',\n",
    "        'property_class',\n",
    "        'nbr_living_units', \n",
    "        'stories',\n",
    "        'bldg_grade',\n",
    "        'bldg_grade_var', \n",
    "    ]\n",
    "\n",
    "\n",
    "    # Standardize the dataframe\n",
    "    scalar = StandardScaler().fit(df[features_to_scale])\n",
    "    #df[features_to_scale] = scalar.transform(df[features_to_scale])\n",
    "    scalar.transform(df[features_to_scale])\n",
    "\n",
    "    \n",
    "    final_df = df[features_as_is + features_to_scale + ['sale_price']]\n",
    "\n",
    "    # Get dummy cols\n",
    "    dummies = pd.get_dummies(df[dummy_features].applymap(str))\n",
    "    final_df = pd.concat([final_df, dummies], axis=1)\n",
    "\n",
    "    final_df = shuffle(final_df)\n",
    "    \n",
    "    # Target value: SalePrice\n",
    "    y = final_df.pop('sale_price')\n",
    "    X = final_df\n",
    "    \n",
    "    return X, y"
   ]
  },
  {
   "cell_type": "code",
   "execution_count": null,
   "metadata": {
    "collapsed": true
   },
   "outputs": [],
   "source": [
    "Major\n",
    "Minor\n",
    "UnitTypeItemId\n",
    "NbrThisType\n",
    "SqFt\n",
    "NbrBedrooms\n",
    "NbrBaths\n"
   ]
  },
  {
   "cell_type": "code",
   "execution_count": 107,
   "metadata": {},
   "outputs": [
    {
     "data": {
      "text/plain": [
       "0.00     653616\n",
       "1.00       2843\n",
       "2.00        533\n",
       "1.50        222\n",
       "2.50        118\n",
       "0.75        116\n",
       "1.75         86\n",
       "3.00         24\n",
       "2.25         12\n",
       "3.50         11\n",
       "0.25         10\n",
       "0.50          9\n",
       "4.00          8\n",
       "2.75          6\n",
       "3.75          3\n",
       "22.00         3\n",
       "20.00         2\n",
       "39.00         2\n",
       "0.10          1\n",
       "8.00          1\n",
       "34.00         1\n",
       "23.00         1\n",
       "7.00          1\n",
       "Name: nbr_baths, dtype: int64"
      ]
     },
     "execution_count": 107,
     "metadata": {},
     "output_type": "execute_result"
    }
   ],
   "source": [
    "df.nbr_baths.value_counts()"
   ]
  },
  {
   "cell_type": "markdown",
   "metadata": {},
   "source": [
    "model_create goal #3.F"
   ]
  },
  {
   "cell_type": "code",
   "execution_count": 116,
   "metadata": {},
   "outputs": [],
   "source": [
    "# Setting up features for model:\n",
    "\n",
    "features_as_is = [\n",
    "    'sale_year',\n",
    "    'sale_month',\n",
    "    'yr_built',\n",
    "    'yr_renovated'\n",
    "]\n",
    "\n",
    "features_to_scale = [\n",
    "    'sq_ft_1st_floor',\n",
    "    'sq_ft_half_floor',\n",
    "    'sq_ft_2nd_floor',\n",
    "    'sq_ft_upper_floor',\n",
    "    'sq_ft_unfin_full',\n",
    "    'sq_ft_unfin_half',\n",
    "    'sq_ft_tot_living',\n",
    "    'sq_ft_tot_basement',\n",
    "    'sq_ft_fin_basement',\n",
    "    'sq_ft_garage_basement',\n",
    "    'sq_ft_garage_attached',\n",
    "    'sq_ft_open_porch',\n",
    "    'sq_ft_enclosed_porch',\n",
    "    'sq_ft_deck',\n",
    "    'brick_stone',\n",
    "    'pcnt_complete',\n",
    "    'pcnt_net_condition',\n",
    "    'addnl_cost',\n",
    "    'nbr_this_type',\n",
    "    'sq_ft'\n",
    "]\n",
    "\n",
    "\n",
    "dummy_features = [\n",
    "    'bedrooms',\n",
    "    'property_type',\n",
    "    'sale_reason',\n",
    "    'property_class',\n",
    "    'nbr_living_units', \n",
    "    'stories',\n",
    "    'bldg_grade',\n",
    "    'bldg_grade_var',\n",
    "    'daylight_basement',\n",
    "    'heat_system',\n",
    "    'heat_source',\n",
    "    'bath_half_count',\n",
    "    'bath_3qtr_count',\n",
    "    'bath_full_count',\n",
    "    'view_utilization',\n",
    "    'fp_single_story',\n",
    "    'fp_multi_story',\n",
    "    'fp_freestanding',\n",
    "    'fp_additional',\n",
    "    'condition',\n",
    "    'unit_type_item_id',\n",
    "    'nbr_bedrooms',\n",
    "    'nbr_baths'\n",
    "]\n",
    "\n",
    "\n",
    "# Standardize the dataframe\n",
    "scalar = StandardScaler().fit(df[features_to_scale])\n",
    "# df[features_to_scale] = scalar.transform(df[features_to_scale])\n",
    "scalar.transform(df[features_to_scale])\n",
    "\n",
    "final_df = df[features_as_is + features_to_scale + ['sale_price'] + ['address']]\n",
    "\n",
    "# Get dummy cols\n",
    "dummies = pd.get_dummies(df[dummy_features].applymap(str))\n",
    "final_df = pd.concat([final_df, dummies], axis=1)\n",
    "\n",
    "final_df = shuffle(final_df)\n",
    "\n",
    "# Target value: SalePrice\n",
    "y = final_df.pop('sale_price')\n",
    "\n",
    "X = final_df.copy()\n",
    "del X['address']"
   ]
  },
  {
   "cell_type": "code",
   "execution_count": 28,
   "metadata": {},
   "outputs": [
    {
     "data": {
      "text/html": [
       "<div>\n",
       "<style>\n",
       "    .dataframe thead tr:only-child th {\n",
       "        text-align: right;\n",
       "    }\n",
       "\n",
       "    .dataframe thead th {\n",
       "        text-align: left;\n",
       "    }\n",
       "\n",
       "    .dataframe tbody tr th {\n",
       "        vertical-align: top;\n",
       "    }\n",
       "</style>\n",
       "<table border=\"1\" class=\"dataframe\">\n",
       "  <thead>\n",
       "    <tr style=\"text-align: right;\">\n",
       "      <th></th>\n",
       "      <th>sale_year</th>\n",
       "      <th>sale_month</th>\n",
       "      <th>sq_ft_1st_floor</th>\n",
       "      <th>sq_ft_half_floor</th>\n",
       "      <th>sq_ft_2nd_floor</th>\n",
       "      <th>sq_ft_upper_floor</th>\n",
       "      <th>sq_ft_unfin_full</th>\n",
       "      <th>sq_ft_unfin_half</th>\n",
       "      <th>sq_ft_tot_living</th>\n",
       "      <th>sq_ft_tot_basement</th>\n",
       "      <th>sq_ft_fin_basement</th>\n",
       "      <th>sq_ft_garage_basement</th>\n",
       "      <th>sq_ft_garage_attached</th>\n",
       "      <th>address</th>\n",
       "      <th>property_type_1</th>\n",
       "      <th>property_type_2</th>\n",
       "      <th>property_type_3</th>\n",
       "      <th>sale_reason_0</th>\n",
       "      <th>sale_reason_1</th>\n",
       "      <th>sale_reason_10</th>\n",
       "      <th>sale_reason_12</th>\n",
       "      <th>sale_reason_13</th>\n",
       "      <th>sale_reason_14</th>\n",
       "      <th>sale_reason_16</th>\n",
       "      <th>sale_reason_17</th>\n",
       "      <th>sale_reason_18</th>\n",
       "      <th>sale_reason_2</th>\n",
       "      <th>sale_reason_4</th>\n",
       "      <th>sale_reason_5</th>\n",
       "      <th>sale_reason_6</th>\n",
       "      <th>sale_reason_7</th>\n",
       "      <th>sale_reason_8</th>\n",
       "      <th>property_class_0</th>\n",
       "      <th>property_class_1</th>\n",
       "      <th>property_class_2</th>\n",
       "      <th>property_class_3</th>\n",
       "      <th>property_class_4</th>\n",
       "      <th>property_class_7</th>\n",
       "      <th>property_class_8</th>\n",
       "      <th>property_class_9</th>\n",
       "      <th>nbr_living_units_0.0</th>\n",
       "      <th>nbr_living_units_1.0</th>\n",
       "      <th>nbr_living_units_2.0</th>\n",
       "      <th>nbr_living_units_3.0</th>\n",
       "      <th>stories_0.0</th>\n",
       "      <th>stories_1.0</th>\n",
       "      <th>stories_1.5</th>\n",
       "      <th>stories_2.0</th>\n",
       "      <th>stories_2.5</th>\n",
       "      <th>stories_3.0</th>\n",
       "      <th>stories_3.5</th>\n",
       "      <th>bldg_grade_0.0</th>\n",
       "      <th>bldg_grade_10.0</th>\n",
       "      <th>bldg_grade_11.0</th>\n",
       "      <th>bldg_grade_12.0</th>\n",
       "      <th>bldg_grade_13.0</th>\n",
       "      <th>bldg_grade_3.0</th>\n",
       "      <th>bldg_grade_4.0</th>\n",
       "      <th>bldg_grade_5.0</th>\n",
       "      <th>bldg_grade_6.0</th>\n",
       "      <th>bldg_grade_7.0</th>\n",
       "      <th>bldg_grade_8.0</th>\n",
       "      <th>bldg_grade_9.0</th>\n",
       "      <th>bldg_grade_var_0.0</th>\n",
       "      <th>bldg_grade_var_99.0</th>\n",
       "    </tr>\n",
       "  </thead>\n",
       "  <tbody>\n",
       "    <tr>\n",
       "      <th>3077</th>\n",
       "      <td>2013</td>\n",
       "      <td>1</td>\n",
       "      <td>0.398709</td>\n",
       "      <td>-0.277461</td>\n",
       "      <td>1.241092</td>\n",
       "      <td>-0.117672</td>\n",
       "      <td>-0.039925</td>\n",
       "      <td>-0.038463</td>\n",
       "      <td>1.508977</td>\n",
       "      <td>1.680274</td>\n",
       "      <td>1.474555</td>\n",
       "      <td>2.221951</td>\n",
       "      <td>-0.936462</td>\n",
       "      <td>191   36TH AVE E</td>\n",
       "      <td>0</td>\n",
       "      <td>1</td>\n",
       "      <td>0</td>\n",
       "      <td>0</td>\n",
       "      <td>1</td>\n",
       "      <td>0</td>\n",
       "      <td>0</td>\n",
       "      <td>0</td>\n",
       "      <td>0</td>\n",
       "      <td>0</td>\n",
       "      <td>0</td>\n",
       "      <td>0</td>\n",
       "      <td>0</td>\n",
       "      <td>0</td>\n",
       "      <td>0</td>\n",
       "      <td>0</td>\n",
       "      <td>0</td>\n",
       "      <td>0</td>\n",
       "      <td>0</td>\n",
       "      <td>0</td>\n",
       "      <td>0</td>\n",
       "      <td>0</td>\n",
       "      <td>0</td>\n",
       "      <td>0</td>\n",
       "      <td>1</td>\n",
       "      <td>0</td>\n",
       "      <td>0</td>\n",
       "      <td>1</td>\n",
       "      <td>0</td>\n",
       "      <td>0</td>\n",
       "      <td>0</td>\n",
       "      <td>0</td>\n",
       "      <td>0</td>\n",
       "      <td>1</td>\n",
       "      <td>0</td>\n",
       "      <td>0</td>\n",
       "      <td>0</td>\n",
       "      <td>0</td>\n",
       "      <td>1</td>\n",
       "      <td>0</td>\n",
       "      <td>0</td>\n",
       "      <td>0</td>\n",
       "      <td>0</td>\n",
       "      <td>0</td>\n",
       "      <td>0</td>\n",
       "      <td>0</td>\n",
       "      <td>0</td>\n",
       "      <td>0</td>\n",
       "      <td>0</td>\n",
       "      <td>1</td>\n",
       "      <td>0</td>\n",
       "    </tr>\n",
       "  </tbody>\n",
       "</table>\n",
       "</div>"
      ],
      "text/plain": [
       "      sale_year  sale_month  sq_ft_1st_floor  sq_ft_half_floor  \\\n",
       "3077       2013           1         0.398709         -0.277461   \n",
       "\n",
       "      sq_ft_2nd_floor  sq_ft_upper_floor  sq_ft_unfin_full  sq_ft_unfin_half  \\\n",
       "3077         1.241092          -0.117672         -0.039925         -0.038463   \n",
       "\n",
       "      sq_ft_tot_living  sq_ft_tot_basement  sq_ft_fin_basement  \\\n",
       "3077          1.508977            1.680274            1.474555   \n",
       "\n",
       "      sq_ft_garage_basement  sq_ft_garage_attached             address  \\\n",
       "3077               2.221951              -0.936462  191   36TH AVE E     \n",
       "\n",
       "      property_type_1  property_type_2  property_type_3  sale_reason_0  \\\n",
       "3077                0                1                0              0   \n",
       "\n",
       "      sale_reason_1  sale_reason_10  sale_reason_12  sale_reason_13  \\\n",
       "3077              1               0               0               0   \n",
       "\n",
       "      sale_reason_14  sale_reason_16  sale_reason_17  sale_reason_18  \\\n",
       "3077               0               0               0               0   \n",
       "\n",
       "      sale_reason_2  sale_reason_4  sale_reason_5  sale_reason_6  \\\n",
       "3077              0              0              0              0   \n",
       "\n",
       "      sale_reason_7  sale_reason_8  property_class_0  property_class_1  \\\n",
       "3077              0              0                 0                 0   \n",
       "\n",
       "      property_class_2  property_class_3  property_class_4  property_class_7  \\\n",
       "3077                 0                 0                 0                 0   \n",
       "\n",
       "      property_class_8  property_class_9  nbr_living_units_0.0  \\\n",
       "3077                 1                 0                     0   \n",
       "\n",
       "      nbr_living_units_1.0  nbr_living_units_2.0  nbr_living_units_3.0  \\\n",
       "3077                     1                     0                     0   \n",
       "\n",
       "      stories_0.0  stories_1.0  stories_1.5  stories_2.0  stories_2.5  \\\n",
       "3077            0            0            0            1            0   \n",
       "\n",
       "      stories_3.0  stories_3.5  bldg_grade_0.0  bldg_grade_10.0  \\\n",
       "3077            0            0               0                1   \n",
       "\n",
       "      bldg_grade_11.0  bldg_grade_12.0  bldg_grade_13.0  bldg_grade_3.0  \\\n",
       "3077                0                0                0               0   \n",
       "\n",
       "      bldg_grade_4.0  bldg_grade_5.0  bldg_grade_6.0  bldg_grade_7.0  \\\n",
       "3077               0               0               0               0   \n",
       "\n",
       "      bldg_grade_8.0  bldg_grade_9.0  bldg_grade_var_0.0  bldg_grade_var_99.0  \n",
       "3077               0               0                   1                    0  "
      ]
     },
     "execution_count": 28,
     "metadata": {},
     "output_type": "execute_result"
    }
   ],
   "source": [
    "final_df.iloc[0:1]"
   ]
  },
  {
   "cell_type": "code",
   "execution_count": 42,
   "metadata": {},
   "outputs": [
    {
     "data": {
      "text/html": [
       "<div>\n",
       "<style>\n",
       "    .dataframe thead tr:only-child th {\n",
       "        text-align: right;\n",
       "    }\n",
       "\n",
       "    .dataframe thead th {\n",
       "        text-align: left;\n",
       "    }\n",
       "\n",
       "    .dataframe tbody tr th {\n",
       "        vertical-align: top;\n",
       "    }\n",
       "</style>\n",
       "<table border=\"1\" class=\"dataframe\">\n",
       "  <thead>\n",
       "    <tr style=\"text-align: right;\">\n",
       "      <th></th>\n",
       "      <th>index</th>\n",
       "      <th>excise_tax_nbr</th>\n",
       "      <th>major</th>\n",
       "      <th>minor</th>\n",
       "      <th>document_date</th>\n",
       "      <th>sale_price</th>\n",
       "      <th>recording_nbr</th>\n",
       "      <th>volume</th>\n",
       "      <th>page</th>\n",
       "      <th>plat_nbr</th>\n",
       "      <th>plat_type</th>\n",
       "      <th>plat_lot</th>\n",
       "      <th>plat_block</th>\n",
       "      <th>seller_name</th>\n",
       "      <th>buyer_name</th>\n",
       "      <th>property_type</th>\n",
       "      <th>principal_use</th>\n",
       "      <th>sale_instrument</th>\n",
       "      <th>af_forest_land</th>\n",
       "      <th>af_current_use_land</th>\n",
       "      <th>af_non_profit_use</th>\n",
       "      <th>af_historic_property</th>\n",
       "      <th>sale_reason</th>\n",
       "      <th>property_class</th>\n",
       "      <th>sale_warning</th>\n",
       "      <th>index</th>\n",
       "      <th>major</th>\n",
       "      <th>minor</th>\n",
       "      <th>bldg_nbr</th>\n",
       "      <th>nbr_living_units</th>\n",
       "      <th>address</th>\n",
       "      <th>building_number</th>\n",
       "      <th>fraction</th>\n",
       "      <th>direction_prefix</th>\n",
       "      <th>street_name</th>\n",
       "      <th>street_type</th>\n",
       "      <th>direction_suffix</th>\n",
       "      <th>zip_code</th>\n",
       "      <th>stories</th>\n",
       "      <th>bldg_grade</th>\n",
       "      <th>bldg_grade_var</th>\n",
       "      <th>sq_ft_1st_floor</th>\n",
       "      <th>sq_ft_half_floor</th>\n",
       "      <th>sq_ft_2nd_floor</th>\n",
       "      <th>sq_ft_upper_floor</th>\n",
       "      <th>sq_ft_unfin_full</th>\n",
       "      <th>sq_ft_unfin_half</th>\n",
       "      <th>sq_ft_tot_living</th>\n",
       "      <th>sq_ft_tot_basement</th>\n",
       "      <th>sq_ft_fin_basement</th>\n",
       "      <th>fin_basement_grade</th>\n",
       "      <th>sq_ft_garage_basement</th>\n",
       "      <th>sq_ft_garage_attached</th>\n",
       "      <th>daylight_basement</th>\n",
       "      <th>sq_ft_open_porch</th>\n",
       "      <th>sq_ft_enclosed_porch</th>\n",
       "      <th>sq_ft_deck</th>\n",
       "      <th>heat_system</th>\n",
       "      <th>heat_source</th>\n",
       "      <th>brick_stone</th>\n",
       "      <th>view_utilization</th>\n",
       "      <th>bedrooms</th>\n",
       "      <th>bath_half_count</th>\n",
       "      <th>bath_3qtr_count</th>\n",
       "      <th>bath_full_count</th>\n",
       "      <th>fp_single_story</th>\n",
       "      <th>fp_multi_story</th>\n",
       "      <th>fp_freestanding</th>\n",
       "      <th>fp_additional</th>\n",
       "      <th>yr_built</th>\n",
       "      <th>yr_renovated</th>\n",
       "      <th>pcnt_complete</th>\n",
       "      <th>bbsolescence</th>\n",
       "      <th>pcnt_net_condition</th>\n",
       "      <th>condition</th>\n",
       "      <th>addnl_cost</th>\n",
       "      <th>sale_year</th>\n",
       "      <th>sale_month</th>\n",
       "    </tr>\n",
       "  </thead>\n",
       "  <tbody>\n",
       "  </tbody>\n",
       "</table>\n",
       "</div>"
      ],
      "text/plain": [
       "Empty DataFrame\n",
       "Columns: [index, excise_tax_nbr, major, minor, document_date, sale_price, recording_nbr, volume, page, plat_nbr, plat_type, plat_lot, plat_block, seller_name, buyer_name, property_type, principal_use, sale_instrument, af_forest_land, af_current_use_land, af_non_profit_use, af_historic_property, sale_reason, property_class, sale_warning, index, major, minor, bldg_nbr, nbr_living_units, address, building_number, fraction, direction_prefix, street_name, street_type, direction_suffix, zip_code, stories, bldg_grade, bldg_grade_var, sq_ft_1st_floor, sq_ft_half_floor, sq_ft_2nd_floor, sq_ft_upper_floor, sq_ft_unfin_full, sq_ft_unfin_half, sq_ft_tot_living, sq_ft_tot_basement, sq_ft_fin_basement, fin_basement_grade, sq_ft_garage_basement, sq_ft_garage_attached, daylight_basement, sq_ft_open_porch, sq_ft_enclosed_porch, sq_ft_deck, heat_system, heat_source, brick_stone, view_utilization, bedrooms, bath_half_count, bath_3qtr_count, bath_full_count, fp_single_story, fp_multi_story, fp_freestanding, fp_additional, yr_built, yr_renovated, pcnt_complete, bbsolescence, pcnt_net_condition, condition, addnl_cost, sale_year, sale_month]\n",
       "Index: []"
      ]
     },
     "execution_count": 42,
     "metadata": {},
     "output_type": "execute_result"
    }
   ],
   "source": [
    "df[pd.isnull(df.address)]"
   ]
  },
  {
   "cell_type": "code",
   "execution_count": 67,
   "metadata": {},
   "outputs": [
    {
     "data": {
      "text/html": [
       "<div>\n",
       "<style>\n",
       "    .dataframe thead tr:only-child th {\n",
       "        text-align: right;\n",
       "    }\n",
       "\n",
       "    .dataframe thead th {\n",
       "        text-align: left;\n",
       "    }\n",
       "\n",
       "    .dataframe tbody tr th {\n",
       "        vertical-align: top;\n",
       "    }\n",
       "</style>\n",
       "<table border=\"1\" class=\"dataframe\">\n",
       "  <thead>\n",
       "    <tr style=\"text-align: right;\">\n",
       "      <th></th>\n",
       "      <th>sale_year</th>\n",
       "      <th>sale_month</th>\n",
       "      <th>sq_ft_1st_floor</th>\n",
       "      <th>sq_ft_half_floor</th>\n",
       "      <th>sq_ft_2nd_floor</th>\n",
       "      <th>sq_ft_upper_floor</th>\n",
       "      <th>sq_ft_unfin_full</th>\n",
       "      <th>sq_ft_unfin_half</th>\n",
       "      <th>sq_ft_tot_living</th>\n",
       "      <th>sq_ft_tot_basement</th>\n",
       "      <th>sq_ft_fin_basement</th>\n",
       "      <th>sq_ft_garage_basement</th>\n",
       "      <th>sq_ft_garage_attached</th>\n",
       "      <th>property_type_1</th>\n",
       "      <th>property_type_2</th>\n",
       "      <th>property_type_3</th>\n",
       "      <th>sale_reason_0</th>\n",
       "      <th>sale_reason_1</th>\n",
       "      <th>sale_reason_10</th>\n",
       "      <th>sale_reason_11</th>\n",
       "      <th>sale_reason_12</th>\n",
       "      <th>sale_reason_13</th>\n",
       "      <th>sale_reason_14</th>\n",
       "      <th>sale_reason_15</th>\n",
       "      <th>sale_reason_16</th>\n",
       "      <th>sale_reason_17</th>\n",
       "      <th>sale_reason_18</th>\n",
       "      <th>sale_reason_19</th>\n",
       "      <th>sale_reason_2</th>\n",
       "      <th>sale_reason_3</th>\n",
       "      <th>sale_reason_4</th>\n",
       "      <th>sale_reason_5</th>\n",
       "      <th>sale_reason_6</th>\n",
       "      <th>sale_reason_7</th>\n",
       "      <th>sale_reason_8</th>\n",
       "      <th>sale_reason_9</th>\n",
       "      <th>property_class_0</th>\n",
       "      <th>property_class_1</th>\n",
       "      <th>property_class_2</th>\n",
       "      <th>property_class_3</th>\n",
       "      <th>property_class_4</th>\n",
       "      <th>property_class_5</th>\n",
       "      <th>property_class_6</th>\n",
       "      <th>property_class_7</th>\n",
       "      <th>property_class_8</th>\n",
       "      <th>property_class_9</th>\n",
       "      <th>nbr_living_units_0.0</th>\n",
       "      <th>nbr_living_units_1.0</th>\n",
       "      <th>nbr_living_units_2.0</th>\n",
       "      <th>nbr_living_units_20.0</th>\n",
       "      <th>nbr_living_units_3.0</th>\n",
       "      <th>nbr_living_units_4.0</th>\n",
       "      <th>nbr_living_units_5.0</th>\n",
       "      <th>stories_0.0</th>\n",
       "      <th>stories_1.0</th>\n",
       "      <th>stories_1.5</th>\n",
       "      <th>stories_2.0</th>\n",
       "      <th>stories_2.5</th>\n",
       "      <th>stories_3.0</th>\n",
       "      <th>stories_3.5</th>\n",
       "      <th>stories_4.0</th>\n",
       "      <th>bldg_grade_0.0</th>\n",
       "      <th>bldg_grade_1.0</th>\n",
       "      <th>bldg_grade_10.0</th>\n",
       "      <th>bldg_grade_11.0</th>\n",
       "      <th>bldg_grade_12.0</th>\n",
       "      <th>bldg_grade_13.0</th>\n",
       "      <th>bldg_grade_2.0</th>\n",
       "      <th>bldg_grade_20.0</th>\n",
       "      <th>bldg_grade_3.0</th>\n",
       "      <th>bldg_grade_4.0</th>\n",
       "      <th>bldg_grade_5.0</th>\n",
       "      <th>bldg_grade_6.0</th>\n",
       "      <th>bldg_grade_7.0</th>\n",
       "      <th>bldg_grade_8.0</th>\n",
       "      <th>bldg_grade_9.0</th>\n",
       "      <th>bldg_grade_var_0.0</th>\n",
       "      <th>bldg_grade_var_20.0</th>\n",
       "      <th>bldg_grade_var_25.0</th>\n",
       "      <th>bldg_grade_var_30.0</th>\n",
       "      <th>bldg_grade_var_60.0</th>\n",
       "      <th>bldg_grade_var_99.0</th>\n",
       "    </tr>\n",
       "  </thead>\n",
       "  <tbody>\n",
       "    <tr>\n",
       "      <th>296798</th>\n",
       "      <td>1998</td>\n",
       "      <td>5</td>\n",
       "      <td>-0.140723</td>\n",
       "      <td>-0.263228</td>\n",
       "      <td>-0.78104</td>\n",
       "      <td>-0.125694</td>\n",
       "      <td>-0.030817</td>\n",
       "      <td>-0.030451</td>\n",
       "      <td>-0.04222</td>\n",
       "      <td>1.104625</td>\n",
       "      <td>1.357304</td>\n",
       "      <td>-0.415261</td>\n",
       "      <td>-0.921058</td>\n",
       "      <td>0</td>\n",
       "      <td>0</td>\n",
       "      <td>1</td>\n",
       "      <td>0</td>\n",
       "      <td>1</td>\n",
       "      <td>0</td>\n",
       "      <td>0</td>\n",
       "      <td>0</td>\n",
       "      <td>0</td>\n",
       "      <td>0</td>\n",
       "      <td>0</td>\n",
       "      <td>0</td>\n",
       "      <td>0</td>\n",
       "      <td>0</td>\n",
       "      <td>0</td>\n",
       "      <td>0</td>\n",
       "      <td>0</td>\n",
       "      <td>0</td>\n",
       "      <td>0</td>\n",
       "      <td>0</td>\n",
       "      <td>0</td>\n",
       "      <td>0</td>\n",
       "      <td>0</td>\n",
       "      <td>0</td>\n",
       "      <td>0</td>\n",
       "      <td>0</td>\n",
       "      <td>0</td>\n",
       "      <td>0</td>\n",
       "      <td>0</td>\n",
       "      <td>0</td>\n",
       "      <td>0</td>\n",
       "      <td>1</td>\n",
       "      <td>0</td>\n",
       "      <td>0</td>\n",
       "      <td>1</td>\n",
       "      <td>0</td>\n",
       "      <td>0</td>\n",
       "      <td>0</td>\n",
       "      <td>0</td>\n",
       "      <td>0</td>\n",
       "      <td>0</td>\n",
       "      <td>1</td>\n",
       "      <td>0</td>\n",
       "      <td>0</td>\n",
       "      <td>0</td>\n",
       "      <td>0</td>\n",
       "      <td>0</td>\n",
       "      <td>0</td>\n",
       "      <td>0</td>\n",
       "      <td>0</td>\n",
       "      <td>0</td>\n",
       "      <td>0</td>\n",
       "      <td>0</td>\n",
       "      <td>0</td>\n",
       "      <td>0</td>\n",
       "      <td>0</td>\n",
       "      <td>0</td>\n",
       "      <td>0</td>\n",
       "      <td>0</td>\n",
       "      <td>0</td>\n",
       "      <td>1</td>\n",
       "      <td>0</td>\n",
       "      <td>0</td>\n",
       "      <td>1</td>\n",
       "      <td>0</td>\n",
       "      <td>0</td>\n",
       "      <td>0</td>\n",
       "      <td>0</td>\n",
       "      <td>0</td>\n",
       "    </tr>\n",
       "  </tbody>\n",
       "</table>\n",
       "</div>"
      ],
      "text/plain": [
       "        sale_year  sale_month  sq_ft_1st_floor  sq_ft_half_floor  \\\n",
       "296798       1998           5        -0.140723         -0.263228   \n",
       "\n",
       "        sq_ft_2nd_floor  sq_ft_upper_floor  sq_ft_unfin_full  \\\n",
       "296798         -0.78104          -0.125694         -0.030817   \n",
       "\n",
       "        sq_ft_unfin_half  sq_ft_tot_living  sq_ft_tot_basement  \\\n",
       "296798         -0.030451          -0.04222            1.104625   \n",
       "\n",
       "        sq_ft_fin_basement  sq_ft_garage_basement  sq_ft_garage_attached  \\\n",
       "296798            1.357304              -0.415261              -0.921058   \n",
       "\n",
       "        property_type_1  property_type_2  property_type_3  sale_reason_0  \\\n",
       "296798                0                0                1              0   \n",
       "\n",
       "        sale_reason_1  sale_reason_10  sale_reason_11  sale_reason_12  \\\n",
       "296798              1               0               0               0   \n",
       "\n",
       "        sale_reason_13  sale_reason_14  sale_reason_15  sale_reason_16  \\\n",
       "296798               0               0               0               0   \n",
       "\n",
       "        sale_reason_17  sale_reason_18  sale_reason_19  sale_reason_2  \\\n",
       "296798               0               0               0              0   \n",
       "\n",
       "        sale_reason_3  sale_reason_4  sale_reason_5  sale_reason_6  \\\n",
       "296798              0              0              0              0   \n",
       "\n",
       "        sale_reason_7  sale_reason_8  sale_reason_9  property_class_0  \\\n",
       "296798              0              0              0                 0   \n",
       "\n",
       "        property_class_1  property_class_2  property_class_3  \\\n",
       "296798                 0                 0                 0   \n",
       "\n",
       "        property_class_4  property_class_5  property_class_6  \\\n",
       "296798                 0                 0                 0   \n",
       "\n",
       "        property_class_7  property_class_8  property_class_9  \\\n",
       "296798                 0                 1                 0   \n",
       "\n",
       "        nbr_living_units_0.0  nbr_living_units_1.0  nbr_living_units_2.0  \\\n",
       "296798                     0                     1                     0   \n",
       "\n",
       "        nbr_living_units_20.0  nbr_living_units_3.0  nbr_living_units_4.0  \\\n",
       "296798                      0                     0                     0   \n",
       "\n",
       "        nbr_living_units_5.0  stories_0.0  stories_1.0  stories_1.5  \\\n",
       "296798                     0            0            1            0   \n",
       "\n",
       "        stories_2.0  stories_2.5  stories_3.0  stories_3.5  stories_4.0  \\\n",
       "296798            0            0            0            0            0   \n",
       "\n",
       "        bldg_grade_0.0  bldg_grade_1.0  bldg_grade_10.0  bldg_grade_11.0  \\\n",
       "296798               0               0                0                0   \n",
       "\n",
       "        bldg_grade_12.0  bldg_grade_13.0  bldg_grade_2.0  bldg_grade_20.0  \\\n",
       "296798                0                0               0                0   \n",
       "\n",
       "        bldg_grade_3.0  bldg_grade_4.0  bldg_grade_5.0  bldg_grade_6.0  \\\n",
       "296798               0               0               0               0   \n",
       "\n",
       "        bldg_grade_7.0  bldg_grade_8.0  bldg_grade_9.0  bldg_grade_var_0.0  \\\n",
       "296798               1               0               0                   1   \n",
       "\n",
       "        bldg_grade_var_20.0  bldg_grade_var_25.0  bldg_grade_var_30.0  \\\n",
       "296798                    0                    0                    0   \n",
       "\n",
       "        bldg_grade_var_60.0  bldg_grade_var_99.0  \n",
       "296798                    0                    0  "
      ]
     },
     "execution_count": 67,
     "metadata": {},
     "output_type": "execute_result"
    }
   ],
   "source": [
    "X_351"
   ]
  },
  {
   "cell_type": "code",
   "execution_count": 121,
   "metadata": {},
   "outputs": [
    {
     "data": {
      "text/plain": [
       "array([ 236956.3125], dtype=float32)"
      ]
     },
     "execution_count": 121,
     "metadata": {},
     "output_type": "execute_result"
    }
   ],
   "source": [
    "X_351 = final_df[final_df['address'].str.contains('351  N 137', na=False)]\n",
    "del X_351['address']\n",
    "# X_351['sale_year'] = 1998\n",
    "model_XG.predict(X_351)"
   ]
  },
  {
   "cell_type": "code",
   "execution_count": 124,
   "metadata": {},
   "outputs": [
    {
     "name": "stderr",
     "output_type": "stream",
     "text": [
      "/home/ubuntu/anaconda3/lib/python3.6/site-packages/ipykernel_launcher.py:3: SettingWithCopyWarning: \n",
      "A value is trying to be set on a copy of a slice from a DataFrame.\n",
      "Try using .loc[row_indexer,col_indexer] = value instead\n",
      "\n",
      "See the caveats in the documentation: http://pandas.pydata.org/pandas-docs/stable/indexing.html#indexing-view-versus-copy\n",
      "  This is separate from the ipykernel package so we can avoid doing imports until\n",
      "/home/ubuntu/anaconda3/lib/python3.6/site-packages/ipykernel_launcher.py:4: SettingWithCopyWarning: \n",
      "A value is trying to be set on a copy of a slice from a DataFrame.\n",
      "Try using .loc[row_indexer,col_indexer] = value instead\n",
      "\n",
      "See the caveats in the documentation: http://pandas.pydata.org/pandas-docs/stable/indexing.html#indexing-view-versus-copy\n",
      "  after removing the cwd from sys.path.\n"
     ]
    },
    {
     "data": {
      "text/plain": [
       "array([ 647066.3125], dtype=float32)"
      ]
     },
     "execution_count": 124,
     "metadata": {},
     "output_type": "execute_result"
    }
   ],
   "source": [
    "X_351 = final_df[final_df['address'].str.contains('351  N 137', na=False)]\n",
    "del X_351['address']\n",
    "X_351['sale_year'] = 2017\n",
    "X_351['sale_month'] = 7\n",
    "model_XG.predict(X_351)"
   ]
  },
  {
   "cell_type": "code",
   "execution_count": 113,
   "metadata": {
    "collapsed": true
   },
   "outputs": [],
   "source": [
    "def print_scores(model, X_test, y_test):\n",
    "    y_hat = model.predict(X_test)\n",
    "    print(\"{}\".format(model.__class__.__name__))\n",
    "    print(\"R2 score: {:.3f}\".format(\n",
    "            model.score(X_test, y_test)))\n",
    "    print(\"Mean Squared Error score: {:.3f}\".format(\n",
    "            np.sqrt(mean_squared_error(y_test, y_hat))))\n",
    "    print(\"Mean Absolute Error score: {:.3f}\".format(\n",
    "            mean_absolute_error(y_test, y_hat)))\n",
    "    print(\"Median absolute error: {:.3f}\".format(\n",
    "            median_absolute_error(y_hat, y_test)))\n",
    "    "
   ]
  },
  {
   "cell_type": "code",
   "execution_count": 117,
   "metadata": {
    "collapsed": true
   },
   "outputs": [],
   "source": [
    "# Train Test Split Score\n",
    "X_train, X_test, y_train, y_test = train_test_split(X, y)"
   ]
  },
  {
   "cell_type": "code",
   "execution_count": 118,
   "metadata": {},
   "outputs": [
    {
     "name": "stdout",
     "output_type": "stream",
     "text": [
      "LinearRegression\n",
      "R2 score: 0.098\n",
      "Mean Squared Error score: 1384201.457\n",
      "Mean Absolute Error score: 377841.823\n",
      "Median absolute error: 150942.755\n"
     ]
    }
   ],
   "source": [
    "# Linear Regression\n",
    "# All Data\n",
    "model_LR = LinearRegression()\n",
    "model_LR.fit(X_train, y_train)\n",
    "print_scores(model_LR, X_test, y_test)"
   ]
  },
  {
   "cell_type": "code",
   "execution_count": 198,
   "metadata": {},
   "outputs": [
    {
     "name": "stdout",
     "output_type": "stream",
     "text": [
      "LinearRegression\n",
      "R2 score: 0.114\n",
      "Mean Squared Error score: 1286019.202\n",
      "Mean Absolute Error score: 337399.347\n",
      "Median absolute error: 144548.799\n"
     ]
    }
   ],
   "source": [
    "# 5 years\n",
    "model_LR = LinearRegression()\n",
    "model_LR.fit(X_train, y_train)\n",
    "print_scores(model_LR, X_test, y_test)"
   ]
  },
  {
   "cell_type": "code",
   "execution_count": 200,
   "metadata": {},
   "outputs": [
    {
     "name": "stdout",
     "output_type": "stream",
     "text": [
      "RandomForestRegressor\n",
      "R2 score: 0.665\n",
      "Mean Squared Error score: 791132.957\n",
      "Mean Absolute Error score: 227592.219\n",
      "Median absolute error: 100587.166\n"
     ]
    }
   ],
   "source": [
    "# Random Forest\n",
    "# 5 years\n",
    "model_RF = RandomForestRegressor(n_jobs=-1, n_estimators=250)\n",
    "model_RF.fit(X_train, y_train)\n",
    "print_scores(model_RF, X_test, y_test)"
   ]
  },
  {
   "cell_type": "code",
   "execution_count": null,
   "metadata": {},
   "outputs": [
    {
     "name": "stdout",
     "output_type": "stream",
     "text": [
      "RandomForestRegressor\n",
      "R2 score: 0.667\n",
      "Mean Squared Error score: 834058.267\n",
      "Mean Absolute Error score: 178046.207\n",
      "Median absolute error: 58373.112\n"
     ]
    }
   ],
   "source": [
    "# 5 all data\n",
    "model_RF = RandomForestRegressor(n_jobs=-1, n_estimators=250)\n",
    "model_RF.fit(X_train, y_train)\n",
    "print_scores(model_RF, X_test, y_test)"
   ]
  },
  {
   "cell_type": "code",
   "execution_count": null,
   "metadata": {
    "collapsed": true
   },
   "outputs": [],
   "source": [
    "# Gradient Booster\n",
    "# all data\n",
    "model_GB = GradientBoostingRegressor(learning_rate=0.1, n_estimators=500, max_depth=15)\n",
    "model_GB.fit(X_train, y_train)\n",
    "print_scores(model_GB, X_test, y_test)"
   ]
  },
  {
   "cell_type": "code",
   "execution_count": 201,
   "metadata": {
    "scrolled": true
   },
   "outputs": [
    {
     "name": "stdout",
     "output_type": "stream",
     "text": [
      "GradientBoostingRegressor\n",
      "R2 score: 0.346\n",
      "Mean Squared Error score: 1104915.470\n",
      "Mean Absolute Error score: 312529.687\n",
      "Median absolute error: 138340.026\n"
     ]
    }
   ],
   "source": [
    "# 5 years\n",
    "model_GB = GradientBoostingRegressor(learning_rate=0.01, n_estimators=500)\n",
    "model_GB.fit(X_train, y_train)\n",
    "print_scores(model_GB, X_test, y_test)"
   ]
  },
  {
   "cell_type": "code",
   "execution_count": 16,
   "metadata": {},
   "outputs": [
    {
     "name": "stdout",
     "output_type": "stream",
     "text": [
      "XGBRegressor\n",
      "R2 score: 0.630\n",
      "Mean Squared Error score: 907677.636\n",
      "Mean Absolute Error score: 176873.642\n",
      "Median absolute error: 56380.766\n"
     ]
    }
   ],
   "source": [
    "# XGBoost\n",
    "# all data\n",
    "model_XG = XGBRegressor(learning_rate=0.1, n_estimators=500, max_depth=15)\n",
    "model_XG.fit(X_train, y_train)\n",
    "print_scores(model_XG, X_test, y_test)"
   ]
  },
  {
   "cell_type": "code",
   "execution_count": 220,
   "metadata": {},
   "outputs": [
    {
     "name": "stdout",
     "output_type": "stream",
     "text": [
      "XGBRegressor\n",
      "R2 score: 0.470\n",
      "Mean Squared Error score: 994781.830\n",
      "Mean Absolute Error score: 288562.080\n",
      "Median absolute error: 119413.695\n"
     ]
    }
   ],
   "source": [
    "# 5 years\n",
    "model_XG = XGBRegressor(learning_rate=0.1, n_estimators=500)\n",
    "model_XG.fit(X_train, y_train)\n",
    "print_scores(model_XG, X_test, y_test)"
   ]
  },
  {
   "cell_type": "code",
   "execution_count": 228,
   "metadata": {},
   "outputs": [
    {
     "name": "stdout",
     "output_type": "stream",
     "text": [
      "XGBRegressor\n",
      "R2 score: 0.660\n",
      "Mean Squared Error score: 797269.744\n",
      "Mean Absolute Error score: 222701.515\n",
      "Median absolute error: 94690.203\n"
     ]
    }
   ],
   "source": [
    "model_XG = XGBRegressor(learning_rate=0.1, n_estimators=750, max_depth=15)\n",
    "model_XG.fit(X_train, y_train)\n",
    "print_scores(model_XG, X_test, y_test)"
   ]
  },
  {
   "cell_type": "code",
   "execution_count": 229,
   "metadata": {},
   "outputs": [
    {
     "name": "stdout",
     "output_type": "stream",
     "text": [
      "XGBRegressor\n",
      "R2 score: 0.659\n",
      "Mean Squared Error score: 797746.371\n",
      "Mean Absolute Error score: 224082.289\n",
      "Median absolute error: 96062.859\n"
     ]
    }
   ],
   "source": [
    "model_XG = XGBRegressor(learning_rate=0.1, n_estimators=2500, max_depth=15)\n",
    "model_XG.fit(X_train, y_train)\n",
    "print_scores(model_XG, X_test, y_test)"
   ]
  },
  {
   "cell_type": "code",
   "execution_count": 234,
   "metadata": {},
   "outputs": [
    {
     "name": "stdout",
     "output_type": "stream",
     "text": [
      "XGBRegressor\n",
      "R2 score: 0.662\n",
      "Mean Squared Error score: 794582.942\n",
      "Mean Absolute Error score: 220364.935\n",
      "Median absolute error: 94968.031\n"
     ]
    }
   ],
   "source": [
    "model_XG = XGBRegressor(learning_rate=0.01, n_estimators=2500, max_depth=15)\n",
    "model_XG.fit(X_train, y_train)\n",
    "print_scores(model_XG, X_test, y_test)"
   ]
  },
  {
   "cell_type": "code",
   "execution_count": 231,
   "metadata": {},
   "outputs": [
    {
     "name": "stdout",
     "output_type": "stream",
     "text": [
      "XGBRegressor\n",
      "R2 score: 0.661\n",
      "Mean Squared Error score: 796104.857\n",
      "Mean Absolute Error score: 221147.556\n",
      "Median absolute error: 94109.656\n"
     ]
    }
   ],
   "source": [
    "model_XG = XGBRegressor(learning_rate=0.1, n_estimators=400, max_depth=15)\n",
    "model_XG.fit(X_train, y_train)\n",
    "print_scores(model_XG, X_test, y_test)"
   ]
  },
  {
   "cell_type": "code",
   "execution_count": 232,
   "metadata": {},
   "outputs": [
    {
     "name": "stdout",
     "output_type": "stream",
     "text": [
      "XGBRegressor\n",
      "R2 score: 0.660\n",
      "Mean Squared Error score: 797063.149\n",
      "Mean Absolute Error score: 222278.364\n",
      "Median absolute error: 94144.086\n"
     ]
    }
   ],
   "source": [
    "model_XG = XGBRegressor(learning_rate=0.1, n_estimators=850, max_depth=15)\n",
    "model_XG.fit(X_train, y_train)\n",
    "print_scores(model_XG, X_test, y_test)"
   ]
  },
  {
   "cell_type": "code",
   "execution_count": 233,
   "metadata": {},
   "outputs": [
    {
     "name": "stdout",
     "output_type": "stream",
     "text": [
      "XGBRegressor\n",
      "R2 score: 0.660\n",
      "Mean Squared Error score: 796780.867\n",
      "Mean Absolute Error score: 221739.404\n",
      "Median absolute error: 93938.781\n"
     ]
    }
   ],
   "source": [
    "model_XG = XGBRegressor(learning_rate=0.1, n_estimators=650, max_depth=15)\n",
    "model_XG.fit(X_train, y_train)\n",
    "print_scores(model_XG, X_test, y_test)"
   ]
  },
  {
   "cell_type": "code",
   "execution_count": null,
   "metadata": {
    "collapsed": true
   },
   "outputs": [],
   "source": []
  },
  {
   "cell_type": "code",
   "execution_count": null,
   "metadata": {
    "collapsed": true
   },
   "outputs": [],
   "source": []
  },
  {
   "cell_type": "code",
   "execution_count": 202,
   "metadata": {},
   "outputs": [
    {
     "name": "stdout",
     "output_type": "stream",
     "text": [
      "106063.083333\n"
     ]
    }
   ],
   "source": [
    "#### Cross Val Score\n",
    "model_cv_RF = RandomForestRegressor(n_jobs=-1)\n",
    "print(cross_val_score(model_cv_RF, X, y, cv=3, scoring=scorer_).mean())"
   ]
  },
  {
   "cell_type": "code",
   "execution_count": 203,
   "metadata": {},
   "outputs": [
    {
     "name": "stdout",
     "output_type": "stream",
     "text": [
      "139275.21097\n"
     ]
    }
   ],
   "source": [
    "model_cv_GB = GradientBoostingRegressor(learning_rate=0.01, n_estimators=500)\n",
    "print(cross_val_score(model_cv_GB, X, y, cv=3, scoring=scorer_).mean())"
   ]
  },
  {
   "cell_type": "code",
   "execution_count": null,
   "metadata": {
    "collapsed": true
   },
   "outputs": [],
   "source": [
    "model_cv_XG = XGBRegressor(learning_rate=0.01)\n"
   ]
  },
  {
   "cell_type": "code",
   "execution_count": null,
   "metadata": {
    "collapsed": true
   },
   "outputs": [],
   "source": []
  },
  {
   "cell_type": "code",
   "execution_count": 36,
   "metadata": {},
   "outputs": [
    {
     "name": "stdout",
     "output_type": "stream",
     "text": [
      "LinearRegression\n",
      "R2 score: 0.091\n",
      "Mean Squared Error score: 1412014.417\n",
      "Mean Absolute Error score: 369285.069\n",
      "Median absolute error: 137303.354\n"
     ]
    }
   ],
   "source": [
    "model_LR = LinearRegression()\n",
    "model_LR.fit(X_train, y_train)\n",
    "print_scores(model_LR, X_test, y_test)"
   ]
  },
  {
   "cell_type": "code",
   "execution_count": 16,
   "metadata": {},
   "outputs": [
    {
     "name": "stdout",
     "output_type": "stream",
     "text": [
      "XGBRegressor\n",
      "R2 score: 0.648\n",
      "Mean Squared Error score: 878149.636\n",
      "Mean Absolute Error score: 174206.849\n",
      "Median absolute error: 56420.531\n"
     ]
    }
   ],
   "source": [
    "model_XG = XGBRegressor(learning_rate=0.1, n_estimators=500, max_depth=15)\n",
    "model_XG.fit(X_train, y_train)\n",
    "print_scores(model_XG, X_test, y_test)"
   ]
  },
  {
   "cell_type": "code",
   "execution_count": 102,
   "metadata": {},
   "outputs": [
    {
     "name": "stdout",
     "output_type": "stream",
     "text": [
      "XGBRegressor\n",
      "R2 score: 0.643\n",
      "Mean Squared Error score: 901539.971\n",
      "Mean Absolute Error score: 164396.411\n",
      "Median absolute error: 47795.047\n"
     ]
    }
   ],
   "source": [
    "# Monday testing of XGBoost\n",
    "model_XG = XGBRegressor(learning_rate=0.1, n_estimators=500, max_depth=15)\n",
    "model_XG.fit(X_train, y_train)\n",
    "print_scores(model_XG, X_test, y_test)"
   ]
  },
  {
   "cell_type": "code",
   "execution_count": 119,
   "metadata": {},
   "outputs": [
    {
     "name": "stdout",
     "output_type": "stream",
     "text": [
      "XGBRegressor\n",
      "R2 score: 0.622\n",
      "Mean Squared Error score: 896446.090\n",
      "Mean Absolute Error score: 164177.424\n",
      "Median absolute error: 48143.703\n"
     ]
    }
   ],
   "source": [
    "# Monday testing of XGBoost\n",
    "# Adding in latest data\n",
    "model_XG = XGBRegressor(learning_rate=0.1, n_estimators=500, max_depth=15)\n",
    "model_XG.fit(X_train, y_train)\n",
    "print_scores(model_XG, X_test, y_test)"
   ]
  },
  {
   "cell_type": "code",
   "execution_count": 103,
   "metadata": {},
   "outputs": [
    {
     "name": "stdout",
     "output_type": "stream",
     "text": [
      "XGBRegressor\n",
      "R2 score: 0.627\n",
      "Mean Squared Error score: 904576.535\n",
      "Mean Absolute Error score: 214274.547\n",
      "Median absolute error: 69425.125\n"
     ]
    }
   ],
   "source": [
    "model_XG2 = XGBRegressor(learning_rate=0.1, n_estimators=700, max_depth=8)\n",
    "model_XG2.fit(X_train, y_train)\n",
    "print_scores(model_XG2, X_test, y_test)"
   ]
  },
  {
   "cell_type": "code",
   "execution_count": 17,
   "metadata": {},
   "outputs": [
    {
     "name": "stdout",
     "output_type": "stream",
     "text": [
      "RandomForestRegressor\n",
      "R2 score: 0.652\n",
      "Mean Squared Error score: 874166.141\n",
      "Mean Absolute Error score: 181493.184\n",
      "Median absolute error: 58649.726\n"
     ]
    }
   ],
   "source": [
    "model_RF = RandomForestRegressor(n_jobs=-1, n_estimators=250)\n",
    "model_RF.fit(X_train, y_train)\n",
    "print_scores(model_RF, X_test, y_test)"
   ]
  },
  {
   "cell_type": "code",
   "execution_count": 88,
   "metadata": {},
   "outputs": [
    {
     "name": "stdout",
     "output_type": "stream",
     "text": [
      "RandomForestRegressor\n",
      "R2 score: 0.634\n",
      "Mean Squared Error score: 861916.143\n",
      "Mean Absolute Error score: 173441.367\n",
      "Median absolute error: 51954.074\n"
     ]
    }
   ],
   "source": [
    "# Monday testing of RF\n",
    "model_RF = RandomForestRegressor(n_jobs=-1, n_estimators=250)\n",
    "model_RF.fit(X_train, y_train)\n",
    "print_scores(model_RF, X_test, y_test)"
   ]
  },
  {
   "cell_type": "code",
   "execution_count": 120,
   "metadata": {},
   "outputs": [
    {
     "name": "stdout",
     "output_type": "stream",
     "text": [
      "RandomForestRegressor\n",
      "R2 score: 0.633\n",
      "Mean Squared Error score: 882900.931\n",
      "Mean Absolute Error score: 174574.753\n",
      "Median absolute error: 51640.634\n"
     ]
    }
   ],
   "source": [
    "# Monday testing of RF\n",
    "# Adding in latest data\n",
    "model_RF = RandomForestRegressor(n_jobs=-1, n_estimators=250)\n",
    "model_RF.fit(X_train, y_train)\n",
    "print_scores(model_RF, X_test, y_test)"
   ]
  },
  {
   "cell_type": "code",
   "execution_count": 90,
   "metadata": {},
   "outputs": [
    {
     "name": "stdout",
     "output_type": "stream",
     "text": [
      "Ridge\n",
      "R2 score: 0.091\n",
      "Mean Squared Error score: 1411956.987\n",
      "Mean Absolute Error score: 369244.183\n",
      "Median absolute error: 137308.328\n"
     ]
    }
   ],
   "source": [
    "model_RI = Ridge()\n",
    "model_RI.fit(X_train, y_train)\n",
    "print_scores(model_RI, X_test, y_test)"
   ]
  },
  {
   "cell_type": "code",
   "execution_count": null,
   "metadata": {
    "collapsed": true
   },
   "outputs": [],
   "source": [
    "model_SR = SVR()\n",
    "model_SR.fit(X_train, y_train)\n",
    "print_scores(model_SR, X_test, y_test)"
   ]
  },
  {
   "cell_type": "code",
   "execution_count": 109,
   "metadata": {},
   "outputs": [
    {
     "name": "stdout",
     "output_type": "stream",
     "text": [
      "Lasso\n",
      "R2 score: 0.091\n",
      "Mean Squared Error score: 1411877.903\n",
      "Mean Absolute Error score: 368937.567\n",
      "Median absolute error: 136984.537\n"
     ]
    },
    {
     "name": "stderr",
     "output_type": "stream",
     "text": [
      "/home/ubuntu/anaconda3/lib/python3.6/site-packages/sklearn/linear_model/coordinate_descent.py:484: ConvergenceWarning: Objective did not converge. You might want to increase the number of iterations. Fitting data with very small alpha may cause precision problems.\n",
      "  ConvergenceWarning)\n"
     ]
    }
   ],
   "source": [
    "model_LA = Lasso(alpha=35)\n",
    "model_LA.fit(X_train, y_train)\n",
    "print_scores(model_LA, X_test, y_test)"
   ]
  },
  {
   "cell_type": "code",
   "execution_count": 35,
   "metadata": {},
   "outputs": [
    {
     "data": {
      "text/plain": [
       "57535.128500000006"
      ]
     },
     "execution_count": 35,
     "metadata": {},
     "output_type": "execute_result"
    }
   ],
   "source": [
    "np.mean([56420.531, 58649.726])"
   ]
  },
  {
   "cell_type": "code",
   "execution_count": 19,
   "metadata": {
    "collapsed": true
   },
   "outputs": [],
   "source": [
    "ensemble = [model_XG, model_RF]#, model_SR]# model_LA, model_LR, model_RI]\n",
    "y_hat_ensemble = pd.DataFrame([model.predict(X_test) for model in ensemble]).transpose()\n",
    "e_X_train, e_X_test, e_y_train, e_y_test = train_test_split(y_hat_ensemble, y_test)"
   ]
  },
  {
   "cell_type": "code",
   "execution_count": 59,
   "metadata": {},
   "outputs": [
    {
     "data": {
      "text/plain": [
       "(163890, 2)"
      ]
     },
     "execution_count": 59,
     "metadata": {},
     "output_type": "execute_result"
    }
   ],
   "source": [
    "y_hat_ensemble.shape"
   ]
  },
  {
   "cell_type": "code",
   "execution_count": 60,
   "metadata": {},
   "outputs": [
    {
     "data": {
      "text/html": [
       "<div>\n",
       "<style>\n",
       "    .dataframe thead tr:only-child th {\n",
       "        text-align: right;\n",
       "    }\n",
       "\n",
       "    .dataframe thead th {\n",
       "        text-align: left;\n",
       "    }\n",
       "\n",
       "    .dataframe tbody tr th {\n",
       "        vertical-align: top;\n",
       "    }\n",
       "</style>\n",
       "<table border=\"1\" class=\"dataframe\">\n",
       "  <thead>\n",
       "    <tr style=\"text-align: right;\">\n",
       "      <th></th>\n",
       "      <th>0</th>\n",
       "      <th>1</th>\n",
       "    </tr>\n",
       "  </thead>\n",
       "  <tbody>\n",
       "    <tr>\n",
       "      <th>0</th>\n",
       "      <td>142651.625</td>\n",
       "      <td>150129.84</td>\n",
       "    </tr>\n",
       "  </tbody>\n",
       "</table>\n",
       "</div>"
      ],
      "text/plain": [
       "            0          1\n",
       "0  142651.625  150129.84"
      ]
     },
     "execution_count": 60,
     "metadata": {},
     "output_type": "execute_result"
    }
   ],
   "source": [
    "y_hat_ensemble.iloc[0:1]"
   ]
  },
  {
   "cell_type": "code",
   "execution_count": 20,
   "metadata": {},
   "outputs": [
    {
     "data": {
      "text/plain": [
       "XGBRegressor(base_score=0.5, colsample_bylevel=1, colsample_bytree=1, gamma=0,\n",
       "       learning_rate=0.1, max_delta_step=0, max_depth=8,\n",
       "       min_child_weight=1, missing=None, n_estimators=500, nthread=-1,\n",
       "       objective='reg:linear', reg_alpha=0, reg_lambda=1,\n",
       "       scale_pos_weight=1, seed=0, silent=True, subsample=1)"
      ]
     },
     "execution_count": 20,
     "metadata": {},
     "output_type": "execute_result"
    }
   ],
   "source": [
    "combiner = XGBRegressor(learning_rate=0.1, n_estimators=500, max_depth=8)\n",
    "combiner.fit(e_X_train, e_y_train)"
   ]
  },
  {
   "cell_type": "code",
   "execution_count": 22,
   "metadata": {},
   "outputs": [
    {
     "name": "stdout",
     "output_type": "stream",
     "text": [
      "RandomForestRegressor\n",
      "R2 score: 0.665\n",
      "Mean Squared Error score: 889854.248\n",
      "Mean Absolute Error score: 186831.209\n",
      "Median absolute error: 63886.400\n"
     ]
    }
   ],
   "source": [
    "combiner_RF = RandomForestRegressor(n_jobs=-1, n_estimators=250)\n",
    "combiner_RF.fit(e_X_train, e_y_train)\n",
    "print_scores(combiner_RF, e_X_test, e_y_test)"
   ]
  },
  {
   "cell_type": "code",
   "execution_count": null,
   "metadata": {
    "collapsed": true
   },
   "outputs": [],
   "source": [
    "# XGBRegressor(learning_rate=0.1, n_estimators=400, max_depth=8)\n",
    "print_scores(combiner, e_X_test, e_y_test)"
   ]
  },
  {
   "cell_type": "code",
   "execution_count": 21,
   "metadata": {},
   "outputs": [
    {
     "name": "stdout",
     "output_type": "stream",
     "text": [
      "XGBRegressor\n",
      "R2 score: 0.665\n",
      "Mean Squared Error score: 890843.912\n",
      "Mean Absolute Error score: 174703.812\n",
      "Median absolute error: 56252.406\n"
     ]
    }
   ],
   "source": [
    "# XGBRegressor(learning_rate=0.1, n_estimators=500, max_depth=8)\n",
    "print_scores(combiner, e_X_test, e_y_test)"
   ]
  },
  {
   "cell_type": "code",
   "execution_count": 72,
   "metadata": {},
   "outputs": [
    {
     "data": {
      "text/plain": [
       "533777.9203366898"
      ]
     },
     "execution_count": 72,
     "metadata": {},
     "output_type": "execute_result"
    }
   ],
   "source": [
    "np.mean(y)"
   ]
  },
  {
   "cell_type": "code",
   "execution_count": null,
   "metadata": {
    "collapsed": true
   },
   "outputs": [],
   "source": []
  }
 ],
 "metadata": {
  "kernelspec": {
   "display_name": "Python 3",
   "language": "python",
   "name": "python3"
  },
  "language_info": {
   "codemirror_mode": {
    "name": "ipython",
    "version": 3
   },
   "file_extension": ".py",
   "mimetype": "text/x-python",
   "name": "python",
   "nbconvert_exporter": "python",
   "pygments_lexer": "ipython3",
   "version": "3.6.1"
  }
 },
 "nbformat": 4,
 "nbformat_minor": 2
}
