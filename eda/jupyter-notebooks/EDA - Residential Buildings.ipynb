{
 "cells": [
  {
   "cell_type": "code",
   "execution_count": 1,
   "metadata": {
    "collapsed": true
   },
   "outputs": [],
   "source": [
    "import pandas as pd"
   ]
  },
  {
   "cell_type": "code",
   "execution_count": 2,
   "metadata": {
    "collapsed": true
   },
   "outputs": [],
   "source": [
    "file_path = '/Users/MHollowed/Desktop/final_project/HousingPricePredictor/data/csvs/EXTR_ResBldg.csv'\n",
    "df = pd.read_csv(file_path, nrows=1000)"
   ]
  },
  {
   "cell_type": "code",
   "execution_count": 3,
   "metadata": {
    "collapsed": false
   },
   "outputs": [
    {
     "name": "stdout",
     "output_type": "stream",
     "text": [
      "<class 'pandas.core.frame.DataFrame'>\n",
      "RangeIndex: 1000 entries, 0 to 999\n",
      "Data columns (total 50 columns):\n",
      "Major                 1000 non-null int64\n",
      "Minor                 1000 non-null int64\n",
      "BldgNbr               1000 non-null int64\n",
      "NbrLivingUnits        1000 non-null int64\n",
      "Address               1000 non-null object\n",
      "BuildingNumber        1000 non-null int64\n",
      "Fraction              1000 non-null object\n",
      "DirectionPrefix       1000 non-null object\n",
      "StreetName            1000 non-null object\n",
      "StreetType            1000 non-null object\n",
      "DirectionSuffix       1000 non-null object\n",
      "ZipCode               945 non-null float64\n",
      "Stories               1000 non-null float64\n",
      "BldgGrade             1000 non-null int64\n",
      "BldgGradeVar          1000 non-null int64\n",
      "SqFt1stFloor          1000 non-null int64\n",
      "SqFtHalfFloor         1000 non-null int64\n",
      "SqFt2ndFloor          1000 non-null int64\n",
      "SqFtUpperFloor        1000 non-null int64\n",
      "SqFtUnfinFull         1000 non-null int64\n",
      "SqFtUnfinHalf         1000 non-null int64\n",
      "SqFtTotLiving         1000 non-null int64\n",
      "SqFtTotBasement       1000 non-null int64\n",
      "SqFtFinBasement       1000 non-null int64\n",
      "FinBasementGrade      1000 non-null int64\n",
      "SqFtGarageBasement    1000 non-null int64\n",
      "SqFtGarageAttached    1000 non-null int64\n",
      "DaylightBasement      1000 non-null object\n",
      "SqFtOpenPorch         1000 non-null int64\n",
      "SqFtEnclosedPorch     1000 non-null int64\n",
      "SqFtDeck              1000 non-null int64\n",
      "HeatSystem            1000 non-null int64\n",
      "HeatSource            1000 non-null int64\n",
      "BrickStone            1000 non-null int64\n",
      "ViewUtilization       1000 non-null object\n",
      "Bedrooms              1000 non-null int64\n",
      "BathHalfCount         1000 non-null int64\n",
      "Bath3qtrCount         1000 non-null int64\n",
      "BathFullCount         1000 non-null int64\n",
      "FpSingleStory         1000 non-null int64\n",
      "FpMultiStory          1000 non-null int64\n",
      "FpFreestanding        1000 non-null int64\n",
      "FpAdditional          1000 non-null int64\n",
      "YrBuilt               1000 non-null int64\n",
      "YrRenovated           1000 non-null int64\n",
      "PcntComplete          1000 non-null int64\n",
      "Obsolescence          1000 non-null int64\n",
      "PcntNetCondition      1000 non-null int64\n",
      "Condition             1000 non-null int64\n",
      "AddnlCost             1000 non-null int64\n",
      "dtypes: float64(2), int64(40), object(8)\n",
      "memory usage: 390.7+ KB\n"
     ]
    }
   ],
   "source": [
    "df.info()"
   ]
  },
  {
   "cell_type": "code",
   "execution_count": null,
   "metadata": {
    "collapsed": true
   },
   "outputs": [],
   "source": []
  },
  {
   "cell_type": "code",
   "execution_count": null,
   "metadata": {
    "collapsed": true
   },
   "outputs": [],
   "source": []
  },
  {
   "cell_type": "code",
   "execution_count": null,
   "metadata": {
    "collapsed": true
   },
   "outputs": [],
   "source": []
  }
 ],
 "metadata": {
  "kernelspec": {
   "display_name": "Python 3",
   "language": "python",
   "name": "python3"
  },
  "language_info": {
   "codemirror_mode": {
    "name": "ipython",
    "version": 3
   },
   "file_extension": ".py",
   "mimetype": "text/x-python",
   "name": "python",
   "nbconvert_exporter": "python",
   "pygments_lexer": "ipython3",
   "version": "3.6.0"
  }
 },
 "nbformat": 4,
 "nbformat_minor": 2
}
